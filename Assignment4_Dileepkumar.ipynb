{
  "cells": [
    {
      "cell_type": "markdown",
      "metadata": {
        "id": "dK6eKmWO5ytE"
      },
      "source": [
        "#**Assignment 4**\n",
        "\n",
        "##Boston Housing Dataset\n",
        "Predicting Median value of owner-occupied homes.\n",
        "\n",
        "The aim of this assignment is to learn the application of machine learning algorithms to data sets. This involves learning what data means, how to handle data, training, cross validation, prediction, testing your model, etc.\n",
        "\n",
        "This dataset contains information collected by the U.S Census Service concerning housing in the area of Boston Mass. It was obtained from the StatLib archive, and has been used extensively throughout the literature to benchmark algorithms. The data was originally published by Harrison, D. and Rubinfeld, D.L. Hedonic prices and the demand for clean air', J. Environ. Economics & Management, vol.5, 81-102, 1978.\n",
        "\n",
        "The dataset is small in size with only 506 cases. It can be used to predict the median value of a home, which is done here. There are 14 attributes in each case of the dataset. They are:\n",
        "\n",
        "\n",
        "CRIM - per capita crime rate by town\n",
        "\n",
        "ZN - proportion of residential land zoned for lots over 25,000 sq.ft.\n",
        "\n",
        "INDUS - proportion of non-retail business acres per town.\n",
        "\n",
        "CHAS - Charles River dummy variable (1 if tract bounds river; 0 otherwise)\n",
        "\n",
        "NOX - nitric oxides concentration (parts per 10 million)\n",
        "\n",
        "RM - average number of rooms per dwelling\n",
        "\n",
        "AGE - proportion of owner-occupied units built prior to 1940\n",
        "\n",
        "DIS - weighted distances to five Boston employment centres\n",
        "\n",
        "RAD - index of accessibility to radial highways\n",
        "\n",
        "TAX - full-value property-tax rate per $10,000\n",
        "\n",
        "PTRATIO - pupil-teacher ratio by town where Bk is the proportion of blacks by town\n",
        "\n",
        "LSTAT - % lower status of the population\n",
        "\n",
        "MEDV - Median value of owner-occupied homes in $1000's\n",
        "\n",
        "###Aim\n",
        "\n",
        "--> To implement a linear regression with regularization via gradient descent.\n",
        "\n",
        "--> to implement gradient descent with Lp norm, for 3 different values of p in (1,2]\n",
        "\n",
        "--> To contrast the difference between performance of linear regression Lp norm and L2 norm for these 3 different values.\n",
        "\n",
        "--> Tally that the gradient descent for L2 gives same result as matrix inversion based solution.\n",
        "\n",
        "All the code is written in a single python file. The python program accepts the data directory path as input where the train and test csv files reside. Note that the data directory will contain two files train.csv used to train your model and test.csv for which the output predictions are to be made. The output predictions get written to a file named output.csv. The output.csv file should have two comma separated columns [ID,Output].\n",
        "\n",
        "###Working of Code\n",
        "\n",
        "--> NumPy library would be required, so code begins by importing it\n",
        "\n",
        "--> Import phi and phi_test from train and test datasets using NumPy's loadtxt function\n",
        "\n",
        "--> Import y from train dataset using the loadtxt function\n",
        "\n",
        "--> Concatenate coloumn of 1s to right of phi and phi_test\n",
        "\n",
        "--> Apply min max scaling on each coloumn of phi and phi_test\n",
        "\n",
        "--> Apply log scaling on y\n",
        "\n",
        "--> Define a function to calculate change in error function based on phi, w and p norm\n",
        "--> Make a dictionary containing filenames as keys and p as values\n",
        "--> For each item in this dictionary\n",
        "    --> Set the w to all 0s\n",
        "    --> Set an appropriate value for lambda and step size\n",
        "    --> Calculate new value of w\n",
        "    --> Repeat steps until error between consecutive ws is less than threshold\n",
        "    --> Load values of id from test data file\n",
        "    --> Calculate y for test data using phi test and applying inverse log\n",
        "    --> Save the ids and y according to filename from dictionary\n",
        "###Feature Engineering\n",
        "--> Columns of phi are not in same range, this is because their units are different i.e phi is ill conditioned\n",
        "\n",
        "--> So, min max scaling for each column is applied to bring them in range 0-1\n",
        "\n",
        "--> Same scaling would be required on columns of phi test\n",
        "\n",
        "--> Log scaling was used on y. This was determined by trial and error\n",
        "\n",
        "###Comparison of performance\n",
        "(p1=1.75, p2=1.5, p3=1.3)\n",
        "\n",
        "--> As p decreases error in y decreases\n",
        "\n",
        "--> As p decreases norm of w increases but this can be taken care by increasing \n",
        "lambda\n",
        "\n",
        "--> As p decreases number of iterations required decreases\n",
        "\n",
        "###Tuning of Hyperparameter\n",
        "If p is fixed and lambda is increased error decreases up to a certain lambda, then it starts rising\n",
        "\n",
        "--> So, lambda was tuned by trial and error.\n",
        "\n",
        "--> Starting with 0, lambda was increased in small steps until a minimum error was achieved.\n",
        "###Comparison of L2 gradient descent and closed form\n",
        "--> Error from L2 Gradient descent were 4.43268 and that from closed form solution was 4.52624.\n",
        "\n",
        "--> Errors are comparable so, the L2 gradient descent performs closely with closed form solution."
      ]
    },
    {
      "cell_type": "markdown",
      "metadata": {
        "id": "xts_i_TO7tOr"
      },
      "source": [
        "##**1. Importing Required Library and Packages**"
      ]
    },
    {
      "cell_type": "code",
      "execution_count": 53,
      "metadata": {
        "id": "7YyzFpxU5H3n"
      },
      "outputs": [],
      "source": [
        "import pandas as pd\n",
        "import numpy as np\n",
        "import matplotlib.pyplot as plt \n",
        "import seaborn as sns \n",
        "\n",
        "%matplotlib inline\n",
        "from sklearn.ensemble import GradientBoostingRegressor\n",
        "from sklearn.model_selection import train_test_split\n",
        "from sklearn.metrics import mean_squared_error\n",
        "from sklearn.datasets import load_boston\n",
        "from sklearn.metrics import mean_absolute_error\n",
        "from sklearn.linear_model import Ridge, Lasso, ElasticNet"
      ]
    },
    {
      "cell_type": "code",
      "execution_count": 54,
      "metadata": {
        "colab": {
          "base_uri": "https://localhost:8080/",
          "height": 206
        },
        "id": "CdOSLfKC74vZ",
        "outputId": "095019d4-da3b-4f9c-d9f9-348d502b9955"
      },
      "outputs": [
        {
          "output_type": "execute_result",
          "data": {
            "text/plain": [
              "   ID     CRIM    ZN  INDUS  CHAS    NOX     RM    AGE     DIS  RAD    TAX  \\\n",
              "0   0  0.95577   0.0   8.14     0  0.538  6.047   88.8  4.4534    4  307.0   \n",
              "1   1  0.02875  28.0  15.04     0  0.464  6.211   28.9  3.6659    4  270.0   \n",
              "2   2  1.22358   0.0  19.58     0  0.605  6.943   97.4  1.8773    5  403.0   \n",
              "3   3  5.66637   0.0  18.10     0  0.740  6.219  100.0  2.0048   24  666.0   \n",
              "4   4  0.04544   0.0   3.24     0  0.460  6.144   32.2  5.8736    4  430.0   \n",
              "\n",
              "   PTRATIO       B  LSTAT  MEDV  \n",
              "0     21.0  306.38  17.28  14.8  \n",
              "1     18.2  396.33   6.21  25.0  \n",
              "2     14.7  363.43   4.59  41.3  \n",
              "3     20.2  395.69  16.59  18.4  \n",
              "4     16.9  368.57   9.09  19.8  "
            ],
            "text/html": [
              "\n",
              "  <div id=\"df-0d5dfbde-47c8-42cf-b56c-87e8151d579d\">\n",
              "    <div class=\"colab-df-container\">\n",
              "      <div>\n",
              "<style scoped>\n",
              "    .dataframe tbody tr th:only-of-type {\n",
              "        vertical-align: middle;\n",
              "    }\n",
              "\n",
              "    .dataframe tbody tr th {\n",
              "        vertical-align: top;\n",
              "    }\n",
              "\n",
              "    .dataframe thead th {\n",
              "        text-align: right;\n",
              "    }\n",
              "</style>\n",
              "<table border=\"1\" class=\"dataframe\">\n",
              "  <thead>\n",
              "    <tr style=\"text-align: right;\">\n",
              "      <th></th>\n",
              "      <th>ID</th>\n",
              "      <th>CRIM</th>\n",
              "      <th>ZN</th>\n",
              "      <th>INDUS</th>\n",
              "      <th>CHAS</th>\n",
              "      <th>NOX</th>\n",
              "      <th>RM</th>\n",
              "      <th>AGE</th>\n",
              "      <th>DIS</th>\n",
              "      <th>RAD</th>\n",
              "      <th>TAX</th>\n",
              "      <th>PTRATIO</th>\n",
              "      <th>B</th>\n",
              "      <th>LSTAT</th>\n",
              "      <th>MEDV</th>\n",
              "    </tr>\n",
              "  </thead>\n",
              "  <tbody>\n",
              "    <tr>\n",
              "      <th>0</th>\n",
              "      <td>0</td>\n",
              "      <td>0.95577</td>\n",
              "      <td>0.0</td>\n",
              "      <td>8.14</td>\n",
              "      <td>0</td>\n",
              "      <td>0.538</td>\n",
              "      <td>6.047</td>\n",
              "      <td>88.8</td>\n",
              "      <td>4.4534</td>\n",
              "      <td>4</td>\n",
              "      <td>307.0</td>\n",
              "      <td>21.0</td>\n",
              "      <td>306.38</td>\n",
              "      <td>17.28</td>\n",
              "      <td>14.8</td>\n",
              "    </tr>\n",
              "    <tr>\n",
              "      <th>1</th>\n",
              "      <td>1</td>\n",
              "      <td>0.02875</td>\n",
              "      <td>28.0</td>\n",
              "      <td>15.04</td>\n",
              "      <td>0</td>\n",
              "      <td>0.464</td>\n",
              "      <td>6.211</td>\n",
              "      <td>28.9</td>\n",
              "      <td>3.6659</td>\n",
              "      <td>4</td>\n",
              "      <td>270.0</td>\n",
              "      <td>18.2</td>\n",
              "      <td>396.33</td>\n",
              "      <td>6.21</td>\n",
              "      <td>25.0</td>\n",
              "    </tr>\n",
              "    <tr>\n",
              "      <th>2</th>\n",
              "      <td>2</td>\n",
              "      <td>1.22358</td>\n",
              "      <td>0.0</td>\n",
              "      <td>19.58</td>\n",
              "      <td>0</td>\n",
              "      <td>0.605</td>\n",
              "      <td>6.943</td>\n",
              "      <td>97.4</td>\n",
              "      <td>1.8773</td>\n",
              "      <td>5</td>\n",
              "      <td>403.0</td>\n",
              "      <td>14.7</td>\n",
              "      <td>363.43</td>\n",
              "      <td>4.59</td>\n",
              "      <td>41.3</td>\n",
              "    </tr>\n",
              "    <tr>\n",
              "      <th>3</th>\n",
              "      <td>3</td>\n",
              "      <td>5.66637</td>\n",
              "      <td>0.0</td>\n",
              "      <td>18.10</td>\n",
              "      <td>0</td>\n",
              "      <td>0.740</td>\n",
              "      <td>6.219</td>\n",
              "      <td>100.0</td>\n",
              "      <td>2.0048</td>\n",
              "      <td>24</td>\n",
              "      <td>666.0</td>\n",
              "      <td>20.2</td>\n",
              "      <td>395.69</td>\n",
              "      <td>16.59</td>\n",
              "      <td>18.4</td>\n",
              "    </tr>\n",
              "    <tr>\n",
              "      <th>4</th>\n",
              "      <td>4</td>\n",
              "      <td>0.04544</td>\n",
              "      <td>0.0</td>\n",
              "      <td>3.24</td>\n",
              "      <td>0</td>\n",
              "      <td>0.460</td>\n",
              "      <td>6.144</td>\n",
              "      <td>32.2</td>\n",
              "      <td>5.8736</td>\n",
              "      <td>4</td>\n",
              "      <td>430.0</td>\n",
              "      <td>16.9</td>\n",
              "      <td>368.57</td>\n",
              "      <td>9.09</td>\n",
              "      <td>19.8</td>\n",
              "    </tr>\n",
              "  </tbody>\n",
              "</table>\n",
              "</div>\n",
              "      <button class=\"colab-df-convert\" onclick=\"convertToInteractive('df-0d5dfbde-47c8-42cf-b56c-87e8151d579d')\"\n",
              "              title=\"Convert this dataframe to an interactive table.\"\n",
              "              style=\"display:none;\">\n",
              "        \n",
              "  <svg xmlns=\"http://www.w3.org/2000/svg\" height=\"24px\"viewBox=\"0 0 24 24\"\n",
              "       width=\"24px\">\n",
              "    <path d=\"M0 0h24v24H0V0z\" fill=\"none\"/>\n",
              "    <path d=\"M18.56 5.44l.94 2.06.94-2.06 2.06-.94-2.06-.94-.94-2.06-.94 2.06-2.06.94zm-11 1L8.5 8.5l.94-2.06 2.06-.94-2.06-.94L8.5 2.5l-.94 2.06-2.06.94zm10 10l.94 2.06.94-2.06 2.06-.94-2.06-.94-.94-2.06-.94 2.06-2.06.94z\"/><path d=\"M17.41 7.96l-1.37-1.37c-.4-.4-.92-.59-1.43-.59-.52 0-1.04.2-1.43.59L10.3 9.45l-7.72 7.72c-.78.78-.78 2.05 0 2.83L4 21.41c.39.39.9.59 1.41.59.51 0 1.02-.2 1.41-.59l7.78-7.78 2.81-2.81c.8-.78.8-2.07 0-2.86zM5.41 20L4 18.59l7.72-7.72 1.47 1.35L5.41 20z\"/>\n",
              "  </svg>\n",
              "      </button>\n",
              "      \n",
              "  <style>\n",
              "    .colab-df-container {\n",
              "      display:flex;\n",
              "      flex-wrap:wrap;\n",
              "      gap: 12px;\n",
              "    }\n",
              "\n",
              "    .colab-df-convert {\n",
              "      background-color: #E8F0FE;\n",
              "      border: none;\n",
              "      border-radius: 50%;\n",
              "      cursor: pointer;\n",
              "      display: none;\n",
              "      fill: #1967D2;\n",
              "      height: 32px;\n",
              "      padding: 0 0 0 0;\n",
              "      width: 32px;\n",
              "    }\n",
              "\n",
              "    .colab-df-convert:hover {\n",
              "      background-color: #E2EBFA;\n",
              "      box-shadow: 0px 1px 2px rgba(60, 64, 67, 0.3), 0px 1px 3px 1px rgba(60, 64, 67, 0.15);\n",
              "      fill: #174EA6;\n",
              "    }\n",
              "\n",
              "    [theme=dark] .colab-df-convert {\n",
              "      background-color: #3B4455;\n",
              "      fill: #D2E3FC;\n",
              "    }\n",
              "\n",
              "    [theme=dark] .colab-df-convert:hover {\n",
              "      background-color: #434B5C;\n",
              "      box-shadow: 0px 1px 3px 1px rgba(0, 0, 0, 0.15);\n",
              "      filter: drop-shadow(0px 1px 2px rgba(0, 0, 0, 0.3));\n",
              "      fill: #FFFFFF;\n",
              "    }\n",
              "  </style>\n",
              "\n",
              "      <script>\n",
              "        const buttonEl =\n",
              "          document.querySelector('#df-0d5dfbde-47c8-42cf-b56c-87e8151d579d button.colab-df-convert');\n",
              "        buttonEl.style.display =\n",
              "          google.colab.kernel.accessAllowed ? 'block' : 'none';\n",
              "\n",
              "        async function convertToInteractive(key) {\n",
              "          const element = document.querySelector('#df-0d5dfbde-47c8-42cf-b56c-87e8151d579d');\n",
              "          const dataTable =\n",
              "            await google.colab.kernel.invokeFunction('convertToInteractive',\n",
              "                                                     [key], {});\n",
              "          if (!dataTable) return;\n",
              "\n",
              "          const docLinkHtml = 'Like what you see? Visit the ' +\n",
              "            '<a target=\"_blank\" href=https://colab.research.google.com/notebooks/data_table.ipynb>data table notebook</a>'\n",
              "            + ' to learn more about interactive tables.';\n",
              "          element.innerHTML = '';\n",
              "          dataTable['output_type'] = 'display_data';\n",
              "          await google.colab.output.renderOutput(dataTable, element);\n",
              "          const docLink = document.createElement('div');\n",
              "          docLink.innerHTML = docLinkHtml;\n",
              "          element.appendChild(docLink);\n",
              "        }\n",
              "      </script>\n",
              "    </div>\n",
              "  </div>\n",
              "  "
            ]
          },
          "metadata": {},
          "execution_count": 54
        }
      ],
      "source": [
        "df = pd.read_csv('https://raw.githubusercontent.com/JOHANDILEEP21/Tasks6/main/Data/train.csv')\n",
        "df.head()"
      ]
    },
    {
      "cell_type": "code",
      "execution_count": 55,
      "metadata": {
        "colab": {
          "base_uri": "https://localhost:8080/"
        },
        "id": "Jw3DytPv9t7h",
        "outputId": "b83bf767-e9ae-46b2-cf42-972190604753"
      },
      "outputs": [
        {
          "output_type": "stream",
          "name": "stdout",
          "text": [
            "<class 'pandas.core.frame.DataFrame'>\n",
            "RangeIndex: 400 entries, 0 to 399\n",
            "Data columns (total 15 columns):\n",
            " #   Column   Non-Null Count  Dtype  \n",
            "---  ------   --------------  -----  \n",
            " 0   ID       400 non-null    int64  \n",
            " 1   CRIM     400 non-null    float64\n",
            " 2   ZN       400 non-null    float64\n",
            " 3   INDUS    400 non-null    float64\n",
            " 4   CHAS     400 non-null    int64  \n",
            " 5   NOX      400 non-null    float64\n",
            " 6   RM       400 non-null    float64\n",
            " 7   AGE      400 non-null    float64\n",
            " 8   DIS      400 non-null    float64\n",
            " 9   RAD      400 non-null    int64  \n",
            " 10  TAX      400 non-null    float64\n",
            " 11  PTRATIO  400 non-null    float64\n",
            " 12  B        400 non-null    float64\n",
            " 13  LSTAT    400 non-null    float64\n",
            " 14  MEDV     400 non-null    float64\n",
            "dtypes: float64(12), int64(3)\n",
            "memory usage: 47.0 KB\n"
          ]
        }
      ],
      "source": [
        "df.info()"
      ]
    },
    {
      "cell_type": "code",
      "execution_count": 56,
      "metadata": {
        "colab": {
          "base_uri": "https://localhost:8080/"
        },
        "id": "Q__mRKVi9y-2",
        "outputId": "67b89fa4-1d7c-4e41-b08a-dc1788fd340c"
      },
      "outputs": [
        {
          "output_type": "execute_result",
          "data": {
            "text/plain": [
              "ID         0\n",
              "CRIM       0\n",
              "ZN         0\n",
              "INDUS      0\n",
              "CHAS       0\n",
              "NOX        0\n",
              "RM         0\n",
              "AGE        0\n",
              "DIS        0\n",
              "RAD        0\n",
              "TAX        0\n",
              "PTRATIO    0\n",
              "B          0\n",
              "LSTAT      0\n",
              "MEDV       0\n",
              "dtype: int64"
            ]
          },
          "metadata": {},
          "execution_count": 56
        }
      ],
      "source": [
        "df.isnull().sum()"
      ]
    },
    {
      "cell_type": "code",
      "execution_count": 57,
      "metadata": {
        "colab": {
          "base_uri": "https://localhost:8080/"
        },
        "id": "GM2JX8bs-8Ud",
        "outputId": "b2223d5e-6080-459a-fce9-eb052165656b"
      },
      "outputs": [
        {
          "output_type": "execute_result",
          "data": {
            "text/plain": [
              "(400, 15)"
            ]
          },
          "metadata": {},
          "execution_count": 57
        }
      ],
      "source": [
        "df.shape"
      ]
    },
    {
      "cell_type": "code",
      "execution_count": 58,
      "metadata": {
        "id": "_UrqSfhT-KeF"
      },
      "outputs": [],
      "source": [
        "df = df.drop_duplicates()"
      ]
    },
    {
      "cell_type": "code",
      "execution_count": 59,
      "metadata": {
        "colab": {
          "base_uri": "https://localhost:8080/"
        },
        "id": "Mi3VravcX8PU",
        "outputId": "09931e05-83a5-4544-85f3-c966e24a12be"
      },
      "outputs": [
        {
          "output_type": "execute_result",
          "data": {
            "text/plain": [
              "(400, 15)"
            ]
          },
          "metadata": {},
          "execution_count": 59
        }
      ],
      "source": [
        "df.shape"
      ]
    },
    {
      "cell_type": "markdown",
      "metadata": {
        "id": "QKMmx5n-96Hl"
      },
      "source": [
        "##The given data is already clean."
      ]
    },
    {
      "cell_type": "markdown",
      "metadata": {
        "id": "y_lNlIm_Xwe9"
      },
      "source": [
        "##**Encoding**\n",
        "Already the columns of CHAS are encoded."
      ]
    },
    {
      "cell_type": "markdown",
      "metadata": {
        "id": "GQHs9tleYKIr"
      },
      "source": [
        "##**OUTLIERS EXIST OR NOT and EDA**"
      ]
    },
    {
      "cell_type": "code",
      "execution_count": 60,
      "metadata": {
        "colab": {
          "base_uri": "https://localhost:8080/",
          "height": 520
        },
        "id": "ZdE0-Nap_BM-",
        "outputId": "c9db3652-51ec-4bd1-fcb9-73efb817f83d"
      },
      "outputs": [
        {
          "output_type": "execute_result",
          "data": {
            "text/plain": [
              "         count        mean         std        min        25%        50%  \\\n",
              "ID       400.0  199.500000  115.614301    0.00000   99.75000  199.50000   \n",
              "CRIM     400.0    3.757191    9.155496    0.00906    0.07782    0.24217   \n",
              "ZN       400.0   10.970000   22.796261    0.00000    0.00000    0.00000   \n",
              "INDUS    400.0   10.936425    6.848042    0.46000    5.13000    8.56000   \n",
              "CHAS     400.0    0.072500    0.259639    0.00000    0.00000    0.00000   \n",
              "NOX      400.0    0.552817    0.115488    0.38500    0.44900    0.53200   \n",
              "RM       400.0    6.292165    0.709923    4.13800    5.87750    6.20850   \n",
              "AGE      400.0   68.086000   28.386888    2.90000   42.37500   76.95000   \n",
              "DIS      400.0    3.819462    2.132445    1.12960    2.10915    3.27210   \n",
              "RAD      400.0    9.462500    8.687478    1.00000    4.00000    5.00000   \n",
              "TAX      400.0  403.797500  169.656816  187.00000  277.00000  329.00000   \n",
              "PTRATIO  400.0   18.459000    2.148105   12.60000   17.40000   18.95000   \n",
              "B        400.0  359.455375   86.732906    0.32000  376.11500  391.57500   \n",
              "LSTAT    400.0   12.668525    7.207047    1.92000    6.99000   10.87500   \n",
              "MEDV     400.0   22.475750    9.218611    5.00000   17.10000   21.00000   \n",
              "\n",
              "                75%       max  \n",
              "ID       299.250000  399.0000  \n",
              "CRIM       3.543427   88.9762  \n",
              "ZN        12.500000   95.0000  \n",
              "INDUS     18.100000   27.7400  \n",
              "CHAS       0.000000    1.0000  \n",
              "NOX        0.624000    0.8710  \n",
              "RM         6.620500    8.7800  \n",
              "AGE       93.825000  100.0000  \n",
              "DIS        5.214600   12.1265  \n",
              "RAD       24.000000   24.0000  \n",
              "TAX      666.000000  711.0000  \n",
              "PTRATIO   20.200000   22.0000  \n",
              "B        396.285000  396.9000  \n",
              "LSTAT     16.910000   37.9700  \n",
              "MEDV      25.000000   50.0000  "
            ],
            "text/html": [
              "\n",
              "  <div id=\"df-2556437c-4b10-49fd-aa99-9923b12c3175\">\n",
              "    <div class=\"colab-df-container\">\n",
              "      <div>\n",
              "<style scoped>\n",
              "    .dataframe tbody tr th:only-of-type {\n",
              "        vertical-align: middle;\n",
              "    }\n",
              "\n",
              "    .dataframe tbody tr th {\n",
              "        vertical-align: top;\n",
              "    }\n",
              "\n",
              "    .dataframe thead th {\n",
              "        text-align: right;\n",
              "    }\n",
              "</style>\n",
              "<table border=\"1\" class=\"dataframe\">\n",
              "  <thead>\n",
              "    <tr style=\"text-align: right;\">\n",
              "      <th></th>\n",
              "      <th>count</th>\n",
              "      <th>mean</th>\n",
              "      <th>std</th>\n",
              "      <th>min</th>\n",
              "      <th>25%</th>\n",
              "      <th>50%</th>\n",
              "      <th>75%</th>\n",
              "      <th>max</th>\n",
              "    </tr>\n",
              "  </thead>\n",
              "  <tbody>\n",
              "    <tr>\n",
              "      <th>ID</th>\n",
              "      <td>400.0</td>\n",
              "      <td>199.500000</td>\n",
              "      <td>115.614301</td>\n",
              "      <td>0.00000</td>\n",
              "      <td>99.75000</td>\n",
              "      <td>199.50000</td>\n",
              "      <td>299.250000</td>\n",
              "      <td>399.0000</td>\n",
              "    </tr>\n",
              "    <tr>\n",
              "      <th>CRIM</th>\n",
              "      <td>400.0</td>\n",
              "      <td>3.757191</td>\n",
              "      <td>9.155496</td>\n",
              "      <td>0.00906</td>\n",
              "      <td>0.07782</td>\n",
              "      <td>0.24217</td>\n",
              "      <td>3.543427</td>\n",
              "      <td>88.9762</td>\n",
              "    </tr>\n",
              "    <tr>\n",
              "      <th>ZN</th>\n",
              "      <td>400.0</td>\n",
              "      <td>10.970000</td>\n",
              "      <td>22.796261</td>\n",
              "      <td>0.00000</td>\n",
              "      <td>0.00000</td>\n",
              "      <td>0.00000</td>\n",
              "      <td>12.500000</td>\n",
              "      <td>95.0000</td>\n",
              "    </tr>\n",
              "    <tr>\n",
              "      <th>INDUS</th>\n",
              "      <td>400.0</td>\n",
              "      <td>10.936425</td>\n",
              "      <td>6.848042</td>\n",
              "      <td>0.46000</td>\n",
              "      <td>5.13000</td>\n",
              "      <td>8.56000</td>\n",
              "      <td>18.100000</td>\n",
              "      <td>27.7400</td>\n",
              "    </tr>\n",
              "    <tr>\n",
              "      <th>CHAS</th>\n",
              "      <td>400.0</td>\n",
              "      <td>0.072500</td>\n",
              "      <td>0.259639</td>\n",
              "      <td>0.00000</td>\n",
              "      <td>0.00000</td>\n",
              "      <td>0.00000</td>\n",
              "      <td>0.000000</td>\n",
              "      <td>1.0000</td>\n",
              "    </tr>\n",
              "    <tr>\n",
              "      <th>NOX</th>\n",
              "      <td>400.0</td>\n",
              "      <td>0.552817</td>\n",
              "      <td>0.115488</td>\n",
              "      <td>0.38500</td>\n",
              "      <td>0.44900</td>\n",
              "      <td>0.53200</td>\n",
              "      <td>0.624000</td>\n",
              "      <td>0.8710</td>\n",
              "    </tr>\n",
              "    <tr>\n",
              "      <th>RM</th>\n",
              "      <td>400.0</td>\n",
              "      <td>6.292165</td>\n",
              "      <td>0.709923</td>\n",
              "      <td>4.13800</td>\n",
              "      <td>5.87750</td>\n",
              "      <td>6.20850</td>\n",
              "      <td>6.620500</td>\n",
              "      <td>8.7800</td>\n",
              "    </tr>\n",
              "    <tr>\n",
              "      <th>AGE</th>\n",
              "      <td>400.0</td>\n",
              "      <td>68.086000</td>\n",
              "      <td>28.386888</td>\n",
              "      <td>2.90000</td>\n",
              "      <td>42.37500</td>\n",
              "      <td>76.95000</td>\n",
              "      <td>93.825000</td>\n",
              "      <td>100.0000</td>\n",
              "    </tr>\n",
              "    <tr>\n",
              "      <th>DIS</th>\n",
              "      <td>400.0</td>\n",
              "      <td>3.819462</td>\n",
              "      <td>2.132445</td>\n",
              "      <td>1.12960</td>\n",
              "      <td>2.10915</td>\n",
              "      <td>3.27210</td>\n",
              "      <td>5.214600</td>\n",
              "      <td>12.1265</td>\n",
              "    </tr>\n",
              "    <tr>\n",
              "      <th>RAD</th>\n",
              "      <td>400.0</td>\n",
              "      <td>9.462500</td>\n",
              "      <td>8.687478</td>\n",
              "      <td>1.00000</td>\n",
              "      <td>4.00000</td>\n",
              "      <td>5.00000</td>\n",
              "      <td>24.000000</td>\n",
              "      <td>24.0000</td>\n",
              "    </tr>\n",
              "    <tr>\n",
              "      <th>TAX</th>\n",
              "      <td>400.0</td>\n",
              "      <td>403.797500</td>\n",
              "      <td>169.656816</td>\n",
              "      <td>187.00000</td>\n",
              "      <td>277.00000</td>\n",
              "      <td>329.00000</td>\n",
              "      <td>666.000000</td>\n",
              "      <td>711.0000</td>\n",
              "    </tr>\n",
              "    <tr>\n",
              "      <th>PTRATIO</th>\n",
              "      <td>400.0</td>\n",
              "      <td>18.459000</td>\n",
              "      <td>2.148105</td>\n",
              "      <td>12.60000</td>\n",
              "      <td>17.40000</td>\n",
              "      <td>18.95000</td>\n",
              "      <td>20.200000</td>\n",
              "      <td>22.0000</td>\n",
              "    </tr>\n",
              "    <tr>\n",
              "      <th>B</th>\n",
              "      <td>400.0</td>\n",
              "      <td>359.455375</td>\n",
              "      <td>86.732906</td>\n",
              "      <td>0.32000</td>\n",
              "      <td>376.11500</td>\n",
              "      <td>391.57500</td>\n",
              "      <td>396.285000</td>\n",
              "      <td>396.9000</td>\n",
              "    </tr>\n",
              "    <tr>\n",
              "      <th>LSTAT</th>\n",
              "      <td>400.0</td>\n",
              "      <td>12.668525</td>\n",
              "      <td>7.207047</td>\n",
              "      <td>1.92000</td>\n",
              "      <td>6.99000</td>\n",
              "      <td>10.87500</td>\n",
              "      <td>16.910000</td>\n",
              "      <td>37.9700</td>\n",
              "    </tr>\n",
              "    <tr>\n",
              "      <th>MEDV</th>\n",
              "      <td>400.0</td>\n",
              "      <td>22.475750</td>\n",
              "      <td>9.218611</td>\n",
              "      <td>5.00000</td>\n",
              "      <td>17.10000</td>\n",
              "      <td>21.00000</td>\n",
              "      <td>25.000000</td>\n",
              "      <td>50.0000</td>\n",
              "    </tr>\n",
              "  </tbody>\n",
              "</table>\n",
              "</div>\n",
              "      <button class=\"colab-df-convert\" onclick=\"convertToInteractive('df-2556437c-4b10-49fd-aa99-9923b12c3175')\"\n",
              "              title=\"Convert this dataframe to an interactive table.\"\n",
              "              style=\"display:none;\">\n",
              "        \n",
              "  <svg xmlns=\"http://www.w3.org/2000/svg\" height=\"24px\"viewBox=\"0 0 24 24\"\n",
              "       width=\"24px\">\n",
              "    <path d=\"M0 0h24v24H0V0z\" fill=\"none\"/>\n",
              "    <path d=\"M18.56 5.44l.94 2.06.94-2.06 2.06-.94-2.06-.94-.94-2.06-.94 2.06-2.06.94zm-11 1L8.5 8.5l.94-2.06 2.06-.94-2.06-.94L8.5 2.5l-.94 2.06-2.06.94zm10 10l.94 2.06.94-2.06 2.06-.94-2.06-.94-.94-2.06-.94 2.06-2.06.94z\"/><path d=\"M17.41 7.96l-1.37-1.37c-.4-.4-.92-.59-1.43-.59-.52 0-1.04.2-1.43.59L10.3 9.45l-7.72 7.72c-.78.78-.78 2.05 0 2.83L4 21.41c.39.39.9.59 1.41.59.51 0 1.02-.2 1.41-.59l7.78-7.78 2.81-2.81c.8-.78.8-2.07 0-2.86zM5.41 20L4 18.59l7.72-7.72 1.47 1.35L5.41 20z\"/>\n",
              "  </svg>\n",
              "      </button>\n",
              "      \n",
              "  <style>\n",
              "    .colab-df-container {\n",
              "      display:flex;\n",
              "      flex-wrap:wrap;\n",
              "      gap: 12px;\n",
              "    }\n",
              "\n",
              "    .colab-df-convert {\n",
              "      background-color: #E8F0FE;\n",
              "      border: none;\n",
              "      border-radius: 50%;\n",
              "      cursor: pointer;\n",
              "      display: none;\n",
              "      fill: #1967D2;\n",
              "      height: 32px;\n",
              "      padding: 0 0 0 0;\n",
              "      width: 32px;\n",
              "    }\n",
              "\n",
              "    .colab-df-convert:hover {\n",
              "      background-color: #E2EBFA;\n",
              "      box-shadow: 0px 1px 2px rgba(60, 64, 67, 0.3), 0px 1px 3px 1px rgba(60, 64, 67, 0.15);\n",
              "      fill: #174EA6;\n",
              "    }\n",
              "\n",
              "    [theme=dark] .colab-df-convert {\n",
              "      background-color: #3B4455;\n",
              "      fill: #D2E3FC;\n",
              "    }\n",
              "\n",
              "    [theme=dark] .colab-df-convert:hover {\n",
              "      background-color: #434B5C;\n",
              "      box-shadow: 0px 1px 3px 1px rgba(0, 0, 0, 0.15);\n",
              "      filter: drop-shadow(0px 1px 2px rgba(0, 0, 0, 0.3));\n",
              "      fill: #FFFFFF;\n",
              "    }\n",
              "  </style>\n",
              "\n",
              "      <script>\n",
              "        const buttonEl =\n",
              "          document.querySelector('#df-2556437c-4b10-49fd-aa99-9923b12c3175 button.colab-df-convert');\n",
              "        buttonEl.style.display =\n",
              "          google.colab.kernel.accessAllowed ? 'block' : 'none';\n",
              "\n",
              "        async function convertToInteractive(key) {\n",
              "          const element = document.querySelector('#df-2556437c-4b10-49fd-aa99-9923b12c3175');\n",
              "          const dataTable =\n",
              "            await google.colab.kernel.invokeFunction('convertToInteractive',\n",
              "                                                     [key], {});\n",
              "          if (!dataTable) return;\n",
              "\n",
              "          const docLinkHtml = 'Like what you see? Visit the ' +\n",
              "            '<a target=\"_blank\" href=https://colab.research.google.com/notebooks/data_table.ipynb>data table notebook</a>'\n",
              "            + ' to learn more about interactive tables.';\n",
              "          element.innerHTML = '';\n",
              "          dataTable['output_type'] = 'display_data';\n",
              "          await google.colab.output.renderOutput(dataTable, element);\n",
              "          const docLink = document.createElement('div');\n",
              "          docLink.innerHTML = docLinkHtml;\n",
              "          element.appendChild(docLink);\n",
              "        }\n",
              "      </script>\n",
              "    </div>\n",
              "  </div>\n",
              "  "
            ]
          },
          "metadata": {},
          "execution_count": 60
        }
      ],
      "source": [
        "x = df.describe().T\n",
        "x"
      ]
    },
    {
      "cell_type": "code",
      "execution_count": 61,
      "metadata": {
        "colab": {
          "base_uri": "https://localhost:8080/"
        },
        "id": "SauS_32vX4lH",
        "outputId": "ad744f1b-3690-4737-da91-0b2b41e19d31"
      },
      "outputs": [
        {
          "output_type": "stream",
          "name": "stdout",
          "text": [
            "Outliers \u001b[1m not present in the data of \u001b[0min \u001b[1mID\u001b[0m\n",
            "##############################################\n",
            "Outliers \u001b[1mpresent\u001b[0m in the data of \u001b[1mCRIM\u001b[0m\n",
            "##############################################\n",
            "Outliers \u001b[1mpresent\u001b[0m in the data of \u001b[1mZN\u001b[0m\n",
            "##############################################\n",
            "Outliers \u001b[1m not present in the data of \u001b[0min \u001b[1mINDUS\u001b[0m\n",
            "##############################################\n",
            "Outliers \u001b[1mpresent\u001b[0m in the data of \u001b[1mCHAS\u001b[0m\n",
            "##############################################\n",
            "Outliers \u001b[1m not present in the data of \u001b[0min \u001b[1mNOX\u001b[0m\n",
            "##############################################\n",
            "Outliers \u001b[1mpresent\u001b[0m in the data of \u001b[1mRM\u001b[0m\n",
            "##############################################\n",
            "Outliers \u001b[1m not present in the data of \u001b[0min \u001b[1mAGE\u001b[0m\n",
            "##############################################\n",
            "Outliers \u001b[1mpresent\u001b[0m in the data of \u001b[1mDIS\u001b[0m\n",
            "##############################################\n",
            "Outliers \u001b[1m not present in the data of \u001b[0min \u001b[1mRAD\u001b[0m\n",
            "##############################################\n",
            "Outliers \u001b[1m not present in the data of \u001b[0min \u001b[1mTAX\u001b[0m\n",
            "##############################################\n",
            "Outliers \u001b[1mpresent\u001b[0m in the data of \u001b[1mPTRATIO\u001b[0m\n",
            "##############################################\n",
            "Outliers \u001b[1mpresent\u001b[0m in the data of \u001b[1mB\u001b[0m\n",
            "##############################################\n",
            "Outliers \u001b[1mpresent\u001b[0m in the data of \u001b[1mLSTAT\u001b[0m\n",
            "##############################################\n",
            "Outliers \u001b[1mpresent\u001b[0m in the data of \u001b[1mMEDV\u001b[0m\n",
            "##############################################\n"
          ]
        }
      ],
      "source": [
        "def outlier_presence(df):\n",
        "  for i in df.keys():\n",
        "    Q1 = df.quantile(0.25)\n",
        "    Q3 = df.quantile(0.75)\n",
        "    IQR = Q3 - Q1\n",
        "    x = (df < (Q1 -1.5 *IQR))|(df > (Q3 + 1.5 *IQR))\n",
        "    substring='True'\n",
        "    y=x[x.apply(lambda row:row.astype(str).str.contains(substring, case=False).any(), axis=1)]\n",
        "    if True in y[i].tolist():\n",
        "      print('Outliers', '\\033[1m' + 'present'+'\\033[0m' + ' in the data of','\\033[1m' + i +'\\033[0m')\n",
        "      print('##############################################')\n",
        "    else:\n",
        "      print('Outliers', '\\033[1m' + ' not present in the data of '+'\\033[0m' + 'in','\\033[1m' + i +'\\033[0m')\n",
        "      print('##############################################')\n",
        "outlier_presence(df)"
      ]
    },
    {
      "cell_type": "code",
      "execution_count": 62,
      "metadata": {
        "colab": {
          "base_uri": "https://localhost:8080/"
        },
        "id": "YsknIqiFZtJI",
        "outputId": "db2c0b41-8de9-4755-c374-eff50a50f919"
      },
      "outputs": [
        {
          "output_type": "stream",
          "name": "stdout",
          "text": [
            "\u001b[1mID\u001b[0m\n",
            "##################################\n",
            "\n",
            "Lower whisker:  -199.5\n",
            "Upper whisker:  598.5\n",
            "@@@@@@@@@@@@@@@@@@@@@@@@@@@@@@@@@@@@@@@@@@@\n",
            "\n",
            "\u001b[1mCRIM\u001b[0m\n",
            "##################################\n",
            "\n",
            "Lower whisker:  -5.1205912499999995\n",
            "Upper whisker:  8.74183875\n",
            "@@@@@@@@@@@@@@@@@@@@@@@@@@@@@@@@@@@@@@@@@@@\n",
            "\n",
            "\u001b[1mZN\u001b[0m\n",
            "##################################\n",
            "\n",
            "Lower whisker:  -18.75\n",
            "Upper whisker:  31.25\n",
            "@@@@@@@@@@@@@@@@@@@@@@@@@@@@@@@@@@@@@@@@@@@\n",
            "\n",
            "\u001b[1mINDUS\u001b[0m\n",
            "##################################\n",
            "\n",
            "Lower whisker:  -14.325000000000006\n",
            "Upper whisker:  37.55500000000001\n",
            "@@@@@@@@@@@@@@@@@@@@@@@@@@@@@@@@@@@@@@@@@@@\n",
            "\n",
            "\u001b[1mCHAS\u001b[0m\n",
            "##################################\n",
            "\n",
            "Lower whisker:  0.0\n",
            "Upper whisker:  0.0\n",
            "@@@@@@@@@@@@@@@@@@@@@@@@@@@@@@@@@@@@@@@@@@@\n",
            "\n",
            "\u001b[1mNOX\u001b[0m\n",
            "##################################\n",
            "\n",
            "Lower whisker:  0.18650000000000005\n",
            "Upper whisker:  0.8865\n",
            "@@@@@@@@@@@@@@@@@@@@@@@@@@@@@@@@@@@@@@@@@@@\n",
            "\n",
            "\u001b[1mRM\u001b[0m\n",
            "##################################\n",
            "\n",
            "Lower whisker:  4.763000000000002\n",
            "Upper whisker:  7.734999999999999\n",
            "@@@@@@@@@@@@@@@@@@@@@@@@@@@@@@@@@@@@@@@@@@@\n",
            "\n",
            "\u001b[1mAGE\u001b[0m\n",
            "##################################\n",
            "\n",
            "Lower whisker:  -34.80000000000001\n",
            "Upper whisker:  171.0\n",
            "@@@@@@@@@@@@@@@@@@@@@@@@@@@@@@@@@@@@@@@@@@@\n",
            "\n",
            "\u001b[1mDIS\u001b[0m\n",
            "##################################\n",
            "\n",
            "Lower whisker:  -2.549025\n",
            "Upper whisker:  9.872775\n",
            "@@@@@@@@@@@@@@@@@@@@@@@@@@@@@@@@@@@@@@@@@@@\n",
            "\n",
            "\u001b[1mRAD\u001b[0m\n",
            "##################################\n",
            "\n",
            "Lower whisker:  -26.0\n",
            "Upper whisker:  54.0\n",
            "@@@@@@@@@@@@@@@@@@@@@@@@@@@@@@@@@@@@@@@@@@@\n",
            "\n",
            "\u001b[1mTAX\u001b[0m\n",
            "##################################\n",
            "\n",
            "Lower whisker:  -306.5\n",
            "Upper whisker:  1249.5\n",
            "@@@@@@@@@@@@@@@@@@@@@@@@@@@@@@@@@@@@@@@@@@@\n",
            "\n",
            "\u001b[1mPTRATIO\u001b[0m\n",
            "##################################\n",
            "\n",
            "Lower whisker:  13.199999999999998\n",
            "Upper whisker:  24.4\n",
            "@@@@@@@@@@@@@@@@@@@@@@@@@@@@@@@@@@@@@@@@@@@\n",
            "\n",
            "\u001b[1mB\u001b[0m\n",
            "##################################\n",
            "\n",
            "Lower whisker:  345.86000000000007\n",
            "Upper whisker:  426.5399999999999\n",
            "@@@@@@@@@@@@@@@@@@@@@@@@@@@@@@@@@@@@@@@@@@@\n",
            "\n",
            "\u001b[1mLSTAT\u001b[0m\n",
            "##################################\n",
            "\n",
            "Lower whisker:  -7.889999999999999\n",
            "Upper whisker:  31.79\n",
            "@@@@@@@@@@@@@@@@@@@@@@@@@@@@@@@@@@@@@@@@@@@\n",
            "\n",
            "\u001b[1mMEDV\u001b[0m\n",
            "##################################\n",
            "\n",
            "Lower whisker:  5.2500000000000036\n",
            "Upper whisker:  36.849999999999994\n",
            "@@@@@@@@@@@@@@@@@@@@@@@@@@@@@@@@@@@@@@@@@@@\n",
            "\n"
          ]
        }
      ],
      "source": [
        "def lowerupper(df):\n",
        "  for i in df.keys():\n",
        "    Q1 = df[i].quantile(0.25)\n",
        "    Q3 = df[i].quantile(0.75)\n",
        "    IQR = Q3 - Q1\n",
        "    whisker_width = 1.5\n",
        "    lower = Q1 -(whisker_width *IQR)\n",
        "    upper = Q3 +(whisker_width * IQR)\n",
        "    print('\\033[1m'+ i +'\\033[0m')\n",
        "    print('##################################\\n')\n",
        "    print(\"Lower whisker: \", lower)\n",
        "    print(\"Upper whisker: \", upper)\n",
        "    print(\"@@@@@@@@@@@@@@@@@@@@@@@@@@@@@@@@@@@@@@@@@@@\\n\")\n",
        "\n",
        "lowerupper(df)"
      ]
    },
    {
      "cell_type": "code",
      "execution_count": 63,
      "metadata": {
        "colab": {
          "base_uri": "https://localhost:8080/"
        },
        "id": "rLibff0RZs6d",
        "outputId": "b24df233-9c00-42a2-8597-5b181c8d52cc"
      },
      "outputs": [
        {
          "output_type": "stream",
          "name": "stdout",
          "text": [
            "Column ID outliers = 0.00%\n",
            "Column CRIM outliers = 13.25%\n",
            "Column ZN outliers = 13.00%\n",
            "Column INDUS outliers = 0.00%\n",
            "Column CHAS outliers = 100.00%\n",
            "Column NOX outliers = 0.00%\n",
            "Column RM outliers = 6.25%\n",
            "Column AGE outliers = 0.00%\n",
            "Column DIS outliers = 1.25%\n",
            "Column RAD outliers = 0.00%\n",
            "Column TAX outliers = 0.00%\n",
            "Column PTRATIO outliers = 3.25%\n",
            "Column B outliers = 14.50%\n",
            "Column LSTAT outliers = 1.50%\n",
            "Column MEDV outliers = 8.00%\n"
          ]
        }
      ],
      "source": [
        "for k, v in df.items():\n",
        "  q1 = v.quantile(0.25)\n",
        "  q3 = v.quantile(0.75)\n",
        "  iqr = q3 - q1\n",
        "  v_col = v[(v <= q1 - 1.5 * iqr) | (v >= q3 + 1.5 * iqr)]\n",
        "  perc = np.shape(v_col)[0] * 100.0 / np.shape(df)[0]\n",
        "  print('Column %s outliers = %.2f%%' % (k, perc))"
      ]
    },
    {
      "cell_type": "code",
      "execution_count": 64,
      "metadata": {
        "colab": {
          "base_uri": "https://localhost:8080/",
          "height": 724
        },
        "id": "2A8cY0pIZswh",
        "outputId": "521e7209-00e0-405e-97aa-2fd159b85bf6"
      },
      "outputs": [
        {
          "output_type": "execute_result",
          "data": {
            "text/plain": [
              "<matplotlib.axes._subplots.AxesSubplot at 0x7fadf6797690>"
            ]
          },
          "metadata": {},
          "execution_count": 64
        },
        {
          "output_type": "display_data",
          "data": {
            "text/plain": [
              "<Figure size 1152x864 with 2 Axes>"
            ],
            "image/png": "[encoded data removed]"
          },
          "metadata": {
            "needs_background": "light"
          }
        }
      ],
      "source": [
        "plt.figure(figsize=(16,12))\n",
        "sns.heatmap(df.corr(), annot=True, fmt='.2f')\n",
        "#plt.savefig('Features_correlation.png')"
      ]
    },
    {
      "cell_type": "code",
      "execution_count": 65,
      "metadata": {
        "id": "IS3Zsr-MZsl4"
      },
      "outputs": [],
      "source": [
        "sns.set_theme()"
      ]
    },
    {
      "cell_type": "markdown",
      "metadata": {
        "id": "RpReZnRlftSS"
      },
      "source": [
        "###From the correlation plot we can see greater POSITIVE correlation in the order RM < ZN < B < DIS < CHS_1"
      ]
    },
    {
      "cell_type": "code",
      "execution_count": 66,
      "metadata": {
        "colab": {
          "base_uri": "https://localhost:8080/",
          "height": 301
        },
        "id": "8YhKaBI_ZsdW",
        "outputId": "8c25fc1e-4d30-46b4-e3cb-691aabf65046"
      },
      "outputs": [
        {
          "output_type": "display_data",
          "data": {
            "text/plain": [
              "<Figure size 432x288 with 1 Axes>"
            ],
            "image/png": "[encoded data removed]"
          },
          "metadata": {}
        }
      ],
      "source": [
        "plt.title('Price of Home vs Average Home per dwelling')\n",
        "sns.scatterplot(data=df, x=df['MEDV'], y=df['RM'])\n",
        "plt.show()"
      ]
    },
    {
      "cell_type": "code",
      "execution_count": 67,
      "metadata": {
        "colab": {
          "base_uri": "https://localhost:8080/",
          "height": 112
        },
        "id": "3bsDzL_SZsWf",
        "outputId": "b2673f87-66d6-4869-d3f0-54e111806c18"
      },
      "outputs": [
        {
          "output_type": "execute_result",
          "data": {
            "text/plain": [
              "          MEDV        RM\n",
              "MEDV  1.000000  0.721489\n",
              "RM    0.721489  1.000000"
            ],
            "text/html": [
              "\n",
              "  <div id=\"df-a30e572d-8f05-4c0d-9f7e-2f220591dbeb\">\n",
              "    <div class=\"colab-df-container\">\n",
              "      <div>\n",
              "<style scoped>\n",
              "    .dataframe tbody tr th:only-of-type {\n",
              "        vertical-align: middle;\n",
              "    }\n",
              "\n",
              "    .dataframe tbody tr th {\n",
              "        vertical-align: top;\n",
              "    }\n",
              "\n",
              "    .dataframe thead th {\n",
              "        text-align: right;\n",
              "    }\n",
              "</style>\n",
              "<table border=\"1\" class=\"dataframe\">\n",
              "  <thead>\n",
              "    <tr style=\"text-align: right;\">\n",
              "      <th></th>\n",
              "      <th>MEDV</th>\n",
              "      <th>RM</th>\n",
              "    </tr>\n",
              "  </thead>\n",
              "  <tbody>\n",
              "    <tr>\n",
              "      <th>MEDV</th>\n",
              "      <td>1.000000</td>\n",
              "      <td>0.721489</td>\n",
              "    </tr>\n",
              "    <tr>\n",
              "      <th>RM</th>\n",
              "      <td>0.721489</td>\n",
              "      <td>1.000000</td>\n",
              "    </tr>\n",
              "  </tbody>\n",
              "</table>\n",
              "</div>\n",
              "      <button class=\"colab-df-convert\" onclick=\"convertToInteractive('df-a30e572d-8f05-4c0d-9f7e-2f220591dbeb')\"\n",
              "              title=\"Convert this dataframe to an interactive table.\"\n",
              "              style=\"display:none;\">\n",
              "        \n",
              "  <svg xmlns=\"http://www.w3.org/2000/svg\" height=\"24px\"viewBox=\"0 0 24 24\"\n",
              "       width=\"24px\">\n",
              "    <path d=\"M0 0h24v24H0V0z\" fill=\"none\"/>\n",
              "    <path d=\"M18.56 5.44l.94 2.06.94-2.06 2.06-.94-2.06-.94-.94-2.06-.94 2.06-2.06.94zm-11 1L8.5 8.5l.94-2.06 2.06-.94-2.06-.94L8.5 2.5l-.94 2.06-2.06.94zm10 10l.94 2.06.94-2.06 2.06-.94-2.06-.94-.94-2.06-.94 2.06-2.06.94z\"/><path d=\"M17.41 7.96l-1.37-1.37c-.4-.4-.92-.59-1.43-.59-.52 0-1.04.2-1.43.59L10.3 9.45l-7.72 7.72c-.78.78-.78 2.05 0 2.83L4 21.41c.39.39.9.59 1.41.59.51 0 1.02-.2 1.41-.59l7.78-7.78 2.81-2.81c.8-.78.8-2.07 0-2.86zM5.41 20L4 18.59l7.72-7.72 1.47 1.35L5.41 20z\"/>\n",
              "  </svg>\n",
              "      </button>\n",
              "      \n",
              "  <style>\n",
              "    .colab-df-container {\n",
              "      display:flex;\n",
              "      flex-wrap:wrap;\n",
              "      gap: 12px;\n",
              "    }\n",
              "\n",
              "    .colab-df-convert {\n",
              "      background-color: #E8F0FE;\n",
              "      border: none;\n",
              "      border-radius: 50%;\n",
              "      cursor: pointer;\n",
              "      display: none;\n",
              "      fill: #1967D2;\n",
              "      height: 32px;\n",
              "      padding: 0 0 0 0;\n",
              "      width: 32px;\n",
              "    }\n",
              "\n",
              "    .colab-df-convert:hover {\n",
              "      background-color: #E2EBFA;\n",
              "      box-shadow: 0px 1px 2px rgba(60, 64, 67, 0.3), 0px 1px 3px 1px rgba(60, 64, 67, 0.15);\n",
              "      fill: #174EA6;\n",
              "    }\n",
              "\n",
              "    [theme=dark] .colab-df-convert {\n",
              "      background-color: #3B4455;\n",
              "      fill: #D2E3FC;\n",
              "    }\n",
              "\n",
              "    [theme=dark] .colab-df-convert:hover {\n",
              "      background-color: #434B5C;\n",
              "      box-shadow: 0px 1px 3px 1px rgba(0, 0, 0, 0.15);\n",
              "      filter: drop-shadow(0px 1px 2px rgba(0, 0, 0, 0.3));\n",
              "      fill: #FFFFFF;\n",
              "    }\n",
              "  </style>\n",
              "\n",
              "      <script>\n",
              "        const buttonEl =\n",
              "          document.querySelector('#df-a30e572d-8f05-4c0d-9f7e-2f220591dbeb button.colab-df-convert');\n",
              "        buttonEl.style.display =\n",
              "          google.colab.kernel.accessAllowed ? 'block' : 'none';\n",
              "\n",
              "        async function convertToInteractive(key) {\n",
              "          const element = document.querySelector('#df-a30e572d-8f05-4c0d-9f7e-2f220591dbeb');\n",
              "          const dataTable =\n",
              "            await google.colab.kernel.invokeFunction('convertToInteractive',\n",
              "                                                     [key], {});\n",
              "          if (!dataTable) return;\n",
              "\n",
              "          const docLinkHtml = 'Like what you see? Visit the ' +\n",
              "            '<a target=\"_blank\" href=https://colab.research.google.com/notebooks/data_table.ipynb>data table notebook</a>'\n",
              "            + ' to learn more about interactive tables.';\n",
              "          element.innerHTML = '';\n",
              "          dataTable['output_type'] = 'display_data';\n",
              "          await google.colab.output.renderOutput(dataTable, element);\n",
              "          const docLink = document.createElement('div');\n",
              "          docLink.innerHTML = docLinkHtml;\n",
              "          element.appendChild(docLink);\n",
              "        }\n",
              "      </script>\n",
              "    </div>\n",
              "  </div>\n",
              "  "
            ]
          },
          "metadata": {},
          "execution_count": 67
        }
      ],
      "source": [
        "df[['MEDV', 'RM']].corr()"
      ]
    },
    {
      "cell_type": "markdown",
      "metadata": {
        "id": "aZdbYkFdhrMK"
      },
      "source": [
        "**We've got a good Linear Relationship and Correlation**"
      ]
    },
    {
      "cell_type": "markdown",
      "metadata": {
        "id": "aNfBBMybh38r"
      },
      "source": [
        "we can see for other main factors also"
      ]
    },
    {
      "cell_type": "code",
      "execution_count": 68,
      "metadata": {
        "colab": {
          "base_uri": "https://localhost:8080/",
          "height": 301
        },
        "id": "mEBr3tzBZsPk",
        "outputId": "966aa127-bd45-4111-f170-6b5c4c017c88"
      },
      "outputs": [
        {
          "output_type": "display_data",
          "data": {
            "text/plain": [
              "<Figure size 432x288 with 1 Axes>"
            ],
            "image/png": "[encoded data removed]"
          },
          "metadata": {}
        }
      ],
      "source": [
        "plt.title('Price of Home vs Residential land zoned for lots cover 25,000 sq.ft')\n",
        "sns.scatterplot(data=df, x=df['MEDV'], y=df['ZN'])\n",
        "plt.show()"
      ]
    },
    {
      "cell_type": "code",
      "execution_count": 69,
      "metadata": {
        "colab": {
          "base_uri": "https://localhost:8080/",
          "height": 112
        },
        "id": "7HGVwdzIZsIL",
        "outputId": "5ecd3f68-0548-43ab-c3c9-a0a034d877e8"
      },
      "outputs": [
        {
          "output_type": "execute_result",
          "data": {
            "text/plain": [
              "          MEDV        ZN\n",
              "MEDV  1.000000  0.336805\n",
              "ZN    0.336805  1.000000"
            ],
            "text/html": [
              "\n",
              "  <div id=\"df-2d2ff8f5-42e8-48a3-96f7-74de3ff52bc1\">\n",
              "    <div class=\"colab-df-container\">\n",
              "      <div>\n",
              "<style scoped>\n",
              "    .dataframe tbody tr th:only-of-type {\n",
              "        vertical-align: middle;\n",
              "    }\n",
              "\n",
              "    .dataframe tbody tr th {\n",
              "        vertical-align: top;\n",
              "    }\n",
              "\n",
              "    .dataframe thead th {\n",
              "        text-align: right;\n",
              "    }\n",
              "</style>\n",
              "<table border=\"1\" class=\"dataframe\">\n",
              "  <thead>\n",
              "    <tr style=\"text-align: right;\">\n",
              "      <th></th>\n",
              "      <th>MEDV</th>\n",
              "      <th>ZN</th>\n",
              "    </tr>\n",
              "  </thead>\n",
              "  <tbody>\n",
              "    <tr>\n",
              "      <th>MEDV</th>\n",
              "      <td>1.000000</td>\n",
              "      <td>0.336805</td>\n",
              "    </tr>\n",
              "    <tr>\n",
              "      <th>ZN</th>\n",
              "      <td>0.336805</td>\n",
              "      <td>1.000000</td>\n",
              "    </tr>\n",
              "  </tbody>\n",
              "</table>\n",
              "</div>\n",
              "      <button class=\"colab-df-convert\" onclick=\"convertToInteractive('df-2d2ff8f5-42e8-48a3-96f7-74de3ff52bc1')\"\n",
              "              title=\"Convert this dataframe to an interactive table.\"\n",
              "              style=\"display:none;\">\n",
              "        \n",
              "  <svg xmlns=\"http://www.w3.org/2000/svg\" height=\"24px\"viewBox=\"0 0 24 24\"\n",
              "       width=\"24px\">\n",
              "    <path d=\"M0 0h24v24H0V0z\" fill=\"none\"/>\n",
              "    <path d=\"M18.56 5.44l.94 2.06.94-2.06 2.06-.94-2.06-.94-.94-2.06-.94 2.06-2.06.94zm-11 1L8.5 8.5l.94-2.06 2.06-.94-2.06-.94L8.5 2.5l-.94 2.06-2.06.94zm10 10l.94 2.06.94-2.06 2.06-.94-2.06-.94-.94-2.06-.94 2.06-2.06.94z\"/><path d=\"M17.41 7.96l-1.37-1.37c-.4-.4-.92-.59-1.43-.59-.52 0-1.04.2-1.43.59L10.3 9.45l-7.72 7.72c-.78.78-.78 2.05 0 2.83L4 21.41c.39.39.9.59 1.41.59.51 0 1.02-.2 1.41-.59l7.78-7.78 2.81-2.81c.8-.78.8-2.07 0-2.86zM5.41 20L4 18.59l7.72-7.72 1.47 1.35L5.41 20z\"/>\n",
              "  </svg>\n",
              "      </button>\n",
              "      \n",
              "  <style>\n",
              "    .colab-df-container {\n",
              "      display:flex;\n",
              "      flex-wrap:wrap;\n",
              "      gap: 12px;\n",
              "    }\n",
              "\n",
              "    .colab-df-convert {\n",
              "      background-color: #E8F0FE;\n",
              "      border: none;\n",
              "      border-radius: 50%;\n",
              "      cursor: pointer;\n",
              "      display: none;\n",
              "      fill: #1967D2;\n",
              "      height: 32px;\n",
              "      padding: 0 0 0 0;\n",
              "      width: 32px;\n",
              "    }\n",
              "\n",
              "    .colab-df-convert:hover {\n",
              "      background-color: #E2EBFA;\n",
              "      box-shadow: 0px 1px 2px rgba(60, 64, 67, 0.3), 0px 1px 3px 1px rgba(60, 64, 67, 0.15);\n",
              "      fill: #174EA6;\n",
              "    }\n",
              "\n",
              "    [theme=dark] .colab-df-convert {\n",
              "      background-color: #3B4455;\n",
              "      fill: #D2E3FC;\n",
              "    }\n",
              "\n",
              "    [theme=dark] .colab-df-convert:hover {\n",
              "      background-color: #434B5C;\n",
              "      box-shadow: 0px 1px 3px 1px rgba(0, 0, 0, 0.15);\n",
              "      filter: drop-shadow(0px 1px 2px rgba(0, 0, 0, 0.3));\n",
              "      fill: #FFFFFF;\n",
              "    }\n",
              "  </style>\n",
              "\n",
              "      <script>\n",
              "        const buttonEl =\n",
              "          document.querySelector('#df-2d2ff8f5-42e8-48a3-96f7-74de3ff52bc1 button.colab-df-convert');\n",
              "        buttonEl.style.display =\n",
              "          google.colab.kernel.accessAllowed ? 'block' : 'none';\n",
              "\n",
              "        async function convertToInteractive(key) {\n",
              "          const element = document.querySelector('#df-2d2ff8f5-42e8-48a3-96f7-74de3ff52bc1');\n",
              "          const dataTable =\n",
              "            await google.colab.kernel.invokeFunction('convertToInteractive',\n",
              "                                                     [key], {});\n",
              "          if (!dataTable) return;\n",
              "\n",
              "          const docLinkHtml = 'Like what you see? Visit the ' +\n",
              "            '<a target=\"_blank\" href=https://colab.research.google.com/notebooks/data_table.ipynb>data table notebook</a>'\n",
              "            + ' to learn more about interactive tables.';\n",
              "          element.innerHTML = '';\n",
              "          dataTable['output_type'] = 'display_data';\n",
              "          await google.colab.output.renderOutput(dataTable, element);\n",
              "          const docLink = document.createElement('div');\n",
              "          docLink.innerHTML = docLinkHtml;\n",
              "          element.appendChild(docLink);\n",
              "        }\n",
              "      </script>\n",
              "    </div>\n",
              "  </div>\n",
              "  "
            ]
          },
          "metadata": {},
          "execution_count": 69
        }
      ],
      "source": [
        "df[['MEDV','ZN']].corr()"
      ]
    },
    {
      "cell_type": "code",
      "execution_count": 70,
      "metadata": {
        "colab": {
          "base_uri": "https://localhost:8080/",
          "height": 396
        },
        "id": "dXdN0BK3Zr8J",
        "outputId": "4d1410db-a8cf-43ad-eb0c-4f57f81f4a3c"
      },
      "outputs": [
        {
          "output_type": "display_data",
          "data": {
            "text/plain": [
              "<Figure size 432x288 with 1 Axes>"
            ],
            "image/png": "[encoded data removed]"
          },
          "metadata": {}
        },
        {
          "output_type": "execute_result",
          "data": {
            "text/plain": [
              "         MEDV        B\n",
              "MEDV  1.00000  0.31791\n",
              "B     0.31791  1.00000"
            ],
            "text/html": [
              "\n",
              "  <div id=\"df-ffeeec56-481b-47bf-aaa7-874a1957e9d5\">\n",
              "    <div class=\"colab-df-container\">\n",
              "      <div>\n",
              "<style scoped>\n",
              "    .dataframe tbody tr th:only-of-type {\n",
              "        vertical-align: middle;\n",
              "    }\n",
              "\n",
              "    .dataframe tbody tr th {\n",
              "        vertical-align: top;\n",
              "    }\n",
              "\n",
              "    .dataframe thead th {\n",
              "        text-align: right;\n",
              "    }\n",
              "</style>\n",
              "<table border=\"1\" class=\"dataframe\">\n",
              "  <thead>\n",
              "    <tr style=\"text-align: right;\">\n",
              "      <th></th>\n",
              "      <th>MEDV</th>\n",
              "      <th>B</th>\n",
              "    </tr>\n",
              "  </thead>\n",
              "  <tbody>\n",
              "    <tr>\n",
              "      <th>MEDV</th>\n",
              "      <td>1.00000</td>\n",
              "      <td>0.31791</td>\n",
              "    </tr>\n",
              "    <tr>\n",
              "      <th>B</th>\n",
              "      <td>0.31791</td>\n",
              "      <td>1.00000</td>\n",
              "    </tr>\n",
              "  </tbody>\n",
              "</table>\n",
              "</div>\n",
              "      <button class=\"colab-df-convert\" onclick=\"convertToInteractive('df-ffeeec56-481b-47bf-aaa7-874a1957e9d5')\"\n",
              "              title=\"Convert this dataframe to an interactive table.\"\n",
              "              style=\"display:none;\">\n",
              "        \n",
              "  <svg xmlns=\"http://www.w3.org/2000/svg\" height=\"24px\"viewBox=\"0 0 24 24\"\n",
              "       width=\"24px\">\n",
              "    <path d=\"M0 0h24v24H0V0z\" fill=\"none\"/>\n",
              "    <path d=\"M18.56 5.44l.94 2.06.94-2.06 2.06-.94-2.06-.94-.94-2.06-.94 2.06-2.06.94zm-11 1L8.5 8.5l.94-2.06 2.06-.94-2.06-.94L8.5 2.5l-.94 2.06-2.06.94zm10 10l.94 2.06.94-2.06 2.06-.94-2.06-.94-.94-2.06-.94 2.06-2.06.94z\"/><path d=\"M17.41 7.96l-1.37-1.37c-.4-.4-.92-.59-1.43-.59-.52 0-1.04.2-1.43.59L10.3 9.45l-7.72 7.72c-.78.78-.78 2.05 0 2.83L4 21.41c.39.39.9.59 1.41.59.51 0 1.02-.2 1.41-.59l7.78-7.78 2.81-2.81c.8-.78.8-2.07 0-2.86zM5.41 20L4 18.59l7.72-7.72 1.47 1.35L5.41 20z\"/>\n",
              "  </svg>\n",
              "      </button>\n",
              "      \n",
              "  <style>\n",
              "    .colab-df-container {\n",
              "      display:flex;\n",
              "      flex-wrap:wrap;\n",
              "      gap: 12px;\n",
              "    }\n",
              "\n",
              "    .colab-df-convert {\n",
              "      background-color: #E8F0FE;\n",
              "      border: none;\n",
              "      border-radius: 50%;\n",
              "      cursor: pointer;\n",
              "      display: none;\n",
              "      fill: #1967D2;\n",
              "      height: 32px;\n",
              "      padding: 0 0 0 0;\n",
              "      width: 32px;\n",
              "    }\n",
              "\n",
              "    .colab-df-convert:hover {\n",
              "      background-color: #E2EBFA;\n",
              "      box-shadow: 0px 1px 2px rgba(60, 64, 67, 0.3), 0px 1px 3px 1px rgba(60, 64, 67, 0.15);\n",
              "      fill: #174EA6;\n",
              "    }\n",
              "\n",
              "    [theme=dark] .colab-df-convert {\n",
              "      background-color: #3B4455;\n",
              "      fill: #D2E3FC;\n",
              "    }\n",
              "\n",
              "    [theme=dark] .colab-df-convert:hover {\n",
              "      background-color: #434B5C;\n",
              "      box-shadow: 0px 1px 3px 1px rgba(0, 0, 0, 0.15);\n",
              "      filter: drop-shadow(0px 1px 2px rgba(0, 0, 0, 0.3));\n",
              "      fill: #FFFFFF;\n",
              "    }\n",
              "  </style>\n",
              "\n",
              "      <script>\n",
              "        const buttonEl =\n",
              "          document.querySelector('#df-ffeeec56-481b-47bf-aaa7-874a1957e9d5 button.colab-df-convert');\n",
              "        buttonEl.style.display =\n",
              "          google.colab.kernel.accessAllowed ? 'block' : 'none';\n",
              "\n",
              "        async function convertToInteractive(key) {\n",
              "          const element = document.querySelector('#df-ffeeec56-481b-47bf-aaa7-874a1957e9d5');\n",
              "          const dataTable =\n",
              "            await google.colab.kernel.invokeFunction('convertToInteractive',\n",
              "                                                     [key], {});\n",
              "          if (!dataTable) return;\n",
              "\n",
              "          const docLinkHtml = 'Like what you see? Visit the ' +\n",
              "            '<a target=\"_blank\" href=https://colab.research.google.com/notebooks/data_table.ipynb>data table notebook</a>'\n",
              "            + ' to learn more about interactive tables.';\n",
              "          element.innerHTML = '';\n",
              "          dataTable['output_type'] = 'display_data';\n",
              "          await google.colab.output.renderOutput(dataTable, element);\n",
              "          const docLink = document.createElement('div');\n",
              "          docLink.innerHTML = docLinkHtml;\n",
              "          element.appendChild(docLink);\n",
              "        }\n",
              "      </script>\n",
              "    </div>\n",
              "  </div>\n",
              "  "
            ]
          },
          "metadata": {},
          "execution_count": 70
        }
      ],
      "source": [
        "plt.title('Price of Home vs Proportion of Blacks by town')\n",
        "sns.scatterplot(data=df, x=df['MEDV'],y=df['B'])\n",
        "plt.show()\n",
        "df[['MEDV', 'B']].corr()"
      ]
    },
    {
      "cell_type": "code",
      "execution_count": 71,
      "metadata": {
        "colab": {
          "base_uri": "https://localhost:8080/",
          "height": 396
        },
        "id": "7JRwh0jpjLX3",
        "outputId": "c500bb54-f97f-41c1-fc23-63e06ab25b7c"
      },
      "outputs": [
        {
          "output_type": "display_data",
          "data": {
            "text/plain": [
              "<Figure size 432x288 with 1 Axes>"
            ],
            "image/png": "[encoded data removed]"
          },
          "metadata": {}
        },
        {
          "output_type": "execute_result",
          "data": {
            "text/plain": [
              "          MEDV       DIS\n",
              "MEDV  1.000000  0.235087\n",
              "DIS   0.235087  1.000000"
            ],
            "text/html": [
              "\n",
              "  <div id=\"df-03345246-62f0-4090-8a84-d09720a8caf0\">\n",
              "    <div class=\"colab-df-container\">\n",
              "      <div>\n",
              "<style scoped>\n",
              "    .dataframe tbody tr th:only-of-type {\n",
              "        vertical-align: middle;\n",
              "    }\n",
              "\n",
              "    .dataframe tbody tr th {\n",
              "        vertical-align: top;\n",
              "    }\n",
              "\n",
              "    .dataframe thead th {\n",
              "        text-align: right;\n",
              "    }\n",
              "</style>\n",
              "<table border=\"1\" class=\"dataframe\">\n",
              "  <thead>\n",
              "    <tr style=\"text-align: right;\">\n",
              "      <th></th>\n",
              "      <th>MEDV</th>\n",
              "      <th>DIS</th>\n",
              "    </tr>\n",
              "  </thead>\n",
              "  <tbody>\n",
              "    <tr>\n",
              "      <th>MEDV</th>\n",
              "      <td>1.000000</td>\n",
              "      <td>0.235087</td>\n",
              "    </tr>\n",
              "    <tr>\n",
              "      <th>DIS</th>\n",
              "      <td>0.235087</td>\n",
              "      <td>1.000000</td>\n",
              "    </tr>\n",
              "  </tbody>\n",
              "</table>\n",
              "</div>\n",
              "      <button class=\"colab-df-convert\" onclick=\"convertToInteractive('df-03345246-62f0-4090-8a84-d09720a8caf0')\"\n",
              "              title=\"Convert this dataframe to an interactive table.\"\n",
              "              style=\"display:none;\">\n",
              "        \n",
              "  <svg xmlns=\"http://www.w3.org/2000/svg\" height=\"24px\"viewBox=\"0 0 24 24\"\n",
              "       width=\"24px\">\n",
              "    <path d=\"M0 0h24v24H0V0z\" fill=\"none\"/>\n",
              "    <path d=\"M18.56 5.44l.94 2.06.94-2.06 2.06-.94-2.06-.94-.94-2.06-.94 2.06-2.06.94zm-11 1L8.5 8.5l.94-2.06 2.06-.94-2.06-.94L8.5 2.5l-.94 2.06-2.06.94zm10 10l.94 2.06.94-2.06 2.06-.94-2.06-.94-.94-2.06-.94 2.06-2.06.94z\"/><path d=\"M17.41 7.96l-1.37-1.37c-.4-.4-.92-.59-1.43-.59-.52 0-1.04.2-1.43.59L10.3 9.45l-7.72 7.72c-.78.78-.78 2.05 0 2.83L4 21.41c.39.39.9.59 1.41.59.51 0 1.02-.2 1.41-.59l7.78-7.78 2.81-2.81c.8-.78.8-2.07 0-2.86zM5.41 20L4 18.59l7.72-7.72 1.47 1.35L5.41 20z\"/>\n",
              "  </svg>\n",
              "      </button>\n",
              "      \n",
              "  <style>\n",
              "    .colab-df-container {\n",
              "      display:flex;\n",
              "      flex-wrap:wrap;\n",
              "      gap: 12px;\n",
              "    }\n",
              "\n",
              "    .colab-df-convert {\n",
              "      background-color: #E8F0FE;\n",
              "      border: none;\n",
              "      border-radius: 50%;\n",
              "      cursor: pointer;\n",
              "      display: none;\n",
              "      fill: #1967D2;\n",
              "      height: 32px;\n",
              "      padding: 0 0 0 0;\n",
              "      width: 32px;\n",
              "    }\n",
              "\n",
              "    .colab-df-convert:hover {\n",
              "      background-color: #E2EBFA;\n",
              "      box-shadow: 0px 1px 2px rgba(60, 64, 67, 0.3), 0px 1px 3px 1px rgba(60, 64, 67, 0.15);\n",
              "      fill: #174EA6;\n",
              "    }\n",
              "\n",
              "    [theme=dark] .colab-df-convert {\n",
              "      background-color: #3B4455;\n",
              "      fill: #D2E3FC;\n",
              "    }\n",
              "\n",
              "    [theme=dark] .colab-df-convert:hover {\n",
              "      background-color: #434B5C;\n",
              "      box-shadow: 0px 1px 3px 1px rgba(0, 0, 0, 0.15);\n",
              "      filter: drop-shadow(0px 1px 2px rgba(0, 0, 0, 0.3));\n",
              "      fill: #FFFFFF;\n",
              "    }\n",
              "  </style>\n",
              "\n",
              "      <script>\n",
              "        const buttonEl =\n",
              "          document.querySelector('#df-03345246-62f0-4090-8a84-d09720a8caf0 button.colab-df-convert');\n",
              "        buttonEl.style.display =\n",
              "          google.colab.kernel.accessAllowed ? 'block' : 'none';\n",
              "\n",
              "        async function convertToInteractive(key) {\n",
              "          const element = document.querySelector('#df-03345246-62f0-4090-8a84-d09720a8caf0');\n",
              "          const dataTable =\n",
              "            await google.colab.kernel.invokeFunction('convertToInteractive',\n",
              "                                                     [key], {});\n",
              "          if (!dataTable) return;\n",
              "\n",
              "          const docLinkHtml = 'Like what you see? Visit the ' +\n",
              "            '<a target=\"_blank\" href=https://colab.research.google.com/notebooks/data_table.ipynb>data table notebook</a>'\n",
              "            + ' to learn more about interactive tables.';\n",
              "          element.innerHTML = '';\n",
              "          dataTable['output_type'] = 'display_data';\n",
              "          await google.colab.output.renderOutput(dataTable, element);\n",
              "          const docLink = document.createElement('div');\n",
              "          docLink.innerHTML = docLinkHtml;\n",
              "          element.appendChild(docLink);\n",
              "        }\n",
              "      </script>\n",
              "    </div>\n",
              "  </div>\n",
              "  "
            ]
          },
          "metadata": {},
          "execution_count": 71
        }
      ],
      "source": [
        "plt.title('Price of Home vs Weighted Distances to five Bostor Employment Centers')\n",
        "sns.scatterplot(data=df, x=df['MEDV'], y=df['DIS'])\n",
        "plt.show()\n",
        "df[['MEDV', 'DIS']].corr()"
      ]
    },
    {
      "cell_type": "markdown",
      "metadata": {
        "id": "jPCYMzuOj_s9"
      },
      "source": [
        "We can see Negetive Correlation also"
      ]
    },
    {
      "cell_type": "code",
      "execution_count": 72,
      "metadata": {
        "colab": {
          "base_uri": "https://localhost:8080/",
          "height": 396
        },
        "id": "5zD0_tfQj6oK",
        "outputId": "1c248116-b931-4abc-9f36-2aa7ae89ccdd"
      },
      "outputs": [
        {
          "output_type": "display_data",
          "data": {
            "text/plain": [
              "<Figure size 432x288 with 1 Axes>"
            ],
            "image/png": "[encoded data removed]"
          },
          "metadata": {}
        },
        {
          "output_type": "execute_result",
          "data": {
            "text/plain": [
              "          MEDV      CRIM\n",
              "MEDV  1.000000 -0.393693\n",
              "CRIM -0.393693  1.000000"
            ],
            "text/html": [
              "\n",
              "  <div id=\"df-1d90e50a-f690-427b-91be-292031fbe3ff\">\n",
              "    <div class=\"colab-df-container\">\n",
              "      <div>\n",
              "<style scoped>\n",
              "    .dataframe tbody tr th:only-of-type {\n",
              "        vertical-align: middle;\n",
              "    }\n",
              "\n",
              "    .dataframe tbody tr th {\n",
              "        vertical-align: top;\n",
              "    }\n",
              "\n",
              "    .dataframe thead th {\n",
              "        text-align: right;\n",
              "    }\n",
              "</style>\n",
              "<table border=\"1\" class=\"dataframe\">\n",
              "  <thead>\n",
              "    <tr style=\"text-align: right;\">\n",
              "      <th></th>\n",
              "      <th>MEDV</th>\n",
              "      <th>CRIM</th>\n",
              "    </tr>\n",
              "  </thead>\n",
              "  <tbody>\n",
              "    <tr>\n",
              "      <th>MEDV</th>\n",
              "      <td>1.000000</td>\n",
              "      <td>-0.393693</td>\n",
              "    </tr>\n",
              "    <tr>\n",
              "      <th>CRIM</th>\n",
              "      <td>-0.393693</td>\n",
              "      <td>1.000000</td>\n",
              "    </tr>\n",
              "  </tbody>\n",
              "</table>\n",
              "</div>\n",
              "      <button class=\"colab-df-convert\" onclick=\"convertToInteractive('df-1d90e50a-f690-427b-91be-292031fbe3ff')\"\n",
              "              title=\"Convert this dataframe to an interactive table.\"\n",
              "              style=\"display:none;\">\n",
              "        \n",
              "  <svg xmlns=\"http://www.w3.org/2000/svg\" height=\"24px\"viewBox=\"0 0 24 24\"\n",
              "       width=\"24px\">\n",
              "    <path d=\"M0 0h24v24H0V0z\" fill=\"none\"/>\n",
              "    <path d=\"M18.56 5.44l.94 2.06.94-2.06 2.06-.94-2.06-.94-.94-2.06-.94 2.06-2.06.94zm-11 1L8.5 8.5l.94-2.06 2.06-.94-2.06-.94L8.5 2.5l-.94 2.06-2.06.94zm10 10l.94 2.06.94-2.06 2.06-.94-2.06-.94-.94-2.06-.94 2.06-2.06.94z\"/><path d=\"M17.41 7.96l-1.37-1.37c-.4-.4-.92-.59-1.43-.59-.52 0-1.04.2-1.43.59L10.3 9.45l-7.72 7.72c-.78.78-.78 2.05 0 2.83L4 21.41c.39.39.9.59 1.41.59.51 0 1.02-.2 1.41-.59l7.78-7.78 2.81-2.81c.8-.78.8-2.07 0-2.86zM5.41 20L4 18.59l7.72-7.72 1.47 1.35L5.41 20z\"/>\n",
              "  </svg>\n",
              "      </button>\n",
              "      \n",
              "  <style>\n",
              "    .colab-df-container {\n",
              "      display:flex;\n",
              "      flex-wrap:wrap;\n",
              "      gap: 12px;\n",
              "    }\n",
              "\n",
              "    .colab-df-convert {\n",
              "      background-color: #E8F0FE;\n",
              "      border: none;\n",
              "      border-radius: 50%;\n",
              "      cursor: pointer;\n",
              "      display: none;\n",
              "      fill: #1967D2;\n",
              "      height: 32px;\n",
              "      padding: 0 0 0 0;\n",
              "      width: 32px;\n",
              "    }\n",
              "\n",
              "    .colab-df-convert:hover {\n",
              "      background-color: #E2EBFA;\n",
              "      box-shadow: 0px 1px 2px rgba(60, 64, 67, 0.3), 0px 1px 3px 1px rgba(60, 64, 67, 0.15);\n",
              "      fill: #174EA6;\n",
              "    }\n",
              "\n",
              "    [theme=dark] .colab-df-convert {\n",
              "      background-color: #3B4455;\n",
              "      fill: #D2E3FC;\n",
              "    }\n",
              "\n",
              "    [theme=dark] .colab-df-convert:hover {\n",
              "      background-color: #434B5C;\n",
              "      box-shadow: 0px 1px 3px 1px rgba(0, 0, 0, 0.15);\n",
              "      filter: drop-shadow(0px 1px 2px rgba(0, 0, 0, 0.3));\n",
              "      fill: #FFFFFF;\n",
              "    }\n",
              "  </style>\n",
              "\n",
              "      <script>\n",
              "        const buttonEl =\n",
              "          document.querySelector('#df-1d90e50a-f690-427b-91be-292031fbe3ff button.colab-df-convert');\n",
              "        buttonEl.style.display =\n",
              "          google.colab.kernel.accessAllowed ? 'block' : 'none';\n",
              "\n",
              "        async function convertToInteractive(key) {\n",
              "          const element = document.querySelector('#df-1d90e50a-f690-427b-91be-292031fbe3ff');\n",
              "          const dataTable =\n",
              "            await google.colab.kernel.invokeFunction('convertToInteractive',\n",
              "                                                     [key], {});\n",
              "          if (!dataTable) return;\n",
              "\n",
              "          const docLinkHtml = 'Like what you see? Visit the ' +\n",
              "            '<a target=\"_blank\" href=https://colab.research.google.com/notebooks/data_table.ipynb>data table notebook</a>'\n",
              "            + ' to learn more about interactive tables.';\n",
              "          element.innerHTML = '';\n",
              "          dataTable['output_type'] = 'display_data';\n",
              "          await google.colab.output.renderOutput(dataTable, element);\n",
              "          const docLink = document.createElement('div');\n",
              "          docLink.innerHTML = docLinkHtml;\n",
              "          element.appendChild(docLink);\n",
              "        }\n",
              "      </script>\n",
              "    </div>\n",
              "  </div>\n",
              "  "
            ]
          },
          "metadata": {},
          "execution_count": 72
        }
      ],
      "source": [
        "plt.title('Price of Home vs Per Capita crime rate by town')\n",
        "sns.scatterplot(data=df, x=df['MEDV'], y=df['CRIM'])\n",
        "plt.show()\n",
        "df[['MEDV','CRIM']].corr()"
      ]
    },
    {
      "cell_type": "code",
      "execution_count": 73,
      "metadata": {
        "colab": {
          "base_uri": "https://localhost:8080/",
          "height": 396
        },
        "id": "GhNOrvUnj6iX",
        "outputId": "3ec6ecfb-17d6-4317-e541-6f5ee9ed788c"
      },
      "outputs": [
        {
          "output_type": "display_data",
          "data": {
            "text/plain": [
              "<Figure size 432x288 with 1 Axes>"
            ],
            "image/png": "[encoded data removed]"
          },
          "metadata": {}
        },
        {
          "output_type": "execute_result",
          "data": {
            "text/plain": [
              "           MEDV     INDUS\n",
              "MEDV   1.000000 -0.502898\n",
              "INDUS -0.502898  1.000000"
            ],
            "text/html": [
              "\n",
              "  <div id=\"df-c891e478-f19b-4f3d-80cd-e6286b00db81\">\n",
              "    <div class=\"colab-df-container\">\n",
              "      <div>\n",
              "<style scoped>\n",
              "    .dataframe tbody tr th:only-of-type {\n",
              "        vertical-align: middle;\n",
              "    }\n",
              "\n",
              "    .dataframe tbody tr th {\n",
              "        vertical-align: top;\n",
              "    }\n",
              "\n",
              "    .dataframe thead th {\n",
              "        text-align: right;\n",
              "    }\n",
              "</style>\n",
              "<table border=\"1\" class=\"dataframe\">\n",
              "  <thead>\n",
              "    <tr style=\"text-align: right;\">\n",
              "      <th></th>\n",
              "      <th>MEDV</th>\n",
              "      <th>INDUS</th>\n",
              "    </tr>\n",
              "  </thead>\n",
              "  <tbody>\n",
              "    <tr>\n",
              "      <th>MEDV</th>\n",
              "      <td>1.000000</td>\n",
              "      <td>-0.502898</td>\n",
              "    </tr>\n",
              "    <tr>\n",
              "      <th>INDUS</th>\n",
              "      <td>-0.502898</td>\n",
              "      <td>1.000000</td>\n",
              "    </tr>\n",
              "  </tbody>\n",
              "</table>\n",
              "</div>\n",
              "      <button class=\"colab-df-convert\" onclick=\"convertToInteractive('df-c891e478-f19b-4f3d-80cd-e6286b00db81')\"\n",
              "              title=\"Convert this dataframe to an interactive table.\"\n",
              "              style=\"display:none;\">\n",
              "        \n",
              "  <svg xmlns=\"http://www.w3.org/2000/svg\" height=\"24px\"viewBox=\"0 0 24 24\"\n",
              "       width=\"24px\">\n",
              "    <path d=\"M0 0h24v24H0V0z\" fill=\"none\"/>\n",
              "    <path d=\"M18.56 5.44l.94 2.06.94-2.06 2.06-.94-2.06-.94-.94-2.06-.94 2.06-2.06.94zm-11 1L8.5 8.5l.94-2.06 2.06-.94-2.06-.94L8.5 2.5l-.94 2.06-2.06.94zm10 10l.94 2.06.94-2.06 2.06-.94-2.06-.94-.94-2.06-.94 2.06-2.06.94z\"/><path d=\"M17.41 7.96l-1.37-1.37c-.4-.4-.92-.59-1.43-.59-.52 0-1.04.2-1.43.59L10.3 9.45l-7.72 7.72c-.78.78-.78 2.05 0 2.83L4 21.41c.39.39.9.59 1.41.59.51 0 1.02-.2 1.41-.59l7.78-7.78 2.81-2.81c.8-.78.8-2.07 0-2.86zM5.41 20L4 18.59l7.72-7.72 1.47 1.35L5.41 20z\"/>\n",
              "  </svg>\n",
              "      </button>\n",
              "      \n",
              "  <style>\n",
              "    .colab-df-container {\n",
              "      display:flex;\n",
              "      flex-wrap:wrap;\n",
              "      gap: 12px;\n",
              "    }\n",
              "\n",
              "    .colab-df-convert {\n",
              "      background-color: #E8F0FE;\n",
              "      border: none;\n",
              "      border-radius: 50%;\n",
              "      cursor: pointer;\n",
              "      display: none;\n",
              "      fill: #1967D2;\n",
              "      height: 32px;\n",
              "      padding: 0 0 0 0;\n",
              "      width: 32px;\n",
              "    }\n",
              "\n",
              "    .colab-df-convert:hover {\n",
              "      background-color: #E2EBFA;\n",
              "      box-shadow: 0px 1px 2px rgba(60, 64, 67, 0.3), 0px 1px 3px 1px rgba(60, 64, 67, 0.15);\n",
              "      fill: #174EA6;\n",
              "    }\n",
              "\n",
              "    [theme=dark] .colab-df-convert {\n",
              "      background-color: #3B4455;\n",
              "      fill: #D2E3FC;\n",
              "    }\n",
              "\n",
              "    [theme=dark] .colab-df-convert:hover {\n",
              "      background-color: #434B5C;\n",
              "      box-shadow: 0px 1px 3px 1px rgba(0, 0, 0, 0.15);\n",
              "      filter: drop-shadow(0px 1px 2px rgba(0, 0, 0, 0.3));\n",
              "      fill: #FFFFFF;\n",
              "    }\n",
              "  </style>\n",
              "\n",
              "      <script>\n",
              "        const buttonEl =\n",
              "          document.querySelector('#df-c891e478-f19b-4f3d-80cd-e6286b00db81 button.colab-df-convert');\n",
              "        buttonEl.style.display =\n",
              "          google.colab.kernel.accessAllowed ? 'block' : 'none';\n",
              "\n",
              "        async function convertToInteractive(key) {\n",
              "          const element = document.querySelector('#df-c891e478-f19b-4f3d-80cd-e6286b00db81');\n",
              "          const dataTable =\n",
              "            await google.colab.kernel.invokeFunction('convertToInteractive',\n",
              "                                                     [key], {});\n",
              "          if (!dataTable) return;\n",
              "\n",
              "          const docLinkHtml = 'Like what you see? Visit the ' +\n",
              "            '<a target=\"_blank\" href=https://colab.research.google.com/notebooks/data_table.ipynb>data table notebook</a>'\n",
              "            + ' to learn more about interactive tables.';\n",
              "          element.innerHTML = '';\n",
              "          dataTable['output_type'] = 'display_data';\n",
              "          await google.colab.output.renderOutput(dataTable, element);\n",
              "          const docLink = document.createElement('div');\n",
              "          docLink.innerHTML = docLinkHtml;\n",
              "          element.appendChild(docLink);\n",
              "        }\n",
              "      </script>\n",
              "    </div>\n",
              "  </div>\n",
              "  "
            ]
          },
          "metadata": {},
          "execution_count": 73
        }
      ],
      "source": [
        "plt.title('Price of Home vs Proportion of Non-retail Bussiness acres by Town')\n",
        "sns.scatterplot(data=df, x=df['MEDV'], y=df['INDUS'])\n",
        "plt.show()\n",
        "df[['MEDV', 'INDUS']].corr()"
      ]
    },
    {
      "cell_type": "code",
      "execution_count": 74,
      "metadata": {
        "colab": {
          "base_uri": "https://localhost:8080/",
          "height": 396
        },
        "id": "S9VCbI-uj6br",
        "outputId": "401924e5-7aea-4922-9817-db5924450ea6"
      },
      "outputs": [
        {
          "output_type": "display_data",
          "data": {
            "text/plain": [
              "<Figure size 432x288 with 1 Axes>"
            ],
            "image/png": "[encoded data removed]"
          },
          "metadata": {}
        },
        {
          "output_type": "execute_result",
          "data": {
            "text/plain": [
              "          MEDV       NOX\n",
              "MEDV  1.000000 -0.434271\n",
              "NOX  -0.434271  1.000000"
            ],
            "text/html": [
              "\n",
              "  <div id=\"df-26a0ca1b-c889-46cb-a80d-d083ba51abc3\">\n",
              "    <div class=\"colab-df-container\">\n",
              "      <div>\n",
              "<style scoped>\n",
              "    .dataframe tbody tr th:only-of-type {\n",
              "        vertical-align: middle;\n",
              "    }\n",
              "\n",
              "    .dataframe tbody tr th {\n",
              "        vertical-align: top;\n",
              "    }\n",
              "\n",
              "    .dataframe thead th {\n",
              "        text-align: right;\n",
              "    }\n",
              "</style>\n",
              "<table border=\"1\" class=\"dataframe\">\n",
              "  <thead>\n",
              "    <tr style=\"text-align: right;\">\n",
              "      <th></th>\n",
              "      <th>MEDV</th>\n",
              "      <th>NOX</th>\n",
              "    </tr>\n",
              "  </thead>\n",
              "  <tbody>\n",
              "    <tr>\n",
              "      <th>MEDV</th>\n",
              "      <td>1.000000</td>\n",
              "      <td>-0.434271</td>\n",
              "    </tr>\n",
              "    <tr>\n",
              "      <th>NOX</th>\n",
              "      <td>-0.434271</td>\n",
              "      <td>1.000000</td>\n",
              "    </tr>\n",
              "  </tbody>\n",
              "</table>\n",
              "</div>\n",
              "      <button class=\"colab-df-convert\" onclick=\"convertToInteractive('df-26a0ca1b-c889-46cb-a80d-d083ba51abc3')\"\n",
              "              title=\"Convert this dataframe to an interactive table.\"\n",
              "              style=\"display:none;\">\n",
              "        \n",
              "  <svg xmlns=\"http://www.w3.org/2000/svg\" height=\"24px\"viewBox=\"0 0 24 24\"\n",
              "       width=\"24px\">\n",
              "    <path d=\"M0 0h24v24H0V0z\" fill=\"none\"/>\n",
              "    <path d=\"M18.56 5.44l.94 2.06.94-2.06 2.06-.94-2.06-.94-.94-2.06-.94 2.06-2.06.94zm-11 1L8.5 8.5l.94-2.06 2.06-.94-2.06-.94L8.5 2.5l-.94 2.06-2.06.94zm10 10l.94 2.06.94-2.06 2.06-.94-2.06-.94-.94-2.06-.94 2.06-2.06.94z\"/><path d=\"M17.41 7.96l-1.37-1.37c-.4-.4-.92-.59-1.43-.59-.52 0-1.04.2-1.43.59L10.3 9.45l-7.72 7.72c-.78.78-.78 2.05 0 2.83L4 21.41c.39.39.9.59 1.41.59.51 0 1.02-.2 1.41-.59l7.78-7.78 2.81-2.81c.8-.78.8-2.07 0-2.86zM5.41 20L4 18.59l7.72-7.72 1.47 1.35L5.41 20z\"/>\n",
              "  </svg>\n",
              "      </button>\n",
              "      \n",
              "  <style>\n",
              "    .colab-df-container {\n",
              "      display:flex;\n",
              "      flex-wrap:wrap;\n",
              "      gap: 12px;\n",
              "    }\n",
              "\n",
              "    .colab-df-convert {\n",
              "      background-color: #E8F0FE;\n",
              "      border: none;\n",
              "      border-radius: 50%;\n",
              "      cursor: pointer;\n",
              "      display: none;\n",
              "      fill: #1967D2;\n",
              "      height: 32px;\n",
              "      padding: 0 0 0 0;\n",
              "      width: 32px;\n",
              "    }\n",
              "\n",
              "    .colab-df-convert:hover {\n",
              "      background-color: #E2EBFA;\n",
              "      box-shadow: 0px 1px 2px rgba(60, 64, 67, 0.3), 0px 1px 3px 1px rgba(60, 64, 67, 0.15);\n",
              "      fill: #174EA6;\n",
              "    }\n",
              "\n",
              "    [theme=dark] .colab-df-convert {\n",
              "      background-color: #3B4455;\n",
              "      fill: #D2E3FC;\n",
              "    }\n",
              "\n",
              "    [theme=dark] .colab-df-convert:hover {\n",
              "      background-color: #434B5C;\n",
              "      box-shadow: 0px 1px 3px 1px rgba(0, 0, 0, 0.15);\n",
              "      filter: drop-shadow(0px 1px 2px rgba(0, 0, 0, 0.3));\n",
              "      fill: #FFFFFF;\n",
              "    }\n",
              "  </style>\n",
              "\n",
              "      <script>\n",
              "        const buttonEl =\n",
              "          document.querySelector('#df-26a0ca1b-c889-46cb-a80d-d083ba51abc3 button.colab-df-convert');\n",
              "        buttonEl.style.display =\n",
              "          google.colab.kernel.accessAllowed ? 'block' : 'none';\n",
              "\n",
              "        async function convertToInteractive(key) {\n",
              "          const element = document.querySelector('#df-26a0ca1b-c889-46cb-a80d-d083ba51abc3');\n",
              "          const dataTable =\n",
              "            await google.colab.kernel.invokeFunction('convertToInteractive',\n",
              "                                                     [key], {});\n",
              "          if (!dataTable) return;\n",
              "\n",
              "          const docLinkHtml = 'Like what you see? Visit the ' +\n",
              "            '<a target=\"_blank\" href=https://colab.research.google.com/notebooks/data_table.ipynb>data table notebook</a>'\n",
              "            + ' to learn more about interactive tables.';\n",
              "          element.innerHTML = '';\n",
              "          dataTable['output_type'] = 'display_data';\n",
              "          await google.colab.output.renderOutput(dataTable, element);\n",
              "          const docLink = document.createElement('div');\n",
              "          docLink.innerHTML = docLinkHtml;\n",
              "          element.appendChild(docLink);\n",
              "        }\n",
              "      </script>\n",
              "    </div>\n",
              "  </div>\n",
              "  "
            ]
          },
          "metadata": {},
          "execution_count": 74
        }
      ],
      "source": [
        "plt.title(\"Price of Home vs Nitric oxides concentration\")\n",
        "sns.scatterplot(data=df, x=df['MEDV'], y=df['NOX'])\n",
        "plt.show()\n",
        "df[['MEDV', 'NOX']].corr()"
      ]
    },
    {
      "cell_type": "code",
      "execution_count": 75,
      "metadata": {
        "colab": {
          "base_uri": "https://localhost:8080/",
          "height": 396
        },
        "id": "Qb_F-wCVj6TB",
        "outputId": "2bf0d28b-971d-4110-ba85-1df5672c0e6e"
      },
      "outputs": [
        {
          "output_type": "display_data",
          "data": {
            "text/plain": [
              "<Figure size 432x288 with 1 Axes>"
            ],
            "image/png": "[encoded data removed]"
          },
          "metadata": {}
        },
        {
          "output_type": "execute_result",
          "data": {
            "text/plain": [
              "          MEDV       AGE\n",
              "MEDV  1.000000 -0.354106\n",
              "AGE  -0.354106  1.000000"
            ],
            "text/html": [
              "\n",
              "  <div id=\"df-cb5f1b14-a5c6-4ff1-b4b2-3cd07dc3e304\">\n",
              "    <div class=\"colab-df-container\">\n",
              "      <div>\n",
              "<style scoped>\n",
              "    .dataframe tbody tr th:only-of-type {\n",
              "        vertical-align: middle;\n",
              "    }\n",
              "\n",
              "    .dataframe tbody tr th {\n",
              "        vertical-align: top;\n",
              "    }\n",
              "\n",
              "    .dataframe thead th {\n",
              "        text-align: right;\n",
              "    }\n",
              "</style>\n",
              "<table border=\"1\" class=\"dataframe\">\n",
              "  <thead>\n",
              "    <tr style=\"text-align: right;\">\n",
              "      <th></th>\n",
              "      <th>MEDV</th>\n",
              "      <th>AGE</th>\n",
              "    </tr>\n",
              "  </thead>\n",
              "  <tbody>\n",
              "    <tr>\n",
              "      <th>MEDV</th>\n",
              "      <td>1.000000</td>\n",
              "      <td>-0.354106</td>\n",
              "    </tr>\n",
              "    <tr>\n",
              "      <th>AGE</th>\n",
              "      <td>-0.354106</td>\n",
              "      <td>1.000000</td>\n",
              "    </tr>\n",
              "  </tbody>\n",
              "</table>\n",
              "</div>\n",
              "      <button class=\"colab-df-convert\" onclick=\"convertToInteractive('df-cb5f1b14-a5c6-4ff1-b4b2-3cd07dc3e304')\"\n",
              "              title=\"Convert this dataframe to an interactive table.\"\n",
              "              style=\"display:none;\">\n",
              "        \n",
              "  <svg xmlns=\"http://www.w3.org/2000/svg\" height=\"24px\"viewBox=\"0 0 24 24\"\n",
              "       width=\"24px\">\n",
              "    <path d=\"M0 0h24v24H0V0z\" fill=\"none\"/>\n",
              "    <path d=\"M18.56 5.44l.94 2.06.94-2.06 2.06-.94-2.06-.94-.94-2.06-.94 2.06-2.06.94zm-11 1L8.5 8.5l.94-2.06 2.06-.94-2.06-.94L8.5 2.5l-.94 2.06-2.06.94zm10 10l.94 2.06.94-2.06 2.06-.94-2.06-.94-.94-2.06-.94 2.06-2.06.94z\"/><path d=\"M17.41 7.96l-1.37-1.37c-.4-.4-.92-.59-1.43-.59-.52 0-1.04.2-1.43.59L10.3 9.45l-7.72 7.72c-.78.78-.78 2.05 0 2.83L4 21.41c.39.39.9.59 1.41.59.51 0 1.02-.2 1.41-.59l7.78-7.78 2.81-2.81c.8-.78.8-2.07 0-2.86zM5.41 20L4 18.59l7.72-7.72 1.47 1.35L5.41 20z\"/>\n",
              "  </svg>\n",
              "      </button>\n",
              "      \n",
              "  <style>\n",
              "    .colab-df-container {\n",
              "      display:flex;\n",
              "      flex-wrap:wrap;\n",
              "      gap: 12px;\n",
              "    }\n",
              "\n",
              "    .colab-df-convert {\n",
              "      background-color: #E8F0FE;\n",
              "      border: none;\n",
              "      border-radius: 50%;\n",
              "      cursor: pointer;\n",
              "      display: none;\n",
              "      fill: #1967D2;\n",
              "      height: 32px;\n",
              "      padding: 0 0 0 0;\n",
              "      width: 32px;\n",
              "    }\n",
              "\n",
              "    .colab-df-convert:hover {\n",
              "      background-color: #E2EBFA;\n",
              "      box-shadow: 0px 1px 2px rgba(60, 64, 67, 0.3), 0px 1px 3px 1px rgba(60, 64, 67, 0.15);\n",
              "      fill: #174EA6;\n",
              "    }\n",
              "\n",
              "    [theme=dark] .colab-df-convert {\n",
              "      background-color: #3B4455;\n",
              "      fill: #D2E3FC;\n",
              "    }\n",
              "\n",
              "    [theme=dark] .colab-df-convert:hover {\n",
              "      background-color: #434B5C;\n",
              "      box-shadow: 0px 1px 3px 1px rgba(0, 0, 0, 0.15);\n",
              "      filter: drop-shadow(0px 1px 2px rgba(0, 0, 0, 0.3));\n",
              "      fill: #FFFFFF;\n",
              "    }\n",
              "  </style>\n",
              "\n",
              "      <script>\n",
              "        const buttonEl =\n",
              "          document.querySelector('#df-cb5f1b14-a5c6-4ff1-b4b2-3cd07dc3e304 button.colab-df-convert');\n",
              "        buttonEl.style.display =\n",
              "          google.colab.kernel.accessAllowed ? 'block' : 'none';\n",
              "\n",
              "        async function convertToInteractive(key) {\n",
              "          const element = document.querySelector('#df-cb5f1b14-a5c6-4ff1-b4b2-3cd07dc3e304');\n",
              "          const dataTable =\n",
              "            await google.colab.kernel.invokeFunction('convertToInteractive',\n",
              "                                                     [key], {});\n",
              "          if (!dataTable) return;\n",
              "\n",
              "          const docLinkHtml = 'Like what you see? Visit the ' +\n",
              "            '<a target=\"_blank\" href=https://colab.research.google.com/notebooks/data_table.ipynb>data table notebook</a>'\n",
              "            + ' to learn more about interactive tables.';\n",
              "          element.innerHTML = '';\n",
              "          dataTable['output_type'] = 'display_data';\n",
              "          await google.colab.output.renderOutput(dataTable, element);\n",
              "          const docLink = document.createElement('div');\n",
              "          docLink.innerHTML = docLinkHtml;\n",
              "          element.appendChild(docLink);\n",
              "        }\n",
              "      </script>\n",
              "    </div>\n",
              "  </div>\n",
              "  "
            ]
          },
          "metadata": {},
          "execution_count": 75
        }
      ],
      "source": [
        "plt.title('Price of Home VS proportion of Owner-occupied units built prior to 1940')\n",
        "sns.scatterplot(data=df, x=df['MEDV'], y=df['AGE'])\n",
        "plt.show()\n",
        "df[['MEDV','AGE']].corr()"
      ]
    },
    {
      "cell_type": "code",
      "execution_count": 76,
      "metadata": {
        "colab": {
          "base_uri": "https://localhost:8080/",
          "height": 396
        },
        "id": "y6KCqkl5j6LJ",
        "outputId": "3fedac23-1c09-4cd6-e0aa-c1411ef789b1"
      },
      "outputs": [
        {
          "output_type": "display_data",
          "data": {
            "text/plain": [
              "<Figure size 432x288 with 1 Axes>"
            ],
            "image/png": "[encoded data removed]"
          },
          "metadata": {}
        },
        {
          "output_type": "execute_result",
          "data": {
            "text/plain": [
              "          MEDV       RAD\n",
              "MEDV  1.000000 -0.386922\n",
              "RAD  -0.386922  1.000000"
            ],
            "text/html": [
              "\n",
              "  <div id=\"df-595177ec-8f70-4aa6-ab81-27fb9037ba42\">\n",
              "    <div class=\"colab-df-container\">\n",
              "      <div>\n",
              "<style scoped>\n",
              "    .dataframe tbody tr th:only-of-type {\n",
              "        vertical-align: middle;\n",
              "    }\n",
              "\n",
              "    .dataframe tbody tr th {\n",
              "        vertical-align: top;\n",
              "    }\n",
              "\n",
              "    .dataframe thead th {\n",
              "        text-align: right;\n",
              "    }\n",
              "</style>\n",
              "<table border=\"1\" class=\"dataframe\">\n",
              "  <thead>\n",
              "    <tr style=\"text-align: right;\">\n",
              "      <th></th>\n",
              "      <th>MEDV</th>\n",
              "      <th>RAD</th>\n",
              "    </tr>\n",
              "  </thead>\n",
              "  <tbody>\n",
              "    <tr>\n",
              "      <th>MEDV</th>\n",
              "      <td>1.000000</td>\n",
              "      <td>-0.386922</td>\n",
              "    </tr>\n",
              "    <tr>\n",
              "      <th>RAD</th>\n",
              "      <td>-0.386922</td>\n",
              "      <td>1.000000</td>\n",
              "    </tr>\n",
              "  </tbody>\n",
              "</table>\n",
              "</div>\n",
              "      <button class=\"colab-df-convert\" onclick=\"convertToInteractive('df-595177ec-8f70-4aa6-ab81-27fb9037ba42')\"\n",
              "              title=\"Convert this dataframe to an interactive table.\"\n",
              "              style=\"display:none;\">\n",
              "        \n",
              "  <svg xmlns=\"http://www.w3.org/2000/svg\" height=\"24px\"viewBox=\"0 0 24 24\"\n",
              "       width=\"24px\">\n",
              "    <path d=\"M0 0h24v24H0V0z\" fill=\"none\"/>\n",
              "    <path d=\"M18.56 5.44l.94 2.06.94-2.06 2.06-.94-2.06-.94-.94-2.06-.94 2.06-2.06.94zm-11 1L8.5 8.5l.94-2.06 2.06-.94-2.06-.94L8.5 2.5l-.94 2.06-2.06.94zm10 10l.94 2.06.94-2.06 2.06-.94-2.06-.94-.94-2.06-.94 2.06-2.06.94z\"/><path d=\"M17.41 7.96l-1.37-1.37c-.4-.4-.92-.59-1.43-.59-.52 0-1.04.2-1.43.59L10.3 9.45l-7.72 7.72c-.78.78-.78 2.05 0 2.83L4 21.41c.39.39.9.59 1.41.59.51 0 1.02-.2 1.41-.59l7.78-7.78 2.81-2.81c.8-.78.8-2.07 0-2.86zM5.41 20L4 18.59l7.72-7.72 1.47 1.35L5.41 20z\"/>\n",
              "  </svg>\n",
              "      </button>\n",
              "      \n",
              "  <style>\n",
              "    .colab-df-container {\n",
              "      display:flex;\n",
              "      flex-wrap:wrap;\n",
              "      gap: 12px;\n",
              "    }\n",
              "\n",
              "    .colab-df-convert {\n",
              "      background-color: #E8F0FE;\n",
              "      border: none;\n",
              "      border-radius: 50%;\n",
              "      cursor: pointer;\n",
              "      display: none;\n",
              "      fill: #1967D2;\n",
              "      height: 32px;\n",
              "      padding: 0 0 0 0;\n",
              "      width: 32px;\n",
              "    }\n",
              "\n",
              "    .colab-df-convert:hover {\n",
              "      background-color: #E2EBFA;\n",
              "      box-shadow: 0px 1px 2px rgba(60, 64, 67, 0.3), 0px 1px 3px 1px rgba(60, 64, 67, 0.15);\n",
              "      fill: #174EA6;\n",
              "    }\n",
              "\n",
              "    [theme=dark] .colab-df-convert {\n",
              "      background-color: #3B4455;\n",
              "      fill: #D2E3FC;\n",
              "    }\n",
              "\n",
              "    [theme=dark] .colab-df-convert:hover {\n",
              "      background-color: #434B5C;\n",
              "      box-shadow: 0px 1px 3px 1px rgba(0, 0, 0, 0.15);\n",
              "      filter: drop-shadow(0px 1px 2px rgba(0, 0, 0, 0.3));\n",
              "      fill: #FFFFFF;\n",
              "    }\n",
              "  </style>\n",
              "\n",
              "      <script>\n",
              "        const buttonEl =\n",
              "          document.querySelector('#df-595177ec-8f70-4aa6-ab81-27fb9037ba42 button.colab-df-convert');\n",
              "        buttonEl.style.display =\n",
              "          google.colab.kernel.accessAllowed ? 'block' : 'none';\n",
              "\n",
              "        async function convertToInteractive(key) {\n",
              "          const element = document.querySelector('#df-595177ec-8f70-4aa6-ab81-27fb9037ba42');\n",
              "          const dataTable =\n",
              "            await google.colab.kernel.invokeFunction('convertToInteractive',\n",
              "                                                     [key], {});\n",
              "          if (!dataTable) return;\n",
              "\n",
              "          const docLinkHtml = 'Like what you see? Visit the ' +\n",
              "            '<a target=\"_blank\" href=https://colab.research.google.com/notebooks/data_table.ipynb>data table notebook</a>'\n",
              "            + ' to learn more about interactive tables.';\n",
              "          element.innerHTML = '';\n",
              "          dataTable['output_type'] = 'display_data';\n",
              "          await google.colab.output.renderOutput(dataTable, element);\n",
              "          const docLink = document.createElement('div');\n",
              "          docLink.innerHTML = docLinkHtml;\n",
              "          element.appendChild(docLink);\n",
              "        }\n",
              "      </script>\n",
              "    </div>\n",
              "  </div>\n",
              "  "
            ]
          },
          "metadata": {},
          "execution_count": 76
        }
      ],
      "source": [
        "plt.title('Price of Home VS Index of Accessibility to Radial Highways')\n",
        "sns.scatterplot(data=df, x=df['MEDV'], y=df['RAD'])\n",
        "plt.show()\n",
        "df[['MEDV','RAD']].corr()"
      ]
    },
    {
      "cell_type": "code",
      "execution_count": 77,
      "metadata": {
        "colab": {
          "base_uri": "https://localhost:8080/",
          "height": 396
        },
        "id": "8byUFAaNj6CI",
        "outputId": "0c20a8ac-9e8c-4ad7-b006-cf8cf93c203a"
      },
      "outputs": [
        {
          "output_type": "display_data",
          "data": {
            "text/plain": [
              "<Figure size 432x288 with 1 Axes>"
            ],
            "image/png": "[encoded data removed]"
          },
          "metadata": {}
        },
        {
          "output_type": "execute_result",
          "data": {
            "text/plain": [
              "          MEDV       TAX\n",
              "MEDV  1.000000 -0.479308\n",
              "TAX  -0.479308  1.000000"
            ],
            "text/html": [
              "\n",
              "  <div id=\"df-bf00b1a7-a132-4699-ad2e-d244c61086f6\">\n",
              "    <div class=\"colab-df-container\">\n",
              "      <div>\n",
              "<style scoped>\n",
              "    .dataframe tbody tr th:only-of-type {\n",
              "        vertical-align: middle;\n",
              "    }\n",
              "\n",
              "    .dataframe tbody tr th {\n",
              "        vertical-align: top;\n",
              "    }\n",
              "\n",
              "    .dataframe thead th {\n",
              "        text-align: right;\n",
              "    }\n",
              "</style>\n",
              "<table border=\"1\" class=\"dataframe\">\n",
              "  <thead>\n",
              "    <tr style=\"text-align: right;\">\n",
              "      <th></th>\n",
              "      <th>MEDV</th>\n",
              "      <th>TAX</th>\n",
              "    </tr>\n",
              "  </thead>\n",
              "  <tbody>\n",
              "    <tr>\n",
              "      <th>MEDV</th>\n",
              "      <td>1.000000</td>\n",
              "      <td>-0.479308</td>\n",
              "    </tr>\n",
              "    <tr>\n",
              "      <th>TAX</th>\n",
              "      <td>-0.479308</td>\n",
              "      <td>1.000000</td>\n",
              "    </tr>\n",
              "  </tbody>\n",
              "</table>\n",
              "</div>\n",
              "      <button class=\"colab-df-convert\" onclick=\"convertToInteractive('df-bf00b1a7-a132-4699-ad2e-d244c61086f6')\"\n",
              "              title=\"Convert this dataframe to an interactive table.\"\n",
              "              style=\"display:none;\">\n",
              "        \n",
              "  <svg xmlns=\"http://www.w3.org/2000/svg\" height=\"24px\"viewBox=\"0 0 24 24\"\n",
              "       width=\"24px\">\n",
              "    <path d=\"M0 0h24v24H0V0z\" fill=\"none\"/>\n",
              "    <path d=\"M18.56 5.44l.94 2.06.94-2.06 2.06-.94-2.06-.94-.94-2.06-.94 2.06-2.06.94zm-11 1L8.5 8.5l.94-2.06 2.06-.94-2.06-.94L8.5 2.5l-.94 2.06-2.06.94zm10 10l.94 2.06.94-2.06 2.06-.94-2.06-.94-.94-2.06-.94 2.06-2.06.94z\"/><path d=\"M17.41 7.96l-1.37-1.37c-.4-.4-.92-.59-1.43-.59-.52 0-1.04.2-1.43.59L10.3 9.45l-7.72 7.72c-.78.78-.78 2.05 0 2.83L4 21.41c.39.39.9.59 1.41.59.51 0 1.02-.2 1.41-.59l7.78-7.78 2.81-2.81c.8-.78.8-2.07 0-2.86zM5.41 20L4 18.59l7.72-7.72 1.47 1.35L5.41 20z\"/>\n",
              "  </svg>\n",
              "      </button>\n",
              "      \n",
              "  <style>\n",
              "    .colab-df-container {\n",
              "      display:flex;\n",
              "      flex-wrap:wrap;\n",
              "      gap: 12px;\n",
              "    }\n",
              "\n",
              "    .colab-df-convert {\n",
              "      background-color: #E8F0FE;\n",
              "      border: none;\n",
              "      border-radius: 50%;\n",
              "      cursor: pointer;\n",
              "      display: none;\n",
              "      fill: #1967D2;\n",
              "      height: 32px;\n",
              "      padding: 0 0 0 0;\n",
              "      width: 32px;\n",
              "    }\n",
              "\n",
              "    .colab-df-convert:hover {\n",
              "      background-color: #E2EBFA;\n",
              "      box-shadow: 0px 1px 2px rgba(60, 64, 67, 0.3), 0px 1px 3px 1px rgba(60, 64, 67, 0.15);\n",
              "      fill: #174EA6;\n",
              "    }\n",
              "\n",
              "    [theme=dark] .colab-df-convert {\n",
              "      background-color: #3B4455;\n",
              "      fill: #D2E3FC;\n",
              "    }\n",
              "\n",
              "    [theme=dark] .colab-df-convert:hover {\n",
              "      background-color: #434B5C;\n",
              "      box-shadow: 0px 1px 3px 1px rgba(0, 0, 0, 0.15);\n",
              "      filter: drop-shadow(0px 1px 2px rgba(0, 0, 0, 0.3));\n",
              "      fill: #FFFFFF;\n",
              "    }\n",
              "  </style>\n",
              "\n",
              "      <script>\n",
              "        const buttonEl =\n",
              "          document.querySelector('#df-bf00b1a7-a132-4699-ad2e-d244c61086f6 button.colab-df-convert');\n",
              "        buttonEl.style.display =\n",
              "          google.colab.kernel.accessAllowed ? 'block' : 'none';\n",
              "\n",
              "        async function convertToInteractive(key) {\n",
              "          const element = document.querySelector('#df-bf00b1a7-a132-4699-ad2e-d244c61086f6');\n",
              "          const dataTable =\n",
              "            await google.colab.kernel.invokeFunction('convertToInteractive',\n",
              "                                                     [key], {});\n",
              "          if (!dataTable) return;\n",
              "\n",
              "          const docLinkHtml = 'Like what you see? Visit the ' +\n",
              "            '<a target=\"_blank\" href=https://colab.research.google.com/notebooks/data_table.ipynb>data table notebook</a>'\n",
              "            + ' to learn more about interactive tables.';\n",
              "          element.innerHTML = '';\n",
              "          dataTable['output_type'] = 'display_data';\n",
              "          await google.colab.output.renderOutput(dataTable, element);\n",
              "          const docLink = document.createElement('div');\n",
              "          docLink.innerHTML = docLinkHtml;\n",
              "          element.appendChild(docLink);\n",
              "        }\n",
              "      </script>\n",
              "    </div>\n",
              "  </div>\n",
              "  "
            ]
          },
          "metadata": {},
          "execution_count": 77
        }
      ],
      "source": [
        "plt.title('Price of Home VS Full-Value Property-Tax Rate per \\$10,000')\n",
        "sns.scatterplot(data=df, x=df['MEDV'], y=df['TAX'])\n",
        "plt.show()\n",
        "df[['MEDV','TAX']].corr()"
      ]
    },
    {
      "cell_type": "code",
      "execution_count": 78,
      "metadata": {
        "colab": {
          "base_uri": "https://localhost:8080/",
          "height": 396
        },
        "id": "NeK7NiQpj55i",
        "outputId": "d93bba90-059e-4fa9-c459-c39e8fc84390"
      },
      "outputs": [
        {
          "output_type": "display_data",
          "data": {
            "text/plain": [
              "<Figure size 432x288 with 1 Axes>"
            ],
            "image/png": "[encoded data removed]"
          },
          "metadata": {}
        },
        {
          "output_type": "execute_result",
          "data": {
            "text/plain": [
              "             MEDV   PTRATIO\n",
              "MEDV     1.000000 -0.495904\n",
              "PTRATIO -0.495904  1.000000"
            ],
            "text/html": [
              "\n",
              "  <div id=\"df-50a2b3a4-3268-4dbd-84d6-98218755a0de\">\n",
              "    <div class=\"colab-df-container\">\n",
              "      <div>\n",
              "<style scoped>\n",
              "    .dataframe tbody tr th:only-of-type {\n",
              "        vertical-align: middle;\n",
              "    }\n",
              "\n",
              "    .dataframe tbody tr th {\n",
              "        vertical-align: top;\n",
              "    }\n",
              "\n",
              "    .dataframe thead th {\n",
              "        text-align: right;\n",
              "    }\n",
              "</style>\n",
              "<table border=\"1\" class=\"dataframe\">\n",
              "  <thead>\n",
              "    <tr style=\"text-align: right;\">\n",
              "      <th></th>\n",
              "      <th>MEDV</th>\n",
              "      <th>PTRATIO</th>\n",
              "    </tr>\n",
              "  </thead>\n",
              "  <tbody>\n",
              "    <tr>\n",
              "      <th>MEDV</th>\n",
              "      <td>1.000000</td>\n",
              "      <td>-0.495904</td>\n",
              "    </tr>\n",
              "    <tr>\n",
              "      <th>PTRATIO</th>\n",
              "      <td>-0.495904</td>\n",
              "      <td>1.000000</td>\n",
              "    </tr>\n",
              "  </tbody>\n",
              "</table>\n",
              "</div>\n",
              "      <button class=\"colab-df-convert\" onclick=\"convertToInteractive('df-50a2b3a4-3268-4dbd-84d6-98218755a0de')\"\n",
              "              title=\"Convert this dataframe to an interactive table.\"\n",
              "              style=\"display:none;\">\n",
              "        \n",
              "  <svg xmlns=\"http://www.w3.org/2000/svg\" height=\"24px\"viewBox=\"0 0 24 24\"\n",
              "       width=\"24px\">\n",
              "    <path d=\"M0 0h24v24H0V0z\" fill=\"none\"/>\n",
              "    <path d=\"M18.56 5.44l.94 2.06.94-2.06 2.06-.94-2.06-.94-.94-2.06-.94 2.06-2.06.94zm-11 1L8.5 8.5l.94-2.06 2.06-.94-2.06-.94L8.5 2.5l-.94 2.06-2.06.94zm10 10l.94 2.06.94-2.06 2.06-.94-2.06-.94-.94-2.06-.94 2.06-2.06.94z\"/><path d=\"M17.41 7.96l-1.37-1.37c-.4-.4-.92-.59-1.43-.59-.52 0-1.04.2-1.43.59L10.3 9.45l-7.72 7.72c-.78.78-.78 2.05 0 2.83L4 21.41c.39.39.9.59 1.41.59.51 0 1.02-.2 1.41-.59l7.78-7.78 2.81-2.81c.8-.78.8-2.07 0-2.86zM5.41 20L4 18.59l7.72-7.72 1.47 1.35L5.41 20z\"/>\n",
              "  </svg>\n",
              "      </button>\n",
              "      \n",
              "  <style>\n",
              "    .colab-df-container {\n",
              "      display:flex;\n",
              "      flex-wrap:wrap;\n",
              "      gap: 12px;\n",
              "    }\n",
              "\n",
              "    .colab-df-convert {\n",
              "      background-color: #E8F0FE;\n",
              "      border: none;\n",
              "      border-radius: 50%;\n",
              "      cursor: pointer;\n",
              "      display: none;\n",
              "      fill: #1967D2;\n",
              "      height: 32px;\n",
              "      padding: 0 0 0 0;\n",
              "      width: 32px;\n",
              "    }\n",
              "\n",
              "    .colab-df-convert:hover {\n",
              "      background-color: #E2EBFA;\n",
              "      box-shadow: 0px 1px 2px rgba(60, 64, 67, 0.3), 0px 1px 3px 1px rgba(60, 64, 67, 0.15);\n",
              "      fill: #174EA6;\n",
              "    }\n",
              "\n",
              "    [theme=dark] .colab-df-convert {\n",
              "      background-color: #3B4455;\n",
              "      fill: #D2E3FC;\n",
              "    }\n",
              "\n",
              "    [theme=dark] .colab-df-convert:hover {\n",
              "      background-color: #434B5C;\n",
              "      box-shadow: 0px 1px 3px 1px rgba(0, 0, 0, 0.15);\n",
              "      filter: drop-shadow(0px 1px 2px rgba(0, 0, 0, 0.3));\n",
              "      fill: #FFFFFF;\n",
              "    }\n",
              "  </style>\n",
              "\n",
              "      <script>\n",
              "        const buttonEl =\n",
              "          document.querySelector('#df-50a2b3a4-3268-4dbd-84d6-98218755a0de button.colab-df-convert');\n",
              "        buttonEl.style.display =\n",
              "          google.colab.kernel.accessAllowed ? 'block' : 'none';\n",
              "\n",
              "        async function convertToInteractive(key) {\n",
              "          const element = document.querySelector('#df-50a2b3a4-3268-4dbd-84d6-98218755a0de');\n",
              "          const dataTable =\n",
              "            await google.colab.kernel.invokeFunction('convertToInteractive',\n",
              "                                                     [key], {});\n",
              "          if (!dataTable) return;\n",
              "\n",
              "          const docLinkHtml = 'Like what you see? Visit the ' +\n",
              "            '<a target=\"_blank\" href=https://colab.research.google.com/notebooks/data_table.ipynb>data table notebook</a>'\n",
              "            + ' to learn more about interactive tables.';\n",
              "          element.innerHTML = '';\n",
              "          dataTable['output_type'] = 'display_data';\n",
              "          await google.colab.output.renderOutput(dataTable, element);\n",
              "          const docLink = document.createElement('div');\n",
              "          docLink.innerHTML = docLinkHtml;\n",
              "          element.appendChild(docLink);\n",
              "        }\n",
              "      </script>\n",
              "    </div>\n",
              "  </div>\n",
              "  "
            ]
          },
          "metadata": {},
          "execution_count": 78
        }
      ],
      "source": [
        "plt.title('Price of Home VS Pupil-Teacher Ratio by Town')\n",
        "sns.scatterplot(data=df, x=df['MEDV'], y=df['PTRATIO'])\n",
        "plt.show()\n",
        "df[['MEDV','PTRATIO']].corr()"
      ]
    },
    {
      "cell_type": "markdown",
      "metadata": {
        "id": "2D9cSTcNnCIX"
      },
      "source": [
        "###**Splitting of Data**"
      ]
    },
    {
      "cell_type": "code",
      "source": [
        "df = pd.read_csv('https://raw.githubusercontent.com/JOHANDILEEP21/Tasks6/main/Data/train.csv')\n",
        "df.head()"
      ],
      "metadata": {
        "colab": {
          "base_uri": "https://localhost:8080/",
          "height": 206
        },
        "id": "filXc4bgf93x",
        "outputId": "9ad08554-784d-457e-b6b0-21539e4e8f52"
      },
      "execution_count": 98,
      "outputs": [
        {
          "output_type": "execute_result",
          "data": {
            "text/plain": [
              "   ID     CRIM    ZN  INDUS  CHAS    NOX     RM    AGE     DIS  RAD    TAX  \\\n",
              "0   0  0.95577   0.0   8.14     0  0.538  6.047   88.8  4.4534    4  307.0   \n",
              "1   1  0.02875  28.0  15.04     0  0.464  6.211   28.9  3.6659    4  270.0   \n",
              "2   2  1.22358   0.0  19.58     0  0.605  6.943   97.4  1.8773    5  403.0   \n",
              "3   3  5.66637   0.0  18.10     0  0.740  6.219  100.0  2.0048   24  666.0   \n",
              "4   4  0.04544   0.0   3.24     0  0.460  6.144   32.2  5.8736    4  430.0   \n",
              "\n",
              "   PTRATIO       B  LSTAT  MEDV  \n",
              "0     21.0  306.38  17.28  14.8  \n",
              "1     18.2  396.33   6.21  25.0  \n",
              "2     14.7  363.43   4.59  41.3  \n",
              "3     20.2  395.69  16.59  18.4  \n",
              "4     16.9  368.57   9.09  19.8  "
            ],
            "text/html": [
              "\n",
              "  <div id=\"df-f2efe780-1deb-4169-960b-76ce7772cea6\">\n",
              "    <div class=\"colab-df-container\">\n",
              "      <div>\n",
              "<style scoped>\n",
              "    .dataframe tbody tr th:only-of-type {\n",
              "        vertical-align: middle;\n",
              "    }\n",
              "\n",
              "    .dataframe tbody tr th {\n",
              "        vertical-align: top;\n",
              "    }\n",
              "\n",
              "    .dataframe thead th {\n",
              "        text-align: right;\n",
              "    }\n",
              "</style>\n",
              "<table border=\"1\" class=\"dataframe\">\n",
              "  <thead>\n",
              "    <tr style=\"text-align: right;\">\n",
              "      <th></th>\n",
              "      <th>ID</th>\n",
              "      <th>CRIM</th>\n",
              "      <th>ZN</th>\n",
              "      <th>INDUS</th>\n",
              "      <th>CHAS</th>\n",
              "      <th>NOX</th>\n",
              "      <th>RM</th>\n",
              "      <th>AGE</th>\n",
              "      <th>DIS</th>\n",
              "      <th>RAD</th>\n",
              "      <th>TAX</th>\n",
              "      <th>PTRATIO</th>\n",
              "      <th>B</th>\n",
              "      <th>LSTAT</th>\n",
              "      <th>MEDV</th>\n",
              "    </tr>\n",
              "  </thead>\n",
              "  <tbody>\n",
              "    <tr>\n",
              "      <th>0</th>\n",
              "      <td>0</td>\n",
              "      <td>0.95577</td>\n",
              "      <td>0.0</td>\n",
              "      <td>8.14</td>\n",
              "      <td>0</td>\n",
              "      <td>0.538</td>\n",
              "      <td>6.047</td>\n",
              "      <td>88.8</td>\n",
              "      <td>4.4534</td>\n",
              "      <td>4</td>\n",
              "      <td>307.0</td>\n",
              "      <td>21.0</td>\n",
              "      <td>306.38</td>\n",
              "      <td>17.28</td>\n",
              "      <td>14.8</td>\n",
              "    </tr>\n",
              "    <tr>\n",
              "      <th>1</th>\n",
              "      <td>1</td>\n",
              "      <td>0.02875</td>\n",
              "      <td>28.0</td>\n",
              "      <td>15.04</td>\n",
              "      <td>0</td>\n",
              "      <td>0.464</td>\n",
              "      <td>6.211</td>\n",
              "      <td>28.9</td>\n",
              "      <td>3.6659</td>\n",
              "      <td>4</td>\n",
              "      <td>270.0</td>\n",
              "      <td>18.2</td>\n",
              "      <td>396.33</td>\n",
              "      <td>6.21</td>\n",
              "      <td>25.0</td>\n",
              "    </tr>\n",
              "    <tr>\n",
              "      <th>2</th>\n",
              "      <td>2</td>\n",
              "      <td>1.22358</td>\n",
              "      <td>0.0</td>\n",
              "      <td>19.58</td>\n",
              "      <td>0</td>\n",
              "      <td>0.605</td>\n",
              "      <td>6.943</td>\n",
              "      <td>97.4</td>\n",
              "      <td>1.8773</td>\n",
              "      <td>5</td>\n",
              "      <td>403.0</td>\n",
              "      <td>14.7</td>\n",
              "      <td>363.43</td>\n",
              "      <td>4.59</td>\n",
              "      <td>41.3</td>\n",
              "    </tr>\n",
              "    <tr>\n",
              "      <th>3</th>\n",
              "      <td>3</td>\n",
              "      <td>5.66637</td>\n",
              "      <td>0.0</td>\n",
              "      <td>18.10</td>\n",
              "      <td>0</td>\n",
              "      <td>0.740</td>\n",
              "      <td>6.219</td>\n",
              "      <td>100.0</td>\n",
              "      <td>2.0048</td>\n",
              "      <td>24</td>\n",
              "      <td>666.0</td>\n",
              "      <td>20.2</td>\n",
              "      <td>395.69</td>\n",
              "      <td>16.59</td>\n",
              "      <td>18.4</td>\n",
              "    </tr>\n",
              "    <tr>\n",
              "      <th>4</th>\n",
              "      <td>4</td>\n",
              "      <td>0.04544</td>\n",
              "      <td>0.0</td>\n",
              "      <td>3.24</td>\n",
              "      <td>0</td>\n",
              "      <td>0.460</td>\n",
              "      <td>6.144</td>\n",
              "      <td>32.2</td>\n",
              "      <td>5.8736</td>\n",
              "      <td>4</td>\n",
              "      <td>430.0</td>\n",
              "      <td>16.9</td>\n",
              "      <td>368.57</td>\n",
              "      <td>9.09</td>\n",
              "      <td>19.8</td>\n",
              "    </tr>\n",
              "  </tbody>\n",
              "</table>\n",
              "</div>\n",
              "      <button class=\"colab-df-convert\" onclick=\"convertToInteractive('df-f2efe780-1deb-4169-960b-76ce7772cea6')\"\n",
              "              title=\"Convert this dataframe to an interactive table.\"\n",
              "              style=\"display:none;\">\n",
              "        \n",
              "  <svg xmlns=\"http://www.w3.org/2000/svg\" height=\"24px\"viewBox=\"0 0 24 24\"\n",
              "       width=\"24px\">\n",
              "    <path d=\"M0 0h24v24H0V0z\" fill=\"none\"/>\n",
              "    <path d=\"M18.56 5.44l.94 2.06.94-2.06 2.06-.94-2.06-.94-.94-2.06-.94 2.06-2.06.94zm-11 1L8.5 8.5l.94-2.06 2.06-.94-2.06-.94L8.5 2.5l-.94 2.06-2.06.94zm10 10l.94 2.06.94-2.06 2.06-.94-2.06-.94-.94-2.06-.94 2.06-2.06.94z\"/><path d=\"M17.41 7.96l-1.37-1.37c-.4-.4-.92-.59-1.43-.59-.52 0-1.04.2-1.43.59L10.3 9.45l-7.72 7.72c-.78.78-.78 2.05 0 2.83L4 21.41c.39.39.9.59 1.41.59.51 0 1.02-.2 1.41-.59l7.78-7.78 2.81-2.81c.8-.78.8-2.07 0-2.86zM5.41 20L4 18.59l7.72-7.72 1.47 1.35L5.41 20z\"/>\n",
              "  </svg>\n",
              "      </button>\n",
              "      \n",
              "  <style>\n",
              "    .colab-df-container {\n",
              "      display:flex;\n",
              "      flex-wrap:wrap;\n",
              "      gap: 12px;\n",
              "    }\n",
              "\n",
              "    .colab-df-convert {\n",
              "      background-color: #E8F0FE;\n",
              "      border: none;\n",
              "      border-radius: 50%;\n",
              "      cursor: pointer;\n",
              "      display: none;\n",
              "      fill: #1967D2;\n",
              "      height: 32px;\n",
              "      padding: 0 0 0 0;\n",
              "      width: 32px;\n",
              "    }\n",
              "\n",
              "    .colab-df-convert:hover {\n",
              "      background-color: #E2EBFA;\n",
              "      box-shadow: 0px 1px 2px rgba(60, 64, 67, 0.3), 0px 1px 3px 1px rgba(60, 64, 67, 0.15);\n",
              "      fill: #174EA6;\n",
              "    }\n",
              "\n",
              "    [theme=dark] .colab-df-convert {\n",
              "      background-color: #3B4455;\n",
              "      fill: #D2E3FC;\n",
              "    }\n",
              "\n",
              "    [theme=dark] .colab-df-convert:hover {\n",
              "      background-color: #434B5C;\n",
              "      box-shadow: 0px 1px 3px 1px rgba(0, 0, 0, 0.15);\n",
              "      filter: drop-shadow(0px 1px 2px rgba(0, 0, 0, 0.3));\n",
              "      fill: #FFFFFF;\n",
              "    }\n",
              "  </style>\n",
              "\n",
              "      <script>\n",
              "        const buttonEl =\n",
              "          document.querySelector('#df-f2efe780-1deb-4169-960b-76ce7772cea6 button.colab-df-convert');\n",
              "        buttonEl.style.display =\n",
              "          google.colab.kernel.accessAllowed ? 'block' : 'none';\n",
              "\n",
              "        async function convertToInteractive(key) {\n",
              "          const element = document.querySelector('#df-f2efe780-1deb-4169-960b-76ce7772cea6');\n",
              "          const dataTable =\n",
              "            await google.colab.kernel.invokeFunction('convertToInteractive',\n",
              "                                                     [key], {});\n",
              "          if (!dataTable) return;\n",
              "\n",
              "          const docLinkHtml = 'Like what you see? Visit the ' +\n",
              "            '<a target=\"_blank\" href=https://colab.research.google.com/notebooks/data_table.ipynb>data table notebook</a>'\n",
              "            + ' to learn more about interactive tables.';\n",
              "          element.innerHTML = '';\n",
              "          dataTable['output_type'] = 'display_data';\n",
              "          await google.colab.output.renderOutput(dataTable, element);\n",
              "          const docLink = document.createElement('div');\n",
              "          docLink.innerHTML = docLinkHtml;\n",
              "          element.appendChild(docLink);\n",
              "        }\n",
              "      </script>\n",
              "    </div>\n",
              "  </div>\n",
              "  "
            ]
          },
          "metadata": {},
          "execution_count": 98
        }
      ]
    },
    {
      "cell_type": "code",
      "execution_count": 99,
      "metadata": {
        "colab": {
          "base_uri": "https://localhost:8080/"
        },
        "id": "MSDvneZlj5xz",
        "outputId": "e03fca73-ddb7-44f7-ea5a-8997b0cccd4a"
      },
      "outputs": [
        {
          "output_type": "stream",
          "name": "stdout",
          "text": [
            "['ID', 'CRIM', 'ZN', 'INDUS', 'CHAS', 'NOX', 'RM', 'AGE', 'DIS', 'RAD', 'TAX', 'PTRATIO', 'B', 'LSTAT', 'MEDV']\n"
          ]
        }
      ],
      "source": [
        "b=[]\n",
        "for i in df.keys():\n",
        "  b.append(i)\n",
        "print(b)"
      ]
    },
    {
      "cell_type": "markdown",
      "metadata": {
        "id": "GHs-A_1pnlIR"
      },
      "source": [
        "###**We don't want 'MEDV' and 'ID' in the feature set b, we newly defined from the dummies**"
      ]
    },
    {
      "cell_type": "code",
      "execution_count": 100,
      "metadata": {
        "colab": {
          "base_uri": "https://localhost:8080/"
        },
        "id": "n0bd4WhYj5mf",
        "outputId": "989e5c19-51f8-47f9-a05e-e749503326f9"
      },
      "outputs": [
        {
          "output_type": "stream",
          "name": "stdout",
          "text": [
            "['CRIM', 'ZN', 'INDUS', 'CHAS', 'NOX', 'RM', 'AGE', 'DIS', 'RAD', 'TAX', 'PTRATIO', 'B', 'LSTAT']\n"
          ]
        }
      ],
      "source": [
        "b.remove('ID')\n",
        "b.remove('MEDV')\n",
        "print(b)"
      ]
    },
    {
      "cell_type": "markdown",
      "metadata": {
        "id": "kga49Al7nvNS"
      },
      "source": [
        "###**Now we are taking the feature set as b**"
      ]
    },
    {
      "cell_type": "code",
      "execution_count": 101,
      "metadata": {
        "id": "AZabadG1j5bp"
      },
      "outputs": [],
      "source": [
        "X = df[b].values\n",
        "y=df['MEDV'].values"
      ]
    },
    {
      "cell_type": "markdown",
      "source": [
        "##Model Training"
      ],
      "metadata": {
        "id": "tUj_VrssESyG"
      }
    },
    {
      "cell_type": "code",
      "execution_count": 102,
      "metadata": {
        "id": "ZHBDbcl4jwVW"
      },
      "outputs": [],
      "source": [
        "from sklearn.model_selection import train_test_split\n",
        "X_train, X_test, y_train, y_test = train_test_split(X, y, test_size=0.2, random_state=0)"
      ]
    },
    {
      "cell_type": "code",
      "execution_count": 103,
      "metadata": {
        "id": "RRw5Uft4j4ss"
      },
      "outputs": [],
      "source": [
        "from sklearn.preprocessing import StandardScaler\n",
        "scaler = StandardScaler()\n",
        "scaler.fit(X_train, y_train)\n",
        "X_train_scaled = scaler.transform(X_train)\n",
        "X_test_scaled = scaler.transform(X_test)"
      ]
    },
    {
      "cell_type": "code",
      "source": [
        "from sklearn.linear_model import LinearRegression\n",
        "regressor = LinearRegression()\n",
        "regressor.fit(X_train_scaled, y_train)"
      ],
      "metadata": {
        "colab": {
          "base_uri": "https://localhost:8080/"
        },
        "id": "3a8FvJOsEQxG",
        "outputId": "b63e106b-85a5-40d9-a4fa-f11e02908d04"
      },
      "execution_count": 104,
      "outputs": [
        {
          "output_type": "execute_result",
          "data": {
            "text/plain": [
              "LinearRegression()"
            ]
          },
          "metadata": {},
          "execution_count": 104
        }
      ]
    },
    {
      "cell_type": "code",
      "source": [
        "regressor.intercept_"
      ],
      "metadata": {
        "colab": {
          "base_uri": "https://localhost:8080/"
        },
        "id": "C_4Z6tSwgJSx",
        "outputId": "ebb82168-0dd8-4c6f-e39b-3bdd5c848af1"
      },
      "execution_count": 105,
      "outputs": [
        {
          "output_type": "execute_result",
          "data": {
            "text/plain": [
              "22.824375000000025"
            ]
          },
          "metadata": {},
          "execution_count": 105
        }
      ]
    },
    {
      "cell_type": "code",
      "source": [
        "coeff_df = pd.DataFrame(regressor.coef_, [b], columns=['Coefficient'])\n",
        "coeff_df"
      ],
      "metadata": {
        "colab": {
          "base_uri": "https://localhost:8080/",
          "height": 457
        },
        "id": "w6CHMvuJEsWd",
        "outputId": "201faba1-a0bd-42ed-be60-9699ddf8c5be"
      },
      "execution_count": 106,
      "outputs": [
        {
          "output_type": "execute_result",
          "data": {
            "text/plain": [
              "         Coefficient\n",
              "CRIM       -0.890760\n",
              "ZN          0.856409\n",
              "INDUS      -0.080591\n",
              "CHAS        0.866069\n",
              "NOX        -2.118463\n",
              "RM          3.099368\n",
              "AGE         0.008133\n",
              "DIS        -2.953137\n",
              "RAD         2.720346\n",
              "TAX        -2.261846\n",
              "PTRATIO    -2.148864\n",
              "B           0.650020\n",
              "LSTAT      -3.457305"
            ],
            "text/html": [
              "\n",
              "  <div id=\"df-f2dd70f0-fc00-44d6-a42b-6e22aaebc00e\">\n",
              "    <div class=\"colab-df-container\">\n",
              "      <div>\n",
              "<style scoped>\n",
              "    .dataframe tbody tr th:only-of-type {\n",
              "        vertical-align: middle;\n",
              "    }\n",
              "\n",
              "    .dataframe tbody tr th {\n",
              "        vertical-align: top;\n",
              "    }\n",
              "\n",
              "    .dataframe thead th {\n",
              "        text-align: right;\n",
              "    }\n",
              "</style>\n",
              "<table border=\"1\" class=\"dataframe\">\n",
              "  <thead>\n",
              "    <tr style=\"text-align: right;\">\n",
              "      <th></th>\n",
              "      <th>Coefficient</th>\n",
              "    </tr>\n",
              "  </thead>\n",
              "  <tbody>\n",
              "    <tr>\n",
              "      <th>CRIM</th>\n",
              "      <td>-0.890760</td>\n",
              "    </tr>\n",
              "    <tr>\n",
              "      <th>ZN</th>\n",
              "      <td>0.856409</td>\n",
              "    </tr>\n",
              "    <tr>\n",
              "      <th>INDUS</th>\n",
              "      <td>-0.080591</td>\n",
              "    </tr>\n",
              "    <tr>\n",
              "      <th>CHAS</th>\n",
              "      <td>0.866069</td>\n",
              "    </tr>\n",
              "    <tr>\n",
              "      <th>NOX</th>\n",
              "      <td>-2.118463</td>\n",
              "    </tr>\n",
              "    <tr>\n",
              "      <th>RM</th>\n",
              "      <td>3.099368</td>\n",
              "    </tr>\n",
              "    <tr>\n",
              "      <th>AGE</th>\n",
              "      <td>0.008133</td>\n",
              "    </tr>\n",
              "    <tr>\n",
              "      <th>DIS</th>\n",
              "      <td>-2.953137</td>\n",
              "    </tr>\n",
              "    <tr>\n",
              "      <th>RAD</th>\n",
              "      <td>2.720346</td>\n",
              "    </tr>\n",
              "    <tr>\n",
              "      <th>TAX</th>\n",
              "      <td>-2.261846</td>\n",
              "    </tr>\n",
              "    <tr>\n",
              "      <th>PTRATIO</th>\n",
              "      <td>-2.148864</td>\n",
              "    </tr>\n",
              "    <tr>\n",
              "      <th>B</th>\n",
              "      <td>0.650020</td>\n",
              "    </tr>\n",
              "    <tr>\n",
              "      <th>LSTAT</th>\n",
              "      <td>-3.457305</td>\n",
              "    </tr>\n",
              "  </tbody>\n",
              "</table>\n",
              "</div>\n",
              "      <button class=\"colab-df-convert\" onclick=\"convertToInteractive('df-f2dd70f0-fc00-44d6-a42b-6e22aaebc00e')\"\n",
              "              title=\"Convert this dataframe to an interactive table.\"\n",
              "              style=\"display:none;\">\n",
              "        \n",
              "  <svg xmlns=\"http://www.w3.org/2000/svg\" height=\"24px\"viewBox=\"0 0 24 24\"\n",
              "       width=\"24px\">\n",
              "    <path d=\"M0 0h24v24H0V0z\" fill=\"none\"/>\n",
              "    <path d=\"M18.56 5.44l.94 2.06.94-2.06 2.06-.94-2.06-.94-.94-2.06-.94 2.06-2.06.94zm-11 1L8.5 8.5l.94-2.06 2.06-.94-2.06-.94L8.5 2.5l-.94 2.06-2.06.94zm10 10l.94 2.06.94-2.06 2.06-.94-2.06-.94-.94-2.06-.94 2.06-2.06.94z\"/><path d=\"M17.41 7.96l-1.37-1.37c-.4-.4-.92-.59-1.43-.59-.52 0-1.04.2-1.43.59L10.3 9.45l-7.72 7.72c-.78.78-.78 2.05 0 2.83L4 21.41c.39.39.9.59 1.41.59.51 0 1.02-.2 1.41-.59l7.78-7.78 2.81-2.81c.8-.78.8-2.07 0-2.86zM5.41 20L4 18.59l7.72-7.72 1.47 1.35L5.41 20z\"/>\n",
              "  </svg>\n",
              "      </button>\n",
              "      \n",
              "  <style>\n",
              "    .colab-df-container {\n",
              "      display:flex;\n",
              "      flex-wrap:wrap;\n",
              "      gap: 12px;\n",
              "    }\n",
              "\n",
              "    .colab-df-convert {\n",
              "      background-color: #E8F0FE;\n",
              "      border: none;\n",
              "      border-radius: 50%;\n",
              "      cursor: pointer;\n",
              "      display: none;\n",
              "      fill: #1967D2;\n",
              "      height: 32px;\n",
              "      padding: 0 0 0 0;\n",
              "      width: 32px;\n",
              "    }\n",
              "\n",
              "    .colab-df-convert:hover {\n",
              "      background-color: #E2EBFA;\n",
              "      box-shadow: 0px 1px 2px rgba(60, 64, 67, 0.3), 0px 1px 3px 1px rgba(60, 64, 67, 0.15);\n",
              "      fill: #174EA6;\n",
              "    }\n",
              "\n",
              "    [theme=dark] .colab-df-convert {\n",
              "      background-color: #3B4455;\n",
              "      fill: #D2E3FC;\n",
              "    }\n",
              "\n",
              "    [theme=dark] .colab-df-convert:hover {\n",
              "      background-color: #434B5C;\n",
              "      box-shadow: 0px 1px 3px 1px rgba(0, 0, 0, 0.15);\n",
              "      filter: drop-shadow(0px 1px 2px rgba(0, 0, 0, 0.3));\n",
              "      fill: #FFFFFF;\n",
              "    }\n",
              "  </style>\n",
              "\n",
              "      <script>\n",
              "        const buttonEl =\n",
              "          document.querySelector('#df-f2dd70f0-fc00-44d6-a42b-6e22aaebc00e button.colab-df-convert');\n",
              "        buttonEl.style.display =\n",
              "          google.colab.kernel.accessAllowed ? 'block' : 'none';\n",
              "\n",
              "        async function convertToInteractive(key) {\n",
              "          const element = document.querySelector('#df-f2dd70f0-fc00-44d6-a42b-6e22aaebc00e');\n",
              "          const dataTable =\n",
              "            await google.colab.kernel.invokeFunction('convertToInteractive',\n",
              "                                                     [key], {});\n",
              "          if (!dataTable) return;\n",
              "\n",
              "          const docLinkHtml = 'Like what you see? Visit the ' +\n",
              "            '<a target=\"_blank\" href=https://colab.research.google.com/notebooks/data_table.ipynb>data table notebook</a>'\n",
              "            + ' to learn more about interactive tables.';\n",
              "          element.innerHTML = '';\n",
              "          dataTable['output_type'] = 'display_data';\n",
              "          await google.colab.output.renderOutput(dataTable, element);\n",
              "          const docLink = document.createElement('div');\n",
              "          docLink.innerHTML = docLinkHtml;\n",
              "          element.appendChild(docLink);\n",
              "        }\n",
              "      </script>\n",
              "    </div>\n",
              "  </div>\n",
              "  "
            ]
          },
          "metadata": {},
          "execution_count": 106
        }
      ]
    },
    {
      "cell_type": "code",
      "source": [
        "y_pred = regressor.predict(X_test_scaled)\n",
        "print(y_pred)"
      ],
      "metadata": {
        "colab": {
          "base_uri": "https://localhost:8080/"
        },
        "id": "t6gfPa7TFa1n",
        "outputId": "b0fb9f38-f860-4b51-fc88-3a471289a4ba"
      },
      "execution_count": 109,
      "outputs": [
        {
          "output_type": "stream",
          "name": "stdout",
          "text": [
            "[13.6693765  19.95899205 24.84532881 26.02779473 19.55934583 23.05863669\n",
            " 23.26033434 13.85955083 22.14356845 18.05511774 31.98639236 22.79226541\n",
            " 38.87055984 22.35835412 22.97612654 23.50943965 21.08853606 16.21021809\n",
            " 22.9290802  31.14624403 23.26738248 13.73844171 25.98112972 25.84530626\n",
            " 32.74545173 24.90319794 24.34607324 10.66390987 27.52040251 20.85014271\n",
            " 18.29452628 17.11405755 24.55918521 24.19637341 23.45473985 24.92899963\n",
            " 24.94147845 17.04910812 21.51786957 28.9582054  28.022454   24.9600842\n",
            " 14.93679211 28.51696658  7.56278531 20.73488734 23.27288227 17.74408874\n",
            " 22.19736005 30.91186374 15.99548172 22.64634981 22.67983312 28.91909404\n",
            " 17.28934571 23.2878774  20.06423087 41.58690182 19.82481793 17.79847501\n",
            " 28.13354487 17.13784569 21.91373217 28.51630621 20.42290114 19.21725804\n",
            " 22.22006113 16.12836918 24.01812773 14.97590888 15.53011443 15.32272934\n",
            " 18.6464185  30.8024034  14.18606553 34.30066326 15.51249456 13.06626886\n",
            " 21.16743837 20.52172074]\n"
          ]
        }
      ]
    },
    {
      "cell_type": "code",
      "source": [
        "from sklearn import metrics\n",
        "print('R^2:',metrics.r2_score(y_test, y_pred))\n",
        "print('Adjusted R^2:',1 - (1-metrics.r2_score(y_test, y_pred))*(len(y_train)-1)/(len(y_train)-X_train.shape[1]-1))\n",
        "print('MAE:',metrics.mean_absolute_error(y_test, y_pred))\n",
        "print('MSE:',metrics.mean_squared_error(y_test, y_pred))\n",
        "print('RMSE:',np.sqrt(metrics.mean_squared_error(y_test, y_pred)))"
      ],
      "metadata": {
        "colab": {
          "base_uri": "https://localhost:8080/"
        },
        "id": "-_JIVAG8c3aQ",
        "outputId": "62b4cbb6-fc5c-407f-c8fa-1869a55fae9e"
      },
      "execution_count": 111,
      "outputs": [
        {
          "output_type": "stream",
          "name": "stdout",
          "text": [
            "R^2: 0.730168884117644\n",
            "Adjusted R^2: 0.7187054706978053\n",
            "MAE: 2.6651866387853387\n",
            "MSE: 11.386474667728377\n",
            "RMSE: 3.3743850799409922\n"
          ]
        }
      ]
    },
    {
      "cell_type": "markdown",
      "source": [
        "###𝑅^2 : It is a measure of the linear relationship between X and Y. It is interpreted as the proportion of the variance in the dependent variable that is predictable from the independent variable.\n",
        "\n",
        "###Adjusted 𝑅^2 :The adjusted R-squared compares the explanatory power of regression models that contain different numbers of predictors.\n",
        "\n",
        "###MAE : It is the mean of the absolute value of the errors. It measures the difference between two continuous variables, here actual and predicted values of y. \n",
        "\n",
        "###MSE: The mean square error (MSE) is just like the MAE, but squares the difference before summing them all instead of using the absolute value. \n",
        "\n",
        "###RMSE: The mean square error (MSE) is just like the MAE, but squares the difference before summing them all instead of using the absolute value. "
      ],
      "metadata": {
        "id": "DqgFl9N3gy9T"
      }
    },
    {
      "cell_type": "code",
      "source": [
        "df = pd.DataFrame({'Actual': y_test, 'Predict':y_pred})\n",
        "df"
      ],
      "metadata": {
        "colab": {
          "base_uri": "https://localhost:8080/",
          "height": 424
        },
        "id": "k1fkaqpMFwhc",
        "outputId": "10967969-6b80-4f0f-ebec-3716051c7aff"
      },
      "execution_count": 114,
      "outputs": [
        {
          "output_type": "execute_result",
          "data": {
            "text/plain": [
              "    Actual    Predict\n",
              "0     13.3  13.669376\n",
              "1     19.9  19.958992\n",
              "2     23.1  24.845329\n",
              "3     22.2  26.027795\n",
              "4     18.9  19.559346\n",
              "..     ...        ...\n",
              "75    26.7  34.300663\n",
              "76    17.4  15.512495\n",
              "77    15.6  13.066269\n",
              "78    21.0  21.167438\n",
              "79    20.4  20.521721\n",
              "\n",
              "[80 rows x 2 columns]"
            ],
            "text/html": [
              "\n",
              "  <div id=\"df-fd77ac43-d448-4e3d-8c51-38e9bb63046b\">\n",
              "    <div class=\"colab-df-container\">\n",
              "      <div>\n",
              "<style scoped>\n",
              "    .dataframe tbody tr th:only-of-type {\n",
              "        vertical-align: middle;\n",
              "    }\n",
              "\n",
              "    .dataframe tbody tr th {\n",
              "        vertical-align: top;\n",
              "    }\n",
              "\n",
              "    .dataframe thead th {\n",
              "        text-align: right;\n",
              "    }\n",
              "</style>\n",
              "<table border=\"1\" class=\"dataframe\">\n",
              "  <thead>\n",
              "    <tr style=\"text-align: right;\">\n",
              "      <th></th>\n",
              "      <th>Actual</th>\n",
              "      <th>Predict</th>\n",
              "    </tr>\n",
              "  </thead>\n",
              "  <tbody>\n",
              "    <tr>\n",
              "      <th>0</th>\n",
              "      <td>13.3</td>\n",
              "      <td>13.669376</td>\n",
              "    </tr>\n",
              "    <tr>\n",
              "      <th>1</th>\n",
              "      <td>19.9</td>\n",
              "      <td>19.958992</td>\n",
              "    </tr>\n",
              "    <tr>\n",
              "      <th>2</th>\n",
              "      <td>23.1</td>\n",
              "      <td>24.845329</td>\n",
              "    </tr>\n",
              "    <tr>\n",
              "      <th>3</th>\n",
              "      <td>22.2</td>\n",
              "      <td>26.027795</td>\n",
              "    </tr>\n",
              "    <tr>\n",
              "      <th>4</th>\n",
              "      <td>18.9</td>\n",
              "      <td>19.559346</td>\n",
              "    </tr>\n",
              "    <tr>\n",
              "      <th>...</th>\n",
              "      <td>...</td>\n",
              "      <td>...</td>\n",
              "    </tr>\n",
              "    <tr>\n",
              "      <th>75</th>\n",
              "      <td>26.7</td>\n",
              "      <td>34.300663</td>\n",
              "    </tr>\n",
              "    <tr>\n",
              "      <th>76</th>\n",
              "      <td>17.4</td>\n",
              "      <td>15.512495</td>\n",
              "    </tr>\n",
              "    <tr>\n",
              "      <th>77</th>\n",
              "      <td>15.6</td>\n",
              "      <td>13.066269</td>\n",
              "    </tr>\n",
              "    <tr>\n",
              "      <th>78</th>\n",
              "      <td>21.0</td>\n",
              "      <td>21.167438</td>\n",
              "    </tr>\n",
              "    <tr>\n",
              "      <th>79</th>\n",
              "      <td>20.4</td>\n",
              "      <td>20.521721</td>\n",
              "    </tr>\n",
              "  </tbody>\n",
              "</table>\n",
              "<p>80 rows × 2 columns</p>\n",
              "</div>\n",
              "      <button class=\"colab-df-convert\" onclick=\"convertToInteractive('df-fd77ac43-d448-4e3d-8c51-38e9bb63046b')\"\n",
              "              title=\"Convert this dataframe to an interactive table.\"\n",
              "              style=\"display:none;\">\n",
              "        \n",
              "  <svg xmlns=\"http://www.w3.org/2000/svg\" height=\"24px\"viewBox=\"0 0 24 24\"\n",
              "       width=\"24px\">\n",
              "    <path d=\"M0 0h24v24H0V0z\" fill=\"none\"/>\n",
              "    <path d=\"M18.56 5.44l.94 2.06.94-2.06 2.06-.94-2.06-.94-.94-2.06-.94 2.06-2.06.94zm-11 1L8.5 8.5l.94-2.06 2.06-.94-2.06-.94L8.5 2.5l-.94 2.06-2.06.94zm10 10l.94 2.06.94-2.06 2.06-.94-2.06-.94-.94-2.06-.94 2.06-2.06.94z\"/><path d=\"M17.41 7.96l-1.37-1.37c-.4-.4-.92-.59-1.43-.59-.52 0-1.04.2-1.43.59L10.3 9.45l-7.72 7.72c-.78.78-.78 2.05 0 2.83L4 21.41c.39.39.9.59 1.41.59.51 0 1.02-.2 1.41-.59l7.78-7.78 2.81-2.81c.8-.78.8-2.07 0-2.86zM5.41 20L4 18.59l7.72-7.72 1.47 1.35L5.41 20z\"/>\n",
              "  </svg>\n",
              "      </button>\n",
              "      \n",
              "  <style>\n",
              "    .colab-df-container {\n",
              "      display:flex;\n",
              "      flex-wrap:wrap;\n",
              "      gap: 12px;\n",
              "    }\n",
              "\n",
              "    .colab-df-convert {\n",
              "      background-color: #E8F0FE;\n",
              "      border: none;\n",
              "      border-radius: 50%;\n",
              "      cursor: pointer;\n",
              "      display: none;\n",
              "      fill: #1967D2;\n",
              "      height: 32px;\n",
              "      padding: 0 0 0 0;\n",
              "      width: 32px;\n",
              "    }\n",
              "\n",
              "    .colab-df-convert:hover {\n",
              "      background-color: #E2EBFA;\n",
              "      box-shadow: 0px 1px 2px rgba(60, 64, 67, 0.3), 0px 1px 3px 1px rgba(60, 64, 67, 0.15);\n",
              "      fill: #174EA6;\n",
              "    }\n",
              "\n",
              "    [theme=dark] .colab-df-convert {\n",
              "      background-color: #3B4455;\n",
              "      fill: #D2E3FC;\n",
              "    }\n",
              "\n",
              "    [theme=dark] .colab-df-convert:hover {\n",
              "      background-color: #434B5C;\n",
              "      box-shadow: 0px 1px 3px 1px rgba(0, 0, 0, 0.15);\n",
              "      filter: drop-shadow(0px 1px 2px rgba(0, 0, 0, 0.3));\n",
              "      fill: #FFFFFF;\n",
              "    }\n",
              "  </style>\n",
              "\n",
              "      <script>\n",
              "        const buttonEl =\n",
              "          document.querySelector('#df-fd77ac43-d448-4e3d-8c51-38e9bb63046b button.colab-df-convert');\n",
              "        buttonEl.style.display =\n",
              "          google.colab.kernel.accessAllowed ? 'block' : 'none';\n",
              "\n",
              "        async function convertToInteractive(key) {\n",
              "          const element = document.querySelector('#df-fd77ac43-d448-4e3d-8c51-38e9bb63046b');\n",
              "          const dataTable =\n",
              "            await google.colab.kernel.invokeFunction('convertToInteractive',\n",
              "                                                     [key], {});\n",
              "          if (!dataTable) return;\n",
              "\n",
              "          const docLinkHtml = 'Like what you see? Visit the ' +\n",
              "            '<a target=\"_blank\" href=https://colab.research.google.com/notebooks/data_table.ipynb>data table notebook</a>'\n",
              "            + ' to learn more about interactive tables.';\n",
              "          element.innerHTML = '';\n",
              "          dataTable['output_type'] = 'display_data';\n",
              "          await google.colab.output.renderOutput(dataTable, element);\n",
              "          const docLink = document.createElement('div');\n",
              "          docLink.innerHTML = docLinkHtml;\n",
              "          element.appendChild(docLink);\n",
              "        }\n",
              "      </script>\n",
              "    </div>\n",
              "  </div>\n",
              "  "
            ]
          },
          "metadata": {},
          "execution_count": 114
        }
      ]
    },
    {
      "cell_type": "code",
      "source": [
        "# Visualizing the differences between actual prices and predicted values\n",
        "plt.scatter(y_test, y_pred)\n",
        "plt.xlabel(\"Prices\")\n",
        "plt.ylabel(\"Predicted prices\")\n",
        "plt.title(\"Prices vs Predicted prices\")\n",
        "plt.show()"
      ],
      "metadata": {
        "colab": {
          "base_uri": "https://localhost:8080/",
          "height": 301
        },
        "id": "Cz29Ste4hEAY",
        "outputId": "a7d912cf-eca0-4466-c004-73531df25d04"
      },
      "execution_count": 116,
      "outputs": [
        {
          "output_type": "display_data",
          "data": {
            "text/plain": [
              "<Figure size 432x288 with 1 Axes>"
            ],
            "image/png": "[encoded data removed]"
          },
          "metadata": {}
        }
      ]
    },
    {
      "cell_type": "code",
      "source": [
        "# Checking residuals\n",
        "plt.scatter(y_pred,y_test-y_pred)\n",
        "plt.title(\"Predicted vs residuals\")\n",
        "plt.xlabel(\"Predicted\")\n",
        "plt.ylabel(\"Residuals\")\n",
        "plt.show()"
      ],
      "metadata": {
        "colab": {
          "base_uri": "https://localhost:8080/",
          "height": 301
        },
        "id": "TcKw_pXxhLo-",
        "outputId": "c22ec662-14c3-448d-8e65-121d6cae1efc"
      },
      "execution_count": 118,
      "outputs": [
        {
          "output_type": "display_data",
          "data": {
            "text/plain": [
              "<Figure size 432x288 with 1 Axes>"
            ],
            "image/png": "[encoded data removed]"
          },
          "metadata": {}
        }
      ]
    },
    {
      "cell_type": "markdown",
      "source": [
        "###There is no pattern visible in this plot and values are distributed equally around zero. So Linearily assumption is satisfied"
      ],
      "metadata": {
        "id": "esFgXSJmhRhs"
      }
    },
    {
      "cell_type": "code",
      "source": [
        "# Checking Normality of errors\n",
        "sns.distplot(y_test-y_pred)\n",
        "plt.title(\"Histogram of Residuals\")\n",
        "plt.xlabel(\"Residuals\")\n",
        "plt.ylabel(\"Frequency\")\n",
        "plt.show()"
      ],
      "metadata": {
        "colab": {
          "base_uri": "https://localhost:8080/",
          "height": 356
        },
        "id": "wnUjsLvIhLcE",
        "outputId": "2b7cb9bf-a7cc-4b42-fd31-d8b54ea7f853"
      },
      "execution_count": 120,
      "outputs": [
        {
          "output_type": "stream",
          "name": "stderr",
          "text": [
            "/usr/local/lib/python3.7/dist-packages/seaborn/distributions.py:2619: FutureWarning: `distplot` is a deprecated function and will be removed in a future version. Please adapt your code to use either `displot` (a figure-level function with similar flexibility) or `histplot` (an axes-level function for histograms).\n",
            "  warnings.warn(msg, FutureWarning)\n"
          ]
        },
        {
          "output_type": "display_data",
          "data": {
            "text/plain": [
              "<Figure size 432x288 with 1 Axes>"
            ],
            "image/png": "[encoded data removed]"
          },
          "metadata": {}
        }
      ]
    },
    {
      "cell_type": "markdown",
      "source": [
        "**Here the residuals are normally distributed. So normality assumption is satisfied**"
      ],
      "metadata": {
        "id": "dPcvfpnVheCL"
      }
    },
    {
      "cell_type": "code",
      "source": [
        "from sklearn import metrics\n",
        "print('R^2 Score: ', metrics.r2_score(y_test, y_pred))"
      ],
      "metadata": {
        "colab": {
          "base_uri": "https://localhost:8080/"
        },
        "id": "TesROxFfGCdE",
        "outputId": "f4c20d60-91b3-42cc-fe48-4c24b69e199b"
      },
      "execution_count": 121,
      "outputs": [
        {
          "output_type": "stream",
          "name": "stdout",
          "text": [
            "R^2 Score:  0.730168884117644\n"
          ]
        }
      ]
    },
    {
      "cell_type": "markdown",
      "source": [
        "###Here we've got an 73% accuracy of R^2 value."
      ],
      "metadata": {
        "id": "_4WZNSwTJ0wO"
      }
    },
    {
      "cell_type": "markdown",
      "source": [
        "#**Lasso Regression**"
      ],
      "metadata": {
        "id": "MRT2emDJB2Xc"
      }
    },
    {
      "cell_type": "code",
      "source": [
        "L=Lasso()\n",
        "L.fit(X_train,y_train)\n",
        "y_pred_lasso = L.predict(X_test)\n",
        "y_pred_lasso"
      ],
      "metadata": {
        "colab": {
          "base_uri": "https://localhost:8080/"
        },
        "id": "NaU6XlcrSkH7",
        "outputId": "a86b5800-a8fb-439a-d427-1bbe8012ca19"
      },
      "execution_count": 122,
      "outputs": [
        {
          "output_type": "execute_result",
          "data": {
            "text/plain": [
              "array([13.61327855, 18.93477703, 26.22064482, 26.27290081, 21.02238462,\n",
              "       24.70541187, 24.51034996, 11.55000214, 23.48566981, 20.06178756,\n",
              "       31.01122852, 24.94980263, 34.39969964, 24.11137396, 21.98731614,\n",
              "       24.25597378, 22.42077114, 16.11581115, 24.2295699 , 31.98505389,\n",
              "       23.68626978, 16.43948881, 22.17768211, 27.28002346, 28.60485407,\n",
              "       25.98803331, 24.8746726 ,  9.90290839, 27.45541779, 20.8321027 ,\n",
              "       18.30131816, 17.28842437, 20.87854633, 26.30646114, 25.23366059,\n",
              "       26.87076686, 27.43806617, 16.65869657, 24.49712836, 30.20608278,\n",
              "       27.82402556, 30.38874901, 18.27523372, 28.91529638,  7.71341298,\n",
              "       21.29698214, 24.80926261, 19.11201523, 22.29548337, 30.34698215,\n",
              "       13.69426755, 20.43177968, 22.90970082, 27.72755667, 18.10245102,\n",
              "       22.18162307, 24.69892222, 36.20574786, 21.14597317, 19.92444547,\n",
              "       30.8338033 , 16.39054849, 21.94133836, 28.460649  , 22.08582257,\n",
              "       18.01994409, 20.60880087, 22.51705809, 27.03203145, 15.46298091,\n",
              "       14.93117746, 17.59438516, 18.3679253 , 30.12041404, 14.45765881,\n",
              "       28.94498368, 16.59544504, 15.03211636, 21.87606227, 19.82938721])"
            ]
          },
          "metadata": {},
          "execution_count": 122
        }
      ]
    },
    {
      "cell_type": "code",
      "source": [
        "print(mean_squared_error(y_test, y_pred_lasso)**0.5)"
      ],
      "metadata": {
        "colab": {
          "base_uri": "https://localhost:8080/"
        },
        "id": "lGo7goRCZLsL",
        "outputId": "7be43e3d-30b9-4002-c1c6-b83bba6d37f3"
      },
      "execution_count": 123,
      "outputs": [
        {
          "output_type": "stream",
          "name": "stdout",
          "text": [
            "3.988938231696938\n"
          ]
        }
      ]
    },
    {
      "cell_type": "code",
      "source": [
        "print(mean_absolute_error(y_test,y_pred_lasso)**0.5)"
      ],
      "metadata": {
        "colab": {
          "base_uri": "https://localhost:8080/"
        },
        "id": "sUjHmipAZ_Uc",
        "outputId": "a9d0ab54-6ce3-4946-c402-3169dc55a21e"
      },
      "execution_count": 124,
      "outputs": [
        {
          "output_type": "stream",
          "name": "stdout",
          "text": [
            "1.7398483778270715\n"
          ]
        }
      ]
    },
    {
      "cell_type": "code",
      "source": [
        "df2 = pd.DataFrame({'Actual': y_test, 'Lasso_Predict': y_pred_lasso})\n",
        "df2"
      ],
      "metadata": {
        "colab": {
          "base_uri": "https://localhost:8080/",
          "height": 424
        },
        "id": "eHBfBIwgVxxk",
        "outputId": "9b6de12f-366a-4d6a-b105-f77782758137"
      },
      "execution_count": 125,
      "outputs": [
        {
          "output_type": "execute_result",
          "data": {
            "text/plain": [
              "    Actual  Lasso_Predict\n",
              "0     13.3      13.613279\n",
              "1     19.9      18.934777\n",
              "2     23.1      26.220645\n",
              "3     22.2      26.272901\n",
              "4     18.9      21.022385\n",
              "..     ...            ...\n",
              "75    26.7      28.944984\n",
              "76    17.4      16.595445\n",
              "77    15.6      15.032116\n",
              "78    21.0      21.876062\n",
              "79    20.4      19.829387\n",
              "\n",
              "[80 rows x 2 columns]"
            ],
            "text/html": [
              "\n",
              "  <div id=\"df-b8d67b8f-6069-4cfb-85fe-b2e7b4aee7b9\">\n",
              "    <div class=\"colab-df-container\">\n",
              "      <div>\n",
              "<style scoped>\n",
              "    .dataframe tbody tr th:only-of-type {\n",
              "        vertical-align: middle;\n",
              "    }\n",
              "\n",
              "    .dataframe tbody tr th {\n",
              "        vertical-align: top;\n",
              "    }\n",
              "\n",
              "    .dataframe thead th {\n",
              "        text-align: right;\n",
              "    }\n",
              "</style>\n",
              "<table border=\"1\" class=\"dataframe\">\n",
              "  <thead>\n",
              "    <tr style=\"text-align: right;\">\n",
              "      <th></th>\n",
              "      <th>Actual</th>\n",
              "      <th>Lasso_Predict</th>\n",
              "    </tr>\n",
              "  </thead>\n",
              "  <tbody>\n",
              "    <tr>\n",
              "      <th>0</th>\n",
              "      <td>13.3</td>\n",
              "      <td>13.613279</td>\n",
              "    </tr>\n",
              "    <tr>\n",
              "      <th>1</th>\n",
              "      <td>19.9</td>\n",
              "      <td>18.934777</td>\n",
              "    </tr>\n",
              "    <tr>\n",
              "      <th>2</th>\n",
              "      <td>23.1</td>\n",
              "      <td>26.220645</td>\n",
              "    </tr>\n",
              "    <tr>\n",
              "      <th>3</th>\n",
              "      <td>22.2</td>\n",
              "      <td>26.272901</td>\n",
              "    </tr>\n",
              "    <tr>\n",
              "      <th>4</th>\n",
              "      <td>18.9</td>\n",
              "      <td>21.022385</td>\n",
              "    </tr>\n",
              "    <tr>\n",
              "      <th>...</th>\n",
              "      <td>...</td>\n",
              "      <td>...</td>\n",
              "    </tr>\n",
              "    <tr>\n",
              "      <th>75</th>\n",
              "      <td>26.7</td>\n",
              "      <td>28.944984</td>\n",
              "    </tr>\n",
              "    <tr>\n",
              "      <th>76</th>\n",
              "      <td>17.4</td>\n",
              "      <td>16.595445</td>\n",
              "    </tr>\n",
              "    <tr>\n",
              "      <th>77</th>\n",
              "      <td>15.6</td>\n",
              "      <td>15.032116</td>\n",
              "    </tr>\n",
              "    <tr>\n",
              "      <th>78</th>\n",
              "      <td>21.0</td>\n",
              "      <td>21.876062</td>\n",
              "    </tr>\n",
              "    <tr>\n",
              "      <th>79</th>\n",
              "      <td>20.4</td>\n",
              "      <td>19.829387</td>\n",
              "    </tr>\n",
              "  </tbody>\n",
              "</table>\n",
              "<p>80 rows × 2 columns</p>\n",
              "</div>\n",
              "      <button class=\"colab-df-convert\" onclick=\"convertToInteractive('df-b8d67b8f-6069-4cfb-85fe-b2e7b4aee7b9')\"\n",
              "              title=\"Convert this dataframe to an interactive table.\"\n",
              "              style=\"display:none;\">\n",
              "        \n",
              "  <svg xmlns=\"http://www.w3.org/2000/svg\" height=\"24px\"viewBox=\"0 0 24 24\"\n",
              "       width=\"24px\">\n",
              "    <path d=\"M0 0h24v24H0V0z\" fill=\"none\"/>\n",
              "    <path d=\"M18.56 5.44l.94 2.06.94-2.06 2.06-.94-2.06-.94-.94-2.06-.94 2.06-2.06.94zm-11 1L8.5 8.5l.94-2.06 2.06-.94-2.06-.94L8.5 2.5l-.94 2.06-2.06.94zm10 10l.94 2.06.94-2.06 2.06-.94-2.06-.94-.94-2.06-.94 2.06-2.06.94z\"/><path d=\"M17.41 7.96l-1.37-1.37c-.4-.4-.92-.59-1.43-.59-.52 0-1.04.2-1.43.59L10.3 9.45l-7.72 7.72c-.78.78-.78 2.05 0 2.83L4 21.41c.39.39.9.59 1.41.59.51 0 1.02-.2 1.41-.59l7.78-7.78 2.81-2.81c.8-.78.8-2.07 0-2.86zM5.41 20L4 18.59l7.72-7.72 1.47 1.35L5.41 20z\"/>\n",
              "  </svg>\n",
              "      </button>\n",
              "      \n",
              "  <style>\n",
              "    .colab-df-container {\n",
              "      display:flex;\n",
              "      flex-wrap:wrap;\n",
              "      gap: 12px;\n",
              "    }\n",
              "\n",
              "    .colab-df-convert {\n",
              "      background-color: #E8F0FE;\n",
              "      border: none;\n",
              "      border-radius: 50%;\n",
              "      cursor: pointer;\n",
              "      display: none;\n",
              "      fill: #1967D2;\n",
              "      height: 32px;\n",
              "      padding: 0 0 0 0;\n",
              "      width: 32px;\n",
              "    }\n",
              "\n",
              "    .colab-df-convert:hover {\n",
              "      background-color: #E2EBFA;\n",
              "      box-shadow: 0px 1px 2px rgba(60, 64, 67, 0.3), 0px 1px 3px 1px rgba(60, 64, 67, 0.15);\n",
              "      fill: #174EA6;\n",
              "    }\n",
              "\n",
              "    [theme=dark] .colab-df-convert {\n",
              "      background-color: #3B4455;\n",
              "      fill: #D2E3FC;\n",
              "    }\n",
              "\n",
              "    [theme=dark] .colab-df-convert:hover {\n",
              "      background-color: #434B5C;\n",
              "      box-shadow: 0px 1px 3px 1px rgba(0, 0, 0, 0.15);\n",
              "      filter: drop-shadow(0px 1px 2px rgba(0, 0, 0, 0.3));\n",
              "      fill: #FFFFFF;\n",
              "    }\n",
              "  </style>\n",
              "\n",
              "      <script>\n",
              "        const buttonEl =\n",
              "          document.querySelector('#df-b8d67b8f-6069-4cfb-85fe-b2e7b4aee7b9 button.colab-df-convert');\n",
              "        buttonEl.style.display =\n",
              "          google.colab.kernel.accessAllowed ? 'block' : 'none';\n",
              "\n",
              "        async function convertToInteractive(key) {\n",
              "          const element = document.querySelector('#df-b8d67b8f-6069-4cfb-85fe-b2e7b4aee7b9');\n",
              "          const dataTable =\n",
              "            await google.colab.kernel.invokeFunction('convertToInteractive',\n",
              "                                                     [key], {});\n",
              "          if (!dataTable) return;\n",
              "\n",
              "          const docLinkHtml = 'Like what you see? Visit the ' +\n",
              "            '<a target=\"_blank\" href=https://colab.research.google.com/notebooks/data_table.ipynb>data table notebook</a>'\n",
              "            + ' to learn more about interactive tables.';\n",
              "          element.innerHTML = '';\n",
              "          dataTable['output_type'] = 'display_data';\n",
              "          await google.colab.output.renderOutput(dataTable, element);\n",
              "          const docLink = document.createElement('div');\n",
              "          docLink.innerHTML = docLinkHtml;\n",
              "          element.appendChild(docLink);\n",
              "        }\n",
              "      </script>\n",
              "    </div>\n",
              "  </div>\n",
              "  "
            ]
          },
          "metadata": {},
          "execution_count": 125
        }
      ]
    },
    {
      "cell_type": "code",
      "source": [
        "from sklearn import metrics \n",
        "print('R2- SCORE with Lasso Regression:', metrics.r2_score(y_test,y_pred_lasso))"
      ],
      "metadata": {
        "colab": {
          "base_uri": "https://localhost:8080/"
        },
        "id": "CfFy9MQwVXR5",
        "outputId": "660e21e9-a575-4b62-c44f-a386a5170c3b"
      },
      "execution_count": 126,
      "outputs": [
        {
          "output_type": "stream",
          "name": "stdout",
          "text": [
            "R2- SCORE with Lasso Regression: 0.6229340052653709\n"
          ]
        }
      ]
    },
    {
      "cell_type": "markdown",
      "source": [
        "#**Ridge Regression**"
      ],
      "metadata": {
        "id": "5vgSmUeACD7W"
      }
    },
    {
      "cell_type": "code",
      "source": [
        "R=Ridge()\n",
        "R.fit(X_train,y_train)\n",
        "y_pred_ridge = R.predict(X_test)\n",
        "y_pred_ridge"
      ],
      "metadata": {
        "colab": {
          "base_uri": "https://localhost:8080/"
        },
        "id": "rzwy7zGeTSpi",
        "outputId": "fccdfe99-240d-402e-a647-8fb5bc83de1c"
      },
      "execution_count": 127,
      "outputs": [
        {
          "output_type": "execute_result",
          "data": {
            "text/plain": [
              "array([13.62304482, 19.43575773, 25.02774532, 25.67135932, 19.40212281,\n",
              "       23.27604012, 23.10296462, 13.55950044, 21.81374426, 18.78893736,\n",
              "       31.89387632, 23.01407196, 38.55062283, 23.04258779, 24.08855153,\n",
              "       23.26528743, 20.94523238, 16.23548851, 23.3358609 , 31.62423492,\n",
              "       22.70189955, 13.91763238, 25.29267334, 26.29442875, 32.43200113,\n",
              "       25.09389373, 24.09598886, 10.31662641, 27.1579323 , 20.59878201,\n",
              "       17.83641281, 17.54966348, 24.15347069, 23.93012415, 23.47669356,\n",
              "       25.30479658, 25.37865836, 17.60075237, 21.63475767, 28.77655286,\n",
              "       27.81150348, 26.96418355, 14.12181771, 28.19105559,  7.7111874 ,\n",
              "       20.58531329, 23.22334773, 17.37153201, 21.57049434, 30.70374484,\n",
              "       15.91451076, 23.17903234, 22.70642005, 28.48716796, 17.78520012,\n",
              "       22.50050569, 21.9025195 , 41.640837  , 20.10649403, 18.03526694,\n",
              "       28.76600053, 17.31232124, 21.84342256, 28.39372496, 20.5303178 ,\n",
              "       19.42359906, 21.78268905, 17.25946444, 24.19183017, 15.39229289,\n",
              "       16.98186591, 15.37962713, 18.22910272, 30.93393397, 14.49839999,\n",
              "       33.70456891, 15.62682548, 13.07717588, 21.48407242, 20.14600174])"
            ]
          },
          "metadata": {},
          "execution_count": 127
        }
      ]
    },
    {
      "cell_type": "code",
      "source": [
        "print(mean_squared_error(y_test, y_pred_ridge)**0.5)"
      ],
      "metadata": {
        "colab": {
          "base_uri": "https://localhost:8080/"
        },
        "id": "m47q7le9ZYxC",
        "outputId": "da714634-57e4-4736-fa43-8cf5220c865b"
      },
      "execution_count": 128,
      "outputs": [
        {
          "output_type": "stream",
          "name": "stdout",
          "text": [
            "3.3913214900120443\n"
          ]
        }
      ]
    },
    {
      "cell_type": "code",
      "source": [
        "print(mean_absolute_error(y_test, y_pred_ridge)**0.5)"
      ],
      "metadata": {
        "colab": {
          "base_uri": "https://localhost:8080/"
        },
        "id": "WHOZOSRLZz0B",
        "outputId": "7f069637-58e3-48f3-c278-d0e4ac872032"
      },
      "execution_count": 129,
      "outputs": [
        {
          "output_type": "stream",
          "name": "stdout",
          "text": [
            "1.6442118906594794\n"
          ]
        }
      ]
    },
    {
      "cell_type": "code",
      "source": [
        "df3 = pd.DataFrame({'Actual':y_test, 'Predicted_Ridge':y_pred_ridge})\n",
        "df3"
      ],
      "metadata": {
        "colab": {
          "base_uri": "https://localhost:8080/",
          "height": 424
        },
        "id": "oIZiubuYVpXz",
        "outputId": "98056caa-47f2-4725-a270-9678657793be"
      },
      "execution_count": 130,
      "outputs": [
        {
          "output_type": "execute_result",
          "data": {
            "text/plain": [
              "    Actual  Predicted_Ridge\n",
              "0     13.3        13.623045\n",
              "1     19.9        19.435758\n",
              "2     23.1        25.027745\n",
              "3     22.2        25.671359\n",
              "4     18.9        19.402123\n",
              "..     ...              ...\n",
              "75    26.7        33.704569\n",
              "76    17.4        15.626825\n",
              "77    15.6        13.077176\n",
              "78    21.0        21.484072\n",
              "79    20.4        20.146002\n",
              "\n",
              "[80 rows x 2 columns]"
            ],
            "text/html": [
              "\n",
              "  <div id=\"df-20fb67fa-d487-40d1-ac5d-0519a6891c6c\">\n",
              "    <div class=\"colab-df-container\">\n",
              "      <div>\n",
              "<style scoped>\n",
              "    .dataframe tbody tr th:only-of-type {\n",
              "        vertical-align: middle;\n",
              "    }\n",
              "\n",
              "    .dataframe tbody tr th {\n",
              "        vertical-align: top;\n",
              "    }\n",
              "\n",
              "    .dataframe thead th {\n",
              "        text-align: right;\n",
              "    }\n",
              "</style>\n",
              "<table border=\"1\" class=\"dataframe\">\n",
              "  <thead>\n",
              "    <tr style=\"text-align: right;\">\n",
              "      <th></th>\n",
              "      <th>Actual</th>\n",
              "      <th>Predicted_Ridge</th>\n",
              "    </tr>\n",
              "  </thead>\n",
              "  <tbody>\n",
              "    <tr>\n",
              "      <th>0</th>\n",
              "      <td>13.3</td>\n",
              "      <td>13.623045</td>\n",
              "    </tr>\n",
              "    <tr>\n",
              "      <th>1</th>\n",
              "      <td>19.9</td>\n",
              "      <td>19.435758</td>\n",
              "    </tr>\n",
              "    <tr>\n",
              "      <th>2</th>\n",
              "      <td>23.1</td>\n",
              "      <td>25.027745</td>\n",
              "    </tr>\n",
              "    <tr>\n",
              "      <th>3</th>\n",
              "      <td>22.2</td>\n",
              "      <td>25.671359</td>\n",
              "    </tr>\n",
              "    <tr>\n",
              "      <th>4</th>\n",
              "      <td>18.9</td>\n",
              "      <td>19.402123</td>\n",
              "    </tr>\n",
              "    <tr>\n",
              "      <th>...</th>\n",
              "      <td>...</td>\n",
              "      <td>...</td>\n",
              "    </tr>\n",
              "    <tr>\n",
              "      <th>75</th>\n",
              "      <td>26.7</td>\n",
              "      <td>33.704569</td>\n",
              "    </tr>\n",
              "    <tr>\n",
              "      <th>76</th>\n",
              "      <td>17.4</td>\n",
              "      <td>15.626825</td>\n",
              "    </tr>\n",
              "    <tr>\n",
              "      <th>77</th>\n",
              "      <td>15.6</td>\n",
              "      <td>13.077176</td>\n",
              "    </tr>\n",
              "    <tr>\n",
              "      <th>78</th>\n",
              "      <td>21.0</td>\n",
              "      <td>21.484072</td>\n",
              "    </tr>\n",
              "    <tr>\n",
              "      <th>79</th>\n",
              "      <td>20.4</td>\n",
              "      <td>20.146002</td>\n",
              "    </tr>\n",
              "  </tbody>\n",
              "</table>\n",
              "<p>80 rows × 2 columns</p>\n",
              "</div>\n",
              "      <button class=\"colab-df-convert\" onclick=\"convertToInteractive('df-20fb67fa-d487-40d1-ac5d-0519a6891c6c')\"\n",
              "              title=\"Convert this dataframe to an interactive table.\"\n",
              "              style=\"display:none;\">\n",
              "        \n",
              "  <svg xmlns=\"http://www.w3.org/2000/svg\" height=\"24px\"viewBox=\"0 0 24 24\"\n",
              "       width=\"24px\">\n",
              "    <path d=\"M0 0h24v24H0V0z\" fill=\"none\"/>\n",
              "    <path d=\"M18.56 5.44l.94 2.06.94-2.06 2.06-.94-2.06-.94-.94-2.06-.94 2.06-2.06.94zm-11 1L8.5 8.5l.94-2.06 2.06-.94-2.06-.94L8.5 2.5l-.94 2.06-2.06.94zm10 10l.94 2.06.94-2.06 2.06-.94-2.06-.94-.94-2.06-.94 2.06-2.06.94z\"/><path d=\"M17.41 7.96l-1.37-1.37c-.4-.4-.92-.59-1.43-.59-.52 0-1.04.2-1.43.59L10.3 9.45l-7.72 7.72c-.78.78-.78 2.05 0 2.83L4 21.41c.39.39.9.59 1.41.59.51 0 1.02-.2 1.41-.59l7.78-7.78 2.81-2.81c.8-.78.8-2.07 0-2.86zM5.41 20L4 18.59l7.72-7.72 1.47 1.35L5.41 20z\"/>\n",
              "  </svg>\n",
              "      </button>\n",
              "      \n",
              "  <style>\n",
              "    .colab-df-container {\n",
              "      display:flex;\n",
              "      flex-wrap:wrap;\n",
              "      gap: 12px;\n",
              "    }\n",
              "\n",
              "    .colab-df-convert {\n",
              "      background-color: #E8F0FE;\n",
              "      border: none;\n",
              "      border-radius: 50%;\n",
              "      cursor: pointer;\n",
              "      display: none;\n",
              "      fill: #1967D2;\n",
              "      height: 32px;\n",
              "      padding: 0 0 0 0;\n",
              "      width: 32px;\n",
              "    }\n",
              "\n",
              "    .colab-df-convert:hover {\n",
              "      background-color: #E2EBFA;\n",
              "      box-shadow: 0px 1px 2px rgba(60, 64, 67, 0.3), 0px 1px 3px 1px rgba(60, 64, 67, 0.15);\n",
              "      fill: #174EA6;\n",
              "    }\n",
              "\n",
              "    [theme=dark] .colab-df-convert {\n",
              "      background-color: #3B4455;\n",
              "      fill: #D2E3FC;\n",
              "    }\n",
              "\n",
              "    [theme=dark] .colab-df-convert:hover {\n",
              "      background-color: #434B5C;\n",
              "      box-shadow: 0px 1px 3px 1px rgba(0, 0, 0, 0.15);\n",
              "      filter: drop-shadow(0px 1px 2px rgba(0, 0, 0, 0.3));\n",
              "      fill: #FFFFFF;\n",
              "    }\n",
              "  </style>\n",
              "\n",
              "      <script>\n",
              "        const buttonEl =\n",
              "          document.querySelector('#df-20fb67fa-d487-40d1-ac5d-0519a6891c6c button.colab-df-convert');\n",
              "        buttonEl.style.display =\n",
              "          google.colab.kernel.accessAllowed ? 'block' : 'none';\n",
              "\n",
              "        async function convertToInteractive(key) {\n",
              "          const element = document.querySelector('#df-20fb67fa-d487-40d1-ac5d-0519a6891c6c');\n",
              "          const dataTable =\n",
              "            await google.colab.kernel.invokeFunction('convertToInteractive',\n",
              "                                                     [key], {});\n",
              "          if (!dataTable) return;\n",
              "\n",
              "          const docLinkHtml = 'Like what you see? Visit the ' +\n",
              "            '<a target=\"_blank\" href=https://colab.research.google.com/notebooks/data_table.ipynb>data table notebook</a>'\n",
              "            + ' to learn more about interactive tables.';\n",
              "          element.innerHTML = '';\n",
              "          dataTable['output_type'] = 'display_data';\n",
              "          await google.colab.output.renderOutput(dataTable, element);\n",
              "          const docLink = document.createElement('div');\n",
              "          docLink.innerHTML = docLinkHtml;\n",
              "          element.appendChild(docLink);\n",
              "        }\n",
              "      </script>\n",
              "    </div>\n",
              "  </div>\n",
              "  "
            ]
          },
          "metadata": {},
          "execution_count": 130
        }
      ]
    },
    {
      "cell_type": "code",
      "source": [
        "print(\"R^2 score of Ridge: \", metrics.r2_score(y_test, y_pred_ridge))"
      ],
      "metadata": {
        "colab": {
          "base_uri": "https://localhost:8080/"
        },
        "id": "PK9gGqCaWaql",
        "outputId": "2514b66a-05b0-44b8-b770-0b538872a58f"
      },
      "execution_count": 131,
      "outputs": [
        {
          "output_type": "stream",
          "name": "stdout",
          "text": [
            "R^2 score of Ridge:  0.7274534625446867\n"
          ]
        }
      ]
    },
    {
      "cell_type": "markdown",
      "source": [
        "###Difference between L1 norm and L2 norms"
      ],
      "metadata": {
        "id": "apzkMnh2Tc-D"
      }
    },
    {
      "cell_type": "code",
      "source": [
        "dif = pd.DataFrame({'L1 Norms': y_pred_lasso, 'L2 Norms': y_pred_ridge})\n",
        "dif"
      ],
      "metadata": {
        "colab": {
          "base_uri": "https://localhost:8080/",
          "height": 424
        },
        "id": "G8j14oAtTXah",
        "outputId": "7a13e240-2f20-4ccb-ae66-54d5016d1b74"
      },
      "execution_count": 132,
      "outputs": [
        {
          "output_type": "execute_result",
          "data": {
            "text/plain": [
              "     L1 Norms   L2 Norms\n",
              "0   13.613279  13.623045\n",
              "1   18.934777  19.435758\n",
              "2   26.220645  25.027745\n",
              "3   26.272901  25.671359\n",
              "4   21.022385  19.402123\n",
              "..        ...        ...\n",
              "75  28.944984  33.704569\n",
              "76  16.595445  15.626825\n",
              "77  15.032116  13.077176\n",
              "78  21.876062  21.484072\n",
              "79  19.829387  20.146002\n",
              "\n",
              "[80 rows x 2 columns]"
            ],
            "text/html": [
              "\n",
              "  <div id=\"df-586f769f-60ae-46f0-9bed-644355c14c4b\">\n",
              "    <div class=\"colab-df-container\">\n",
              "      <div>\n",
              "<style scoped>\n",
              "    .dataframe tbody tr th:only-of-type {\n",
              "        vertical-align: middle;\n",
              "    }\n",
              "\n",
              "    .dataframe tbody tr th {\n",
              "        vertical-align: top;\n",
              "    }\n",
              "\n",
              "    .dataframe thead th {\n",
              "        text-align: right;\n",
              "    }\n",
              "</style>\n",
              "<table border=\"1\" class=\"dataframe\">\n",
              "  <thead>\n",
              "    <tr style=\"text-align: right;\">\n",
              "      <th></th>\n",
              "      <th>L1 Norms</th>\n",
              "      <th>L2 Norms</th>\n",
              "    </tr>\n",
              "  </thead>\n",
              "  <tbody>\n",
              "    <tr>\n",
              "      <th>0</th>\n",
              "      <td>13.613279</td>\n",
              "      <td>13.623045</td>\n",
              "    </tr>\n",
              "    <tr>\n",
              "      <th>1</th>\n",
              "      <td>18.934777</td>\n",
              "      <td>19.435758</td>\n",
              "    </tr>\n",
              "    <tr>\n",
              "      <th>2</th>\n",
              "      <td>26.220645</td>\n",
              "      <td>25.027745</td>\n",
              "    </tr>\n",
              "    <tr>\n",
              "      <th>3</th>\n",
              "      <td>26.272901</td>\n",
              "      <td>25.671359</td>\n",
              "    </tr>\n",
              "    <tr>\n",
              "      <th>4</th>\n",
              "      <td>21.022385</td>\n",
              "      <td>19.402123</td>\n",
              "    </tr>\n",
              "    <tr>\n",
              "      <th>...</th>\n",
              "      <td>...</td>\n",
              "      <td>...</td>\n",
              "    </tr>\n",
              "    <tr>\n",
              "      <th>75</th>\n",
              "      <td>28.944984</td>\n",
              "      <td>33.704569</td>\n",
              "    </tr>\n",
              "    <tr>\n",
              "      <th>76</th>\n",
              "      <td>16.595445</td>\n",
              "      <td>15.626825</td>\n",
              "    </tr>\n",
              "    <tr>\n",
              "      <th>77</th>\n",
              "      <td>15.032116</td>\n",
              "      <td>13.077176</td>\n",
              "    </tr>\n",
              "    <tr>\n",
              "      <th>78</th>\n",
              "      <td>21.876062</td>\n",
              "      <td>21.484072</td>\n",
              "    </tr>\n",
              "    <tr>\n",
              "      <th>79</th>\n",
              "      <td>19.829387</td>\n",
              "      <td>20.146002</td>\n",
              "    </tr>\n",
              "  </tbody>\n",
              "</table>\n",
              "<p>80 rows × 2 columns</p>\n",
              "</div>\n",
              "      <button class=\"colab-df-convert\" onclick=\"convertToInteractive('df-586f769f-60ae-46f0-9bed-644355c14c4b')\"\n",
              "              title=\"Convert this dataframe to an interactive table.\"\n",
              "              style=\"display:none;\">\n",
              "        \n",
              "  <svg xmlns=\"http://www.w3.org/2000/svg\" height=\"24px\"viewBox=\"0 0 24 24\"\n",
              "       width=\"24px\">\n",
              "    <path d=\"M0 0h24v24H0V0z\" fill=\"none\"/>\n",
              "    <path d=\"M18.56 5.44l.94 2.06.94-2.06 2.06-.94-2.06-.94-.94-2.06-.94 2.06-2.06.94zm-11 1L8.5 8.5l.94-2.06 2.06-.94-2.06-.94L8.5 2.5l-.94 2.06-2.06.94zm10 10l.94 2.06.94-2.06 2.06-.94-2.06-.94-.94-2.06-.94 2.06-2.06.94z\"/><path d=\"M17.41 7.96l-1.37-1.37c-.4-.4-.92-.59-1.43-.59-.52 0-1.04.2-1.43.59L10.3 9.45l-7.72 7.72c-.78.78-.78 2.05 0 2.83L4 21.41c.39.39.9.59 1.41.59.51 0 1.02-.2 1.41-.59l7.78-7.78 2.81-2.81c.8-.78.8-2.07 0-2.86zM5.41 20L4 18.59l7.72-7.72 1.47 1.35L5.41 20z\"/>\n",
              "  </svg>\n",
              "      </button>\n",
              "      \n",
              "  <style>\n",
              "    .colab-df-container {\n",
              "      display:flex;\n",
              "      flex-wrap:wrap;\n",
              "      gap: 12px;\n",
              "    }\n",
              "\n",
              "    .colab-df-convert {\n",
              "      background-color: #E8F0FE;\n",
              "      border: none;\n",
              "      border-radius: 50%;\n",
              "      cursor: pointer;\n",
              "      display: none;\n",
              "      fill: #1967D2;\n",
              "      height: 32px;\n",
              "      padding: 0 0 0 0;\n",
              "      width: 32px;\n",
              "    }\n",
              "\n",
              "    .colab-df-convert:hover {\n",
              "      background-color: #E2EBFA;\n",
              "      box-shadow: 0px 1px 2px rgba(60, 64, 67, 0.3), 0px 1px 3px 1px rgba(60, 64, 67, 0.15);\n",
              "      fill: #174EA6;\n",
              "    }\n",
              "\n",
              "    [theme=dark] .colab-df-convert {\n",
              "      background-color: #3B4455;\n",
              "      fill: #D2E3FC;\n",
              "    }\n",
              "\n",
              "    [theme=dark] .colab-df-convert:hover {\n",
              "      background-color: #434B5C;\n",
              "      box-shadow: 0px 1px 3px 1px rgba(0, 0, 0, 0.15);\n",
              "      filter: drop-shadow(0px 1px 2px rgba(0, 0, 0, 0.3));\n",
              "      fill: #FFFFFF;\n",
              "    }\n",
              "  </style>\n",
              "\n",
              "      <script>\n",
              "        const buttonEl =\n",
              "          document.querySelector('#df-586f769f-60ae-46f0-9bed-644355c14c4b button.colab-df-convert');\n",
              "        buttonEl.style.display =\n",
              "          google.colab.kernel.accessAllowed ? 'block' : 'none';\n",
              "\n",
              "        async function convertToInteractive(key) {\n",
              "          const element = document.querySelector('#df-586f769f-60ae-46f0-9bed-644355c14c4b');\n",
              "          const dataTable =\n",
              "            await google.colab.kernel.invokeFunction('convertToInteractive',\n",
              "                                                     [key], {});\n",
              "          if (!dataTable) return;\n",
              "\n",
              "          const docLinkHtml = 'Like what you see? Visit the ' +\n",
              "            '<a target=\"_blank\" href=https://colab.research.google.com/notebooks/data_table.ipynb>data table notebook</a>'\n",
              "            + ' to learn more about interactive tables.';\n",
              "          element.innerHTML = '';\n",
              "          dataTable['output_type'] = 'display_data';\n",
              "          await google.colab.output.renderOutput(dataTable, element);\n",
              "          const docLink = document.createElement('div');\n",
              "          docLink.innerHTML = docLinkHtml;\n",
              "          element.appendChild(docLink);\n",
              "        }\n",
              "      </script>\n",
              "    </div>\n",
              "  </div>\n",
              "  "
            ]
          },
          "metadata": {},
          "execution_count": 132
        }
      ]
    },
    {
      "cell_type": "code",
      "source": [],
      "metadata": {
        "id": "AhAXwg9RTXCA"
      },
      "execution_count": 132,
      "outputs": []
    },
    {
      "cell_type": "markdown",
      "source": [
        "##**Feature Selection**\n",
        "\n",
        "---\n",
        "\n",
        "It'll show the most important feature with ranking."
      ],
      "metadata": {
        "id": "jzYpGp5FKBNJ"
      }
    },
    {
      "cell_type": "code",
      "source": [
        "from sklearn.feature_selection import RFE\n",
        "estimator = LinearRegression()\n",
        "selector = RFE(estimator, n_features_to_select=3, step=1)\n",
        "selector.fit(X_train_scaled, y_train)\n",
        "sorted(list(zip(selector.ranking_, b)))"
      ],
      "metadata": {
        "colab": {
          "base_uri": "https://localhost:8080/"
        },
        "id": "kQUftTH8GXoF",
        "outputId": "507e3dad-582a-411a-df6a-b80c8f976983"
      },
      "execution_count": 133,
      "outputs": [
        {
          "output_type": "execute_result",
          "data": {
            "text/plain": [
              "[(1, 'DIS'),\n",
              " (1, 'LSTAT'),\n",
              " (1, 'RM'),\n",
              " (2, 'NOX'),\n",
              " (3, 'PTRATIO'),\n",
              " (4, 'RAD'),\n",
              " (5, 'TAX'),\n",
              " (6, 'CRIM'),\n",
              " (7, 'ZN'),\n",
              " (8, 'CHAS'),\n",
              " (9, 'B'),\n",
              " (10, 'INDUS'),\n",
              " (11, 'AGE')]"
            ]
          },
          "metadata": {},
          "execution_count": 133
        }
      ]
    },
    {
      "cell_type": "markdown",
      "source": [
        "##**Upload Test Dataset**"
      ],
      "metadata": {
        "id": "-1X3JKUBLNlc"
      }
    },
    {
      "cell_type": "code",
      "source": [
        "df1 = pd.read_csv('https://raw.githubusercontent.com/JOHANDILEEP21/Tasks6/main/Data/test.csv')\n",
        "df1.head()"
      ],
      "metadata": {
        "colab": {
          "base_uri": "https://localhost:8080/",
          "height": 206
        },
        "id": "KAlJHeVaLI4d",
        "outputId": "34fde6cd-a159-4da6-cb9b-3aa9b1a34e4f"
      },
      "execution_count": 134,
      "outputs": [
        {
          "output_type": "execute_result",
          "data": {
            "text/plain": [
              "   ID      CRIM    ZN  INDUS  CHAS    NOX     RM   AGE     DIS  RAD    TAX  \\\n",
              "0   0   0.10612  30.0   4.93     0  0.428  6.095  65.1  6.3361    6  300.0   \n",
              "1   1   0.34109   0.0   7.38     0  0.493  6.415  40.1  4.7211    5  287.0   \n",
              "2   2  12.24720   0.0  18.10     0  0.584  5.837  59.7  1.9976   24  666.0   \n",
              "3   3   0.22489  12.5   7.87     0  0.524  6.377  94.3  6.3467    5  311.0   \n",
              "4   4   1.80028   0.0  19.58     0  0.605  5.877  79.2  2.4259    5  403.0   \n",
              "\n",
              "   PTRATIO       B  LSTAT  \n",
              "0     16.6  394.62  12.40  \n",
              "1     19.6  396.90   6.12  \n",
              "2     20.2   24.65  15.69  \n",
              "3     15.2  392.52  20.45  \n",
              "4     14.7  227.61  12.14  "
            ],
            "text/html": [
              "\n",
              "  <div id=\"df-ca6c07ce-7be8-43cd-8acf-1ee21b9ae29b\">\n",
              "    <div class=\"colab-df-container\">\n",
              "      <div>\n",
              "<style scoped>\n",
              "    .dataframe tbody tr th:only-of-type {\n",
              "        vertical-align: middle;\n",
              "    }\n",
              "\n",
              "    .dataframe tbody tr th {\n",
              "        vertical-align: top;\n",
              "    }\n",
              "\n",
              "    .dataframe thead th {\n",
              "        text-align: right;\n",
              "    }\n",
              "</style>\n",
              "<table border=\"1\" class=\"dataframe\">\n",
              "  <thead>\n",
              "    <tr style=\"text-align: right;\">\n",
              "      <th></th>\n",
              "      <th>ID</th>\n",
              "      <th>CRIM</th>\n",
              "      <th>ZN</th>\n",
              "      <th>INDUS</th>\n",
              "      <th>CHAS</th>\n",
              "      <th>NOX</th>\n",
              "      <th>RM</th>\n",
              "      <th>AGE</th>\n",
              "      <th>DIS</th>\n",
              "      <th>RAD</th>\n",
              "      <th>TAX</th>\n",
              "      <th>PTRATIO</th>\n",
              "      <th>B</th>\n",
              "      <th>LSTAT</th>\n",
              "    </tr>\n",
              "  </thead>\n",
              "  <tbody>\n",
              "    <tr>\n",
              "      <th>0</th>\n",
              "      <td>0</td>\n",
              "      <td>0.10612</td>\n",
              "      <td>30.0</td>\n",
              "      <td>4.93</td>\n",
              "      <td>0</td>\n",
              "      <td>0.428</td>\n",
              "      <td>6.095</td>\n",
              "      <td>65.1</td>\n",
              "      <td>6.3361</td>\n",
              "      <td>6</td>\n",
              "      <td>300.0</td>\n",
              "      <td>16.6</td>\n",
              "      <td>394.62</td>\n",
              "      <td>12.40</td>\n",
              "    </tr>\n",
              "    <tr>\n",
              "      <th>1</th>\n",
              "      <td>1</td>\n",
              "      <td>0.34109</td>\n",
              "      <td>0.0</td>\n",
              "      <td>7.38</td>\n",
              "      <td>0</td>\n",
              "      <td>0.493</td>\n",
              "      <td>6.415</td>\n",
              "      <td>40.1</td>\n",
              "      <td>4.7211</td>\n",
              "      <td>5</td>\n",
              "      <td>287.0</td>\n",
              "      <td>19.6</td>\n",
              "      <td>396.90</td>\n",
              "      <td>6.12</td>\n",
              "    </tr>\n",
              "    <tr>\n",
              "      <th>2</th>\n",
              "      <td>2</td>\n",
              "      <td>12.24720</td>\n",
              "      <td>0.0</td>\n",
              "      <td>18.10</td>\n",
              "      <td>0</td>\n",
              "      <td>0.584</td>\n",
              "      <td>5.837</td>\n",
              "      <td>59.7</td>\n",
              "      <td>1.9976</td>\n",
              "      <td>24</td>\n",
              "      <td>666.0</td>\n",
              "      <td>20.2</td>\n",
              "      <td>24.65</td>\n",
              "      <td>15.69</td>\n",
              "    </tr>\n",
              "    <tr>\n",
              "      <th>3</th>\n",
              "      <td>3</td>\n",
              "      <td>0.22489</td>\n",
              "      <td>12.5</td>\n",
              "      <td>7.87</td>\n",
              "      <td>0</td>\n",
              "      <td>0.524</td>\n",
              "      <td>6.377</td>\n",
              "      <td>94.3</td>\n",
              "      <td>6.3467</td>\n",
              "      <td>5</td>\n",
              "      <td>311.0</td>\n",
              "      <td>15.2</td>\n",
              "      <td>392.52</td>\n",
              "      <td>20.45</td>\n",
              "    </tr>\n",
              "    <tr>\n",
              "      <th>4</th>\n",
              "      <td>4</td>\n",
              "      <td>1.80028</td>\n",
              "      <td>0.0</td>\n",
              "      <td>19.58</td>\n",
              "      <td>0</td>\n",
              "      <td>0.605</td>\n",
              "      <td>5.877</td>\n",
              "      <td>79.2</td>\n",
              "      <td>2.4259</td>\n",
              "      <td>5</td>\n",
              "      <td>403.0</td>\n",
              "      <td>14.7</td>\n",
              "      <td>227.61</td>\n",
              "      <td>12.14</td>\n",
              "    </tr>\n",
              "  </tbody>\n",
              "</table>\n",
              "</div>\n",
              "      <button class=\"colab-df-convert\" onclick=\"convertToInteractive('df-ca6c07ce-7be8-43cd-8acf-1ee21b9ae29b')\"\n",
              "              title=\"Convert this dataframe to an interactive table.\"\n",
              "              style=\"display:none;\">\n",
              "        \n",
              "  <svg xmlns=\"http://www.w3.org/2000/svg\" height=\"24px\"viewBox=\"0 0 24 24\"\n",
              "       width=\"24px\">\n",
              "    <path d=\"M0 0h24v24H0V0z\" fill=\"none\"/>\n",
              "    <path d=\"M18.56 5.44l.94 2.06.94-2.06 2.06-.94-2.06-.94-.94-2.06-.94 2.06-2.06.94zm-11 1L8.5 8.5l.94-2.06 2.06-.94-2.06-.94L8.5 2.5l-.94 2.06-2.06.94zm10 10l.94 2.06.94-2.06 2.06-.94-2.06-.94-.94-2.06-.94 2.06-2.06.94z\"/><path d=\"M17.41 7.96l-1.37-1.37c-.4-.4-.92-.59-1.43-.59-.52 0-1.04.2-1.43.59L10.3 9.45l-7.72 7.72c-.78.78-.78 2.05 0 2.83L4 21.41c.39.39.9.59 1.41.59.51 0 1.02-.2 1.41-.59l7.78-7.78 2.81-2.81c.8-.78.8-2.07 0-2.86zM5.41 20L4 18.59l7.72-7.72 1.47 1.35L5.41 20z\"/>\n",
              "  </svg>\n",
              "      </button>\n",
              "      \n",
              "  <style>\n",
              "    .colab-df-container {\n",
              "      display:flex;\n",
              "      flex-wrap:wrap;\n",
              "      gap: 12px;\n",
              "    }\n",
              "\n",
              "    .colab-df-convert {\n",
              "      background-color: #E8F0FE;\n",
              "      border: none;\n",
              "      border-radius: 50%;\n",
              "      cursor: pointer;\n",
              "      display: none;\n",
              "      fill: #1967D2;\n",
              "      height: 32px;\n",
              "      padding: 0 0 0 0;\n",
              "      width: 32px;\n",
              "    }\n",
              "\n",
              "    .colab-df-convert:hover {\n",
              "      background-color: #E2EBFA;\n",
              "      box-shadow: 0px 1px 2px rgba(60, 64, 67, 0.3), 0px 1px 3px 1px rgba(60, 64, 67, 0.15);\n",
              "      fill: #174EA6;\n",
              "    }\n",
              "\n",
              "    [theme=dark] .colab-df-convert {\n",
              "      background-color: #3B4455;\n",
              "      fill: #D2E3FC;\n",
              "    }\n",
              "\n",
              "    [theme=dark] .colab-df-convert:hover {\n",
              "      background-color: #434B5C;\n",
              "      box-shadow: 0px 1px 3px 1px rgba(0, 0, 0, 0.15);\n",
              "      filter: drop-shadow(0px 1px 2px rgba(0, 0, 0, 0.3));\n",
              "      fill: #FFFFFF;\n",
              "    }\n",
              "  </style>\n",
              "\n",
              "      <script>\n",
              "        const buttonEl =\n",
              "          document.querySelector('#df-ca6c07ce-7be8-43cd-8acf-1ee21b9ae29b button.colab-df-convert');\n",
              "        buttonEl.style.display =\n",
              "          google.colab.kernel.accessAllowed ? 'block' : 'none';\n",
              "\n",
              "        async function convertToInteractive(key) {\n",
              "          const element = document.querySelector('#df-ca6c07ce-7be8-43cd-8acf-1ee21b9ae29b');\n",
              "          const dataTable =\n",
              "            await google.colab.kernel.invokeFunction('convertToInteractive',\n",
              "                                                     [key], {});\n",
              "          if (!dataTable) return;\n",
              "\n",
              "          const docLinkHtml = 'Like what you see? Visit the ' +\n",
              "            '<a target=\"_blank\" href=https://colab.research.google.com/notebooks/data_table.ipynb>data table notebook</a>'\n",
              "            + ' to learn more about interactive tables.';\n",
              "          element.innerHTML = '';\n",
              "          dataTable['output_type'] = 'display_data';\n",
              "          await google.colab.output.renderOutput(dataTable, element);\n",
              "          const docLink = document.createElement('div');\n",
              "          docLink.innerHTML = docLinkHtml;\n",
              "          element.appendChild(docLink);\n",
              "        }\n",
              "      </script>\n",
              "    </div>\n",
              "  </div>\n",
              "  "
            ]
          },
          "metadata": {},
          "execution_count": 134
        }
      ]
    },
    {
      "cell_type": "markdown",
      "source": [
        "###In this test file, we don't have the 'MEDV' column, so we want to predict the value from our trained model."
      ],
      "metadata": {
        "id": "FmOj_hkALsdc"
      }
    },
    {
      "cell_type": "markdown",
      "source": [
        "Remove 'ID' column. The \"CHAS\" column also encoded."
      ],
      "metadata": {
        "id": "dA-BX9h2MDzq"
      }
    },
    {
      "cell_type": "code",
      "source": [
        "c = []\n",
        "for i in df1.keys():\n",
        "  c.append(i)\n",
        "print(c)"
      ],
      "metadata": {
        "colab": {
          "base_uri": "https://localhost:8080/"
        },
        "id": "t2_LZh17Lgax",
        "outputId": "10fa6ffa-4c3c-4a77-f19e-da160060d0b4"
      },
      "execution_count": 135,
      "outputs": [
        {
          "output_type": "stream",
          "name": "stdout",
          "text": [
            "['ID', 'CRIM', 'ZN', 'INDUS', 'CHAS', 'NOX', 'RM', 'AGE', 'DIS', 'RAD', 'TAX', 'PTRATIO', 'B', 'LSTAT']\n"
          ]
        }
      ]
    },
    {
      "cell_type": "code",
      "source": [
        "c.remove('ID')"
      ],
      "metadata": {
        "id": "D1WGJhe3MWn1"
      },
      "execution_count": 136,
      "outputs": []
    },
    {
      "cell_type": "markdown",
      "source": [
        "###Now take the feature value as the given data."
      ],
      "metadata": {
        "id": "PW0Kdw2gMmtk"
      }
    },
    {
      "cell_type": "code",
      "source": [
        "X = df1[c].values"
      ],
      "metadata": {
        "id": "hh8w-5noMduM"
      },
      "execution_count": 137,
      "outputs": []
    },
    {
      "cell_type": "code",
      "source": [
        "print(X)"
      ],
      "metadata": {
        "colab": {
          "base_uri": "https://localhost:8080/"
        },
        "id": "d8ek4OaxMgJz",
        "outputId": "06bd1706-5a3a-489a-cf7c-ff8a994411ee"
      },
      "execution_count": 138,
      "outputs": [
        {
          "output_type": "stream",
          "name": "stdout",
          "text": [
            "[[1.06120e-01 3.00000e+01 4.93000e+00 ... 1.66000e+01 3.94620e+02\n",
            "  1.24000e+01]\n",
            " [3.41090e-01 0.00000e+00 7.38000e+00 ... 1.96000e+01 3.96900e+02\n",
            "  6.12000e+00]\n",
            " [1.22472e+01 0.00000e+00 1.81000e+01 ... 2.02000e+01 2.46500e+01\n",
            "  1.56900e+01]\n",
            " ...\n",
            " [5.36000e-02 2.10000e+01 5.64000e+00 ... 1.68000e+01 3.96900e+02\n",
            "  5.28000e+00]\n",
            " [1.04690e-01 4.00000e+01 6.41000e+00 ... 1.76000e+01 3.89250e+02\n",
            "  6.05000e+00]\n",
            " [4.55587e+00 0.00000e+00 1.81000e+01 ... 2.02000e+01 3.54700e+02\n",
            "  7.12000e+00]]\n"
          ]
        }
      ]
    },
    {
      "cell_type": "code",
      "source": [
        "x_test_scale = scaler.transform(X)"
      ],
      "metadata": {
        "id": "KcyrKBdwMzQN"
      },
      "execution_count": 139,
      "outputs": []
    },
    {
      "cell_type": "markdown",
      "source": [
        "###In the next step our trained Regressor. We predict new value of target variable \"MEDV\"."
      ],
      "metadata": {
        "id": "nFAYDhFFNCUy"
      }
    },
    {
      "cell_type": "code",
      "source": [
        "y_testpred = regressor.predict(x_test_scale)"
      ],
      "metadata": {
        "id": "xGBwW3xnNBdd"
      },
      "execution_count": 140,
      "outputs": []
    },
    {
      "cell_type": "code",
      "source": [
        "print(y_testpred)"
      ],
      "metadata": {
        "colab": {
          "base_uri": "https://localhost:8080/"
        },
        "id": "kq4FIFrINil0",
        "outputId": "83a0ac47-9356-4ce9-8b9d-8e20d6fd2d8d"
      },
      "execution_count": 141,
      "outputs": [
        {
          "output_type": "stream",
          "name": "stdout",
          "text": [
            "[24.05635779 25.07320697 16.55316172 19.96597037 23.02856814 22.59750665\n",
            " 18.60463565 22.45214637 33.78195372 19.24244035 25.83867831 22.9445385\n",
            " 20.56809376 18.26914307 20.51459811 27.16290718 17.43803047 24.61345966\n",
            " 19.34793535 21.85643527 26.28825308 37.04694116 23.6984889   9.73112402\n",
            " 14.28690792  9.92108808 17.1237396  20.39555714 23.89059225 15.17765384\n",
            " 37.00677341 18.85520021 18.59151883 18.87677215 26.75521228 20.1558236\n",
            " 30.84543515 30.78670534 39.50854621 25.05350741 19.41954237 32.4300976\n",
            " 25.06686798 17.80178342 22.25169926 26.57737339 20.36847617 24.35585286\n",
            " 14.70930946 13.64365983 19.65467731 33.97615227 25.38998104 -3.42166233\n",
            " 12.84466528 16.33515585 20.73916134 13.13353396 10.77932669 18.5218214\n",
            " 19.98239011 20.37521169 32.86023983 24.52912821 36.32201247 32.83819368\n",
            " 15.96370867 21.52264667 25.53564246 16.83599629 19.79202138 17.17441216\n",
            " 28.98640103 14.87571694 20.70325739 17.09218614 20.31444214 32.08268267\n",
            " 17.71866558 33.49542065 32.9131133  42.00358318 28.54504035 31.17038135\n",
            " 18.20287764 32.99412453 16.83069961 29.18465511 16.32780652 19.26943955\n",
            " 15.48081893 20.35509068 14.78685731 23.04711317 20.45480158 25.10479737\n",
            " 36.19529716  3.60117733 13.73182424 28.01217579 24.25354209 16.74868292\n",
            " 27.7586357  36.43369942 12.4403349 ]\n"
          ]
        }
      ]
    },
    {
      "cell_type": "markdown",
      "source": [
        "###**Now we add a new predicted value to our DataFrame**"
      ],
      "metadata": {
        "id": "UOtS1vWZNtd1"
      }
    },
    {
      "cell_type": "code",
      "source": [
        "df1['output'] = y_testpred"
      ],
      "metadata": {
        "id": "60YNAlFONo-T"
      },
      "execution_count": 142,
      "outputs": []
    },
    {
      "cell_type": "code",
      "source": [
        "df1.head()"
      ],
      "metadata": {
        "colab": {
          "base_uri": "https://localhost:8080/",
          "height": 206
        },
        "id": "ctjKWm2LN53q",
        "outputId": "9186ba9a-ada8-4036-9f41-a10416576197"
      },
      "execution_count": 143,
      "outputs": [
        {
          "output_type": "execute_result",
          "data": {
            "text/plain": [
              "   ID      CRIM    ZN  INDUS  CHAS    NOX     RM   AGE     DIS  RAD    TAX  \\\n",
              "0   0   0.10612  30.0   4.93     0  0.428  6.095  65.1  6.3361    6  300.0   \n",
              "1   1   0.34109   0.0   7.38     0  0.493  6.415  40.1  4.7211    5  287.0   \n",
              "2   2  12.24720   0.0  18.10     0  0.584  5.837  59.7  1.9976   24  666.0   \n",
              "3   3   0.22489  12.5   7.87     0  0.524  6.377  94.3  6.3467    5  311.0   \n",
              "4   4   1.80028   0.0  19.58     0  0.605  5.877  79.2  2.4259    5  403.0   \n",
              "\n",
              "   PTRATIO       B  LSTAT     output  \n",
              "0     16.6  394.62  12.40  24.056358  \n",
              "1     19.6  396.90   6.12  25.073207  \n",
              "2     20.2   24.65  15.69  16.553162  \n",
              "3     15.2  392.52  20.45  19.965970  \n",
              "4     14.7  227.61  12.14  23.028568  "
            ],
            "text/html": [
              "\n",
              "  <div id=\"df-0589b93e-88c1-40c7-93da-00a079ea91d3\">\n",
              "    <div class=\"colab-df-container\">\n",
              "      <div>\n",
              "<style scoped>\n",
              "    .dataframe tbody tr th:only-of-type {\n",
              "        vertical-align: middle;\n",
              "    }\n",
              "\n",
              "    .dataframe tbody tr th {\n",
              "        vertical-align: top;\n",
              "    }\n",
              "\n",
              "    .dataframe thead th {\n",
              "        text-align: right;\n",
              "    }\n",
              "</style>\n",
              "<table border=\"1\" class=\"dataframe\">\n",
              "  <thead>\n",
              "    <tr style=\"text-align: right;\">\n",
              "      <th></th>\n",
              "      <th>ID</th>\n",
              "      <th>CRIM</th>\n",
              "      <th>ZN</th>\n",
              "      <th>INDUS</th>\n",
              "      <th>CHAS</th>\n",
              "      <th>NOX</th>\n",
              "      <th>RM</th>\n",
              "      <th>AGE</th>\n",
              "      <th>DIS</th>\n",
              "      <th>RAD</th>\n",
              "      <th>TAX</th>\n",
              "      <th>PTRATIO</th>\n",
              "      <th>B</th>\n",
              "      <th>LSTAT</th>\n",
              "      <th>output</th>\n",
              "    </tr>\n",
              "  </thead>\n",
              "  <tbody>\n",
              "    <tr>\n",
              "      <th>0</th>\n",
              "      <td>0</td>\n",
              "      <td>0.10612</td>\n",
              "      <td>30.0</td>\n",
              "      <td>4.93</td>\n",
              "      <td>0</td>\n",
              "      <td>0.428</td>\n",
              "      <td>6.095</td>\n",
              "      <td>65.1</td>\n",
              "      <td>6.3361</td>\n",
              "      <td>6</td>\n",
              "      <td>300.0</td>\n",
              "      <td>16.6</td>\n",
              "      <td>394.62</td>\n",
              "      <td>12.40</td>\n",
              "      <td>24.056358</td>\n",
              "    </tr>\n",
              "    <tr>\n",
              "      <th>1</th>\n",
              "      <td>1</td>\n",
              "      <td>0.34109</td>\n",
              "      <td>0.0</td>\n",
              "      <td>7.38</td>\n",
              "      <td>0</td>\n",
              "      <td>0.493</td>\n",
              "      <td>6.415</td>\n",
              "      <td>40.1</td>\n",
              "      <td>4.7211</td>\n",
              "      <td>5</td>\n",
              "      <td>287.0</td>\n",
              "      <td>19.6</td>\n",
              "      <td>396.90</td>\n",
              "      <td>6.12</td>\n",
              "      <td>25.073207</td>\n",
              "    </tr>\n",
              "    <tr>\n",
              "      <th>2</th>\n",
              "      <td>2</td>\n",
              "      <td>12.24720</td>\n",
              "      <td>0.0</td>\n",
              "      <td>18.10</td>\n",
              "      <td>0</td>\n",
              "      <td>0.584</td>\n",
              "      <td>5.837</td>\n",
              "      <td>59.7</td>\n",
              "      <td>1.9976</td>\n",
              "      <td>24</td>\n",
              "      <td>666.0</td>\n",
              "      <td>20.2</td>\n",
              "      <td>24.65</td>\n",
              "      <td>15.69</td>\n",
              "      <td>16.553162</td>\n",
              "    </tr>\n",
              "    <tr>\n",
              "      <th>3</th>\n",
              "      <td>3</td>\n",
              "      <td>0.22489</td>\n",
              "      <td>12.5</td>\n",
              "      <td>7.87</td>\n",
              "      <td>0</td>\n",
              "      <td>0.524</td>\n",
              "      <td>6.377</td>\n",
              "      <td>94.3</td>\n",
              "      <td>6.3467</td>\n",
              "      <td>5</td>\n",
              "      <td>311.0</td>\n",
              "      <td>15.2</td>\n",
              "      <td>392.52</td>\n",
              "      <td>20.45</td>\n",
              "      <td>19.965970</td>\n",
              "    </tr>\n",
              "    <tr>\n",
              "      <th>4</th>\n",
              "      <td>4</td>\n",
              "      <td>1.80028</td>\n",
              "      <td>0.0</td>\n",
              "      <td>19.58</td>\n",
              "      <td>0</td>\n",
              "      <td>0.605</td>\n",
              "      <td>5.877</td>\n",
              "      <td>79.2</td>\n",
              "      <td>2.4259</td>\n",
              "      <td>5</td>\n",
              "      <td>403.0</td>\n",
              "      <td>14.7</td>\n",
              "      <td>227.61</td>\n",
              "      <td>12.14</td>\n",
              "      <td>23.028568</td>\n",
              "    </tr>\n",
              "  </tbody>\n",
              "</table>\n",
              "</div>\n",
              "      <button class=\"colab-df-convert\" onclick=\"convertToInteractive('df-0589b93e-88c1-40c7-93da-00a079ea91d3')\"\n",
              "              title=\"Convert this dataframe to an interactive table.\"\n",
              "              style=\"display:none;\">\n",
              "        \n",
              "  <svg xmlns=\"http://www.w3.org/2000/svg\" height=\"24px\"viewBox=\"0 0 24 24\"\n",
              "       width=\"24px\">\n",
              "    <path d=\"M0 0h24v24H0V0z\" fill=\"none\"/>\n",
              "    <path d=\"M18.56 5.44l.94 2.06.94-2.06 2.06-.94-2.06-.94-.94-2.06-.94 2.06-2.06.94zm-11 1L8.5 8.5l.94-2.06 2.06-.94-2.06-.94L8.5 2.5l-.94 2.06-2.06.94zm10 10l.94 2.06.94-2.06 2.06-.94-2.06-.94-.94-2.06-.94 2.06-2.06.94z\"/><path d=\"M17.41 7.96l-1.37-1.37c-.4-.4-.92-.59-1.43-.59-.52 0-1.04.2-1.43.59L10.3 9.45l-7.72 7.72c-.78.78-.78 2.05 0 2.83L4 21.41c.39.39.9.59 1.41.59.51 0 1.02-.2 1.41-.59l7.78-7.78 2.81-2.81c.8-.78.8-2.07 0-2.86zM5.41 20L4 18.59l7.72-7.72 1.47 1.35L5.41 20z\"/>\n",
              "  </svg>\n",
              "      </button>\n",
              "      \n",
              "  <style>\n",
              "    .colab-df-container {\n",
              "      display:flex;\n",
              "      flex-wrap:wrap;\n",
              "      gap: 12px;\n",
              "    }\n",
              "\n",
              "    .colab-df-convert {\n",
              "      background-color: #E8F0FE;\n",
              "      border: none;\n",
              "      border-radius: 50%;\n",
              "      cursor: pointer;\n",
              "      display: none;\n",
              "      fill: #1967D2;\n",
              "      height: 32px;\n",
              "      padding: 0 0 0 0;\n",
              "      width: 32px;\n",
              "    }\n",
              "\n",
              "    .colab-df-convert:hover {\n",
              "      background-color: #E2EBFA;\n",
              "      box-shadow: 0px 1px 2px rgba(60, 64, 67, 0.3), 0px 1px 3px 1px rgba(60, 64, 67, 0.15);\n",
              "      fill: #174EA6;\n",
              "    }\n",
              "\n",
              "    [theme=dark] .colab-df-convert {\n",
              "      background-color: #3B4455;\n",
              "      fill: #D2E3FC;\n",
              "    }\n",
              "\n",
              "    [theme=dark] .colab-df-convert:hover {\n",
              "      background-color: #434B5C;\n",
              "      box-shadow: 0px 1px 3px 1px rgba(0, 0, 0, 0.15);\n",
              "      filter: drop-shadow(0px 1px 2px rgba(0, 0, 0, 0.3));\n",
              "      fill: #FFFFFF;\n",
              "    }\n",
              "  </style>\n",
              "\n",
              "      <script>\n",
              "        const buttonEl =\n",
              "          document.querySelector('#df-0589b93e-88c1-40c7-93da-00a079ea91d3 button.colab-df-convert');\n",
              "        buttonEl.style.display =\n",
              "          google.colab.kernel.accessAllowed ? 'block' : 'none';\n",
              "\n",
              "        async function convertToInteractive(key) {\n",
              "          const element = document.querySelector('#df-0589b93e-88c1-40c7-93da-00a079ea91d3');\n",
              "          const dataTable =\n",
              "            await google.colab.kernel.invokeFunction('convertToInteractive',\n",
              "                                                     [key], {});\n",
              "          if (!dataTable) return;\n",
              "\n",
              "          const docLinkHtml = 'Like what you see? Visit the ' +\n",
              "            '<a target=\"_blank\" href=https://colab.research.google.com/notebooks/data_table.ipynb>data table notebook</a>'\n",
              "            + ' to learn more about interactive tables.';\n",
              "          element.innerHTML = '';\n",
              "          dataTable['output_type'] = 'display_data';\n",
              "          await google.colab.output.renderOutput(dataTable, element);\n",
              "          const docLink = document.createElement('div');\n",
              "          docLink.innerHTML = docLinkHtml;\n",
              "          element.appendChild(docLink);\n",
              "        }\n",
              "      </script>\n",
              "    </div>\n",
              "  </div>\n",
              "  "
            ]
          },
          "metadata": {},
          "execution_count": 143
        }
      ]
    },
    {
      "cell_type": "markdown",
      "source": [
        "##**Save the CSV file as output.csv**"
      ],
      "metadata": {
        "id": "l1miIpnSN_Kr"
      }
    },
    {
      "cell_type": "code",
      "source": [
        "df1 = df1[['ID','output']]"
      ],
      "metadata": {
        "id": "gf_RSEkaOQ3X"
      },
      "execution_count": 144,
      "outputs": []
    },
    {
      "cell_type": "code",
      "source": [
        "df1"
      ],
      "metadata": {
        "colab": {
          "base_uri": "https://localhost:8080/",
          "height": 424
        },
        "id": "t_rlWTaSXxS0",
        "outputId": "e6bfbcbb-3ed9-4e8f-f337-9d97500278e1"
      },
      "execution_count": 145,
      "outputs": [
        {
          "output_type": "execute_result",
          "data": {
            "text/plain": [
              "      ID     output\n",
              "0      0  24.056358\n",
              "1      1  25.073207\n",
              "2      2  16.553162\n",
              "3      3  19.965970\n",
              "4      4  23.028568\n",
              "..   ...        ...\n",
              "100  100  24.253542\n",
              "101  101  16.748683\n",
              "102  102  27.758636\n",
              "103  103  36.433699\n",
              "104  104  12.440335\n",
              "\n",
              "[105 rows x 2 columns]"
            ],
            "text/html": [
              "\n",
              "  <div id=\"df-2fca0ea2-002e-4548-a284-2f3b3c254cc2\">\n",
              "    <div class=\"colab-df-container\">\n",
              "      <div>\n",
              "<style scoped>\n",
              "    .dataframe tbody tr th:only-of-type {\n",
              "        vertical-align: middle;\n",
              "    }\n",
              "\n",
              "    .dataframe tbody tr th {\n",
              "        vertical-align: top;\n",
              "    }\n",
              "\n",
              "    .dataframe thead th {\n",
              "        text-align: right;\n",
              "    }\n",
              "</style>\n",
              "<table border=\"1\" class=\"dataframe\">\n",
              "  <thead>\n",
              "    <tr style=\"text-align: right;\">\n",
              "      <th></th>\n",
              "      <th>ID</th>\n",
              "      <th>output</th>\n",
              "    </tr>\n",
              "  </thead>\n",
              "  <tbody>\n",
              "    <tr>\n",
              "      <th>0</th>\n",
              "      <td>0</td>\n",
              "      <td>24.056358</td>\n",
              "    </tr>\n",
              "    <tr>\n",
              "      <th>1</th>\n",
              "      <td>1</td>\n",
              "      <td>25.073207</td>\n",
              "    </tr>\n",
              "    <tr>\n",
              "      <th>2</th>\n",
              "      <td>2</td>\n",
              "      <td>16.553162</td>\n",
              "    </tr>\n",
              "    <tr>\n",
              "      <th>3</th>\n",
              "      <td>3</td>\n",
              "      <td>19.965970</td>\n",
              "    </tr>\n",
              "    <tr>\n",
              "      <th>4</th>\n",
              "      <td>4</td>\n",
              "      <td>23.028568</td>\n",
              "    </tr>\n",
              "    <tr>\n",
              "      <th>...</th>\n",
              "      <td>...</td>\n",
              "      <td>...</td>\n",
              "    </tr>\n",
              "    <tr>\n",
              "      <th>100</th>\n",
              "      <td>100</td>\n",
              "      <td>24.253542</td>\n",
              "    </tr>\n",
              "    <tr>\n",
              "      <th>101</th>\n",
              "      <td>101</td>\n",
              "      <td>16.748683</td>\n",
              "    </tr>\n",
              "    <tr>\n",
              "      <th>102</th>\n",
              "      <td>102</td>\n",
              "      <td>27.758636</td>\n",
              "    </tr>\n",
              "    <tr>\n",
              "      <th>103</th>\n",
              "      <td>103</td>\n",
              "      <td>36.433699</td>\n",
              "    </tr>\n",
              "    <tr>\n",
              "      <th>104</th>\n",
              "      <td>104</td>\n",
              "      <td>12.440335</td>\n",
              "    </tr>\n",
              "  </tbody>\n",
              "</table>\n",
              "<p>105 rows × 2 columns</p>\n",
              "</div>\n",
              "      <button class=\"colab-df-convert\" onclick=\"convertToInteractive('df-2fca0ea2-002e-4548-a284-2f3b3c254cc2')\"\n",
              "              title=\"Convert this dataframe to an interactive table.\"\n",
              "              style=\"display:none;\">\n",
              "        \n",
              "  <svg xmlns=\"http://www.w3.org/2000/svg\" height=\"24px\"viewBox=\"0 0 24 24\"\n",
              "       width=\"24px\">\n",
              "    <path d=\"M0 0h24v24H0V0z\" fill=\"none\"/>\n",
              "    <path d=\"M18.56 5.44l.94 2.06.94-2.06 2.06-.94-2.06-.94-.94-2.06-.94 2.06-2.06.94zm-11 1L8.5 8.5l.94-2.06 2.06-.94-2.06-.94L8.5 2.5l-.94 2.06-2.06.94zm10 10l.94 2.06.94-2.06 2.06-.94-2.06-.94-.94-2.06-.94 2.06-2.06.94z\"/><path d=\"M17.41 7.96l-1.37-1.37c-.4-.4-.92-.59-1.43-.59-.52 0-1.04.2-1.43.59L10.3 9.45l-7.72 7.72c-.78.78-.78 2.05 0 2.83L4 21.41c.39.39.9.59 1.41.59.51 0 1.02-.2 1.41-.59l7.78-7.78 2.81-2.81c.8-.78.8-2.07 0-2.86zM5.41 20L4 18.59l7.72-7.72 1.47 1.35L5.41 20z\"/>\n",
              "  </svg>\n",
              "      </button>\n",
              "      \n",
              "  <style>\n",
              "    .colab-df-container {\n",
              "      display:flex;\n",
              "      flex-wrap:wrap;\n",
              "      gap: 12px;\n",
              "    }\n",
              "\n",
              "    .colab-df-convert {\n",
              "      background-color: #E8F0FE;\n",
              "      border: none;\n",
              "      border-radius: 50%;\n",
              "      cursor: pointer;\n",
              "      display: none;\n",
              "      fill: #1967D2;\n",
              "      height: 32px;\n",
              "      padding: 0 0 0 0;\n",
              "      width: 32px;\n",
              "    }\n",
              "\n",
              "    .colab-df-convert:hover {\n",
              "      background-color: #E2EBFA;\n",
              "      box-shadow: 0px 1px 2px rgba(60, 64, 67, 0.3), 0px 1px 3px 1px rgba(60, 64, 67, 0.15);\n",
              "      fill: #174EA6;\n",
              "    }\n",
              "\n",
              "    [theme=dark] .colab-df-convert {\n",
              "      background-color: #3B4455;\n",
              "      fill: #D2E3FC;\n",
              "    }\n",
              "\n",
              "    [theme=dark] .colab-df-convert:hover {\n",
              "      background-color: #434B5C;\n",
              "      box-shadow: 0px 1px 3px 1px rgba(0, 0, 0, 0.15);\n",
              "      filter: drop-shadow(0px 1px 2px rgba(0, 0, 0, 0.3));\n",
              "      fill: #FFFFFF;\n",
              "    }\n",
              "  </style>\n",
              "\n",
              "      <script>\n",
              "        const buttonEl =\n",
              "          document.querySelector('#df-2fca0ea2-002e-4548-a284-2f3b3c254cc2 button.colab-df-convert');\n",
              "        buttonEl.style.display =\n",
              "          google.colab.kernel.accessAllowed ? 'block' : 'none';\n",
              "\n",
              "        async function convertToInteractive(key) {\n",
              "          const element = document.querySelector('#df-2fca0ea2-002e-4548-a284-2f3b3c254cc2');\n",
              "          const dataTable =\n",
              "            await google.colab.kernel.invokeFunction('convertToInteractive',\n",
              "                                                     [key], {});\n",
              "          if (!dataTable) return;\n",
              "\n",
              "          const docLinkHtml = 'Like what you see? Visit the ' +\n",
              "            '<a target=\"_blank\" href=https://colab.research.google.com/notebooks/data_table.ipynb>data table notebook</a>'\n",
              "            + ' to learn more about interactive tables.';\n",
              "          element.innerHTML = '';\n",
              "          dataTable['output_type'] = 'display_data';\n",
              "          await google.colab.output.renderOutput(dataTable, element);\n",
              "          const docLink = document.createElement('div');\n",
              "          docLink.innerHTML = docLinkHtml;\n",
              "          element.appendChild(docLink);\n",
              "        }\n",
              "      </script>\n",
              "    </div>\n",
              "  </div>\n",
              "  "
            ]
          },
          "metadata": {},
          "execution_count": 145
        }
      ]
    },
    {
      "cell_type": "code",
      "source": [
        "df1.to_csv('Output.csv', index=False)"
      ],
      "metadata": {
        "id": "i0PqSqFON7ai"
      },
      "execution_count": 146,
      "outputs": []
    },
    {
      "cell_type": "markdown",
      "source": [
        "#**The output.csv file in the folder :)**"
      ],
      "metadata": {
        "id": "xmw9Xf3rYbCs"
      }
    },
    {
      "cell_type": "markdown",
      "source": [
        "#**Gradient Descent**"
      ],
      "metadata": {
        "id": "33JGRR1hCwLb"
      }
    },
    {
      "cell_type": "code",
      "source": [
        "X=df1[\"ID\"]\n",
        "y=df1[\"output\"]"
      ],
      "metadata": {
        "id": "Mqq1uAo8YCdE"
      },
      "execution_count": 148,
      "outputs": []
    },
    {
      "cell_type": "code",
      "source": [
        "#cost function \n",
        "def single_point_cost(x,y,w):   \n",
        "    y_pred= w * x\n",
        "    cost=( y_pred - y) **2  #linear regression\n",
        "    return cost\n",
        "#calculating derivative of each point\n",
        "#grad function\n",
        "def grad(x,y,w,):\n",
        "    grad_w=2 * x * ((w * x) - y ) # derevative with respect to x\n",
        "    return grad_w"
      ],
      "metadata": {
        "id": "JOCFgaMgC8n3"
      },
      "execution_count": 149,
      "outputs": []
    },
    {
      "cell_type": "code",
      "source": [
        "w=0 # here we have  only one parameter\n",
        "gamma=0.000001 #learning rate\n",
        "all_costs=[]\n",
        "for k in range(60):\n",
        "    cost=0\n",
        "    for i in range(len(X)):\n",
        "        a=single_point_cost(X[i],y[i],w)\n",
        "        cost+=a\n",
        "    \n",
        "    cost1=cost/len(X)  #average cost\n",
        "    all_costs.append(cost1)\n",
        "    grad_w=0\n",
        "    for j in range(len(X)):\n",
        "        b=grad(X[j],y[j],w)\n",
        "        grad_w+=b\n",
        "    grad_w1=grad_w/len(X)  #avearge grad\n",
        "    w= w -  (gamma * grad_w1)  # in batch gradient descent update happens only one time"
      ],
      "metadata": {
        "id": "YeLchW8VDCma"
      },
      "execution_count": 150,
      "outputs": []
    },
    {
      "cell_type": "code",
      "source": [
        "print(\"optimal value w is \",w) #optimal value of w\n",
        "epochs=np.arange(60)\n",
        "plt.plot(epochs,all_costs)"
      ],
      "metadata": {
        "colab": {
          "base_uri": "https://localhost:8080/",
          "height": 303
        },
        "id": "pIlCWC6lDFZL",
        "outputId": "728b3638-39ff-476e-d28d-32a82a9db30d"
      },
      "execution_count": 151,
      "outputs": [
        {
          "output_type": "stream",
          "name": "stdout",
          "text": [
            "optimal value w is  0.11410879629461801\n"
          ]
        },
        {
          "output_type": "execute_result",
          "data": {
            "text/plain": [
              "[<matplotlib.lines.Line2D at 0x7fadf76a0f10>]"
            ]
          },
          "metadata": {},
          "execution_count": 151
        },
        {
          "output_type": "display_data",
          "data": {
            "text/plain": [
              "<Figure size 432x288 with 1 Axes>"
            ],
            "image/png": "[encoded data removed]"
          },
          "metadata": {}
        }
      ]
    },
    {
      "cell_type": "code",
      "source": [
        "all_costs23=[]\n",
        "w=0\n",
        "gamma=0.000001\n",
        "for k in range(60):\n",
        "    for i in range(len(X)):\n",
        "        cost21=single_point_cost(X[i],y[i],w)\n",
        "        grad_w21=grad(X[i],y[i],w)\n",
        "        w= w- (gamma * grad_w21) # in sgd update takes place after every point\n",
        "    all_costs23.append(cost21)\n",
        "\n",
        "print(\"optimal value w is \",w) #optimal value of w\n",
        "plt.xlabel(\"epochs\")\n",
        "plt.ylabel(\"loss\")\n",
        "plt.plot(epochs,all_costs23)"
      ],
      "metadata": {
        "colab": {
          "base_uri": "https://localhost:8080/",
          "height": 320
        },
        "id": "glgLNZ-1DH8z",
        "outputId": "349d0926-aec1-4563-ea7f-a25e834a45ae"
      },
      "execution_count": 152,
      "outputs": [
        {
          "output_type": "stream",
          "name": "stdout",
          "text": [
            "optimal value w is  0.29981108882058694\n"
          ]
        },
        {
          "output_type": "execute_result",
          "data": {
            "text/plain": [
              "[<matplotlib.lines.Line2D at 0x7fadf7620d50>]"
            ]
          },
          "metadata": {},
          "execution_count": 152
        },
        {
          "output_type": "display_data",
          "data": {
            "text/plain": [
              "<Figure size 432x288 with 1 Axes>"
            ],
            "image/png": "[encoded data removed]"
          },
          "metadata": {}
        }
      ]
    },
    {
      "cell_type": "code",
      "source": [
        "# let our batch size = 5\n",
        "#so we will have 2 batches because n=10  and updates will happen 2 times \n",
        "w=0\n",
        "gamma=0.000001\n",
        "batch_size= 5\n",
        "all_costs41=[]\n",
        "for k in range(60):\n",
        "    for j in range(int(len(X)/batch_size)):\n",
        "        cost4=0\n",
        "        for i in range(batch_size):\n",
        "            z1=single_point_cost(X[i],y[i],w)\n",
        "            cost4+=z1\n",
        "        if j==1:\n",
        "            all_costs41.append(cost4/batch_size) #avearge cost of that batch\n",
        "        grad_w41=0\n",
        "        for n in range(batch_size):\n",
        "            f1=grad(X[i],y[i],w)\n",
        "            grad_w41+=f1\n",
        "    \n",
        "        grad_w42=grad_w41/batch_size  #average grad of that function\n",
        "\n",
        "        w= w- (gamma * grad_w42)  # update takes place after every batch\n",
        "\n",
        "print(\"optimal value w is \",w) #optimal value of w\n",
        "plt.xlabel(\"epochs\")\n",
        "plt.ylabel(\"loss\")\n",
        "plt.plot(epochs,all_costs41)"
      ],
      "metadata": {
        "colab": {
          "base_uri": "https://localhost:8080/",
          "height": 320
        },
        "id": "3R2Jb9dvDLhi",
        "outputId": "d9815256-c25c-4d4f-bdfe-b6e6134d9866"
      },
      "execution_count": 153,
      "outputs": [
        {
          "output_type": "stream",
          "name": "stdout",
          "text": [
            "optimal value w is  0.22751410064164168\n"
          ]
        },
        {
          "output_type": "execute_result",
          "data": {
            "text/plain": [
              "[<matplotlib.lines.Line2D at 0x7fadf6588850>]"
            ]
          },
          "metadata": {},
          "execution_count": 153
        },
        {
          "output_type": "display_data",
          "data": {
            "text/plain": [
              "<Figure size 432x288 with 1 Axes>"
            ],
            "image/png": "[encoded data removed]"
          },
          "metadata": {}
        }
      ]
    },
    {
      "cell_type": "code",
      "source": [
        "plt.figure(figsize=(12,8))\n",
        "plt.plot(epochs,all_costs,c='r',label=\"batch gd\")\n",
        "plt.plot(epochs,all_costs23,c='b',label=\"sgd\")\n",
        "plt.plot(epochs,all_costs41,c='g',label=\"mini batch gd\")\n",
        "plt.xlabel(\"epochs\")\n",
        "plt.ylabel(\"final_loss\")\n",
        "plt.legend()\n",
        "plt.show()"
      ],
      "metadata": {
        "colab": {
          "base_uri": "https://localhost:8080/",
          "height": 502
        },
        "id": "qkrcHF1rDO6s",
        "outputId": "25d19be9-745a-4f6b-a9a0-12224e1082a0"
      },
      "execution_count": 154,
      "outputs": [
        {
          "output_type": "display_data",
          "data": {
            "text/plain": [
              "<Figure size 864x576 with 1 Axes>"
            ],
            "image/png": "[encoded data removed]"
          },
          "metadata": {}
        }
      ]
    },
    {
      "cell_type": "code",
      "source": [],
      "metadata": {
        "id": "2bq0XZ3_DSWD"
      },
      "execution_count": null,
      "outputs": []
    }
  ],
  "metadata": {
    "colab": {
      "collapsed_sections": [],
      "provenance": []
    },
    "kernelspec": {
      "display_name": "Python 3",
      "name": "python3"
    },
    "language_info": {
      "name": "python"
    }
  },
  "nbformat": 4,
  "nbformat_minor": 0
}